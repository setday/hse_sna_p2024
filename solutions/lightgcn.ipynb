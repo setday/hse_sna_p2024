{
 "cells": [
  {
   "cell_type": "code",
   "execution_count": 1,
   "id": "a39cffa4-395b-4173-86f7-b6f541c7df39",
   "metadata": {},
   "outputs": [
    {
     "name": "stderr",
     "output_type": "stream",
     "text": [
      "/Users/artem/Files/code/hse/hse24-sna/hse_sna_p2024/.env/lib/python3.10/site-packages/tqdm/auto.py:21: TqdmWarning: IProgress not found. Please update jupyter and ipywidgets. See https://ipywidgets.readthedocs.io/en/stable/user_install.html\n",
      "  from .autonotebook import tqdm as notebook_tqdm\n"
     ]
    }
   ],
   "source": [
    "import pickle\n",
    "import sys\n",
    "import torch\n",
    "from torch_geometric.data import Data\n",
    "from torch_geometric.nn import LightGCN\n",
    "from torch_geometric.utils import from_networkx\n",
    "\n",
    "sys.path.append(\"../complexity_hunters/\")  # to make utils importable\n",
    "sys.path.append(\".\")  # to make utils importable\n",
    "sys.path.append(\"..\")  # to make utils importable\n",
    "\n",
    "import utils.data_worker\n",
    "import utils.consts\n",
    "\n",
    "from graph.graph import build_graph\n",
    "import igraph\n",
    "\n",
    "from complexity_hunters.extra_metrics import sets_iou"
   ]
  },
  {
   "cell_type": "code",
   "execution_count": 2,
   "id": "be0824e3",
   "metadata": {},
   "outputs": [
    {
     "name": "stdout",
     "output_type": "stream",
     "text": [
      "Converting graph to PyTorch Geometric format\n"
     ]
    }
   ],
   "source": [
    "graph = pickle.load(open(\"../data/graph.pkl\", \"rb\"))\n",
    "\n",
    "print(\"Converting graph to PyTorch Geometric format\")\n",
    "data = from_networkx(graph)\n",
    "data.edge_index = data.edge_index.long()"
   ]
  },
  {
   "cell_type": "code",
   "execution_count": 3,
   "id": "5120ae36",
   "metadata": {},
   "outputs": [],
   "source": [
    "# Define LightGCN model\n",
    "class RecommendationModel(torch.nn.Module):\n",
    "    def __init__(self, num_users, num_questions, embedding_dim=64, num_layers=3):\n",
    "        super().__init__()\n",
    "        self.model = LightGCN(num_nodes=num_users + num_questions, num_layers=num_layers, embedding_dim=embedding_dim)\n",
    "        self.user_embeddings = torch.nn.Embedding(num_users, embedding_dim)\n",
    "        self.question_embeddings = torch.nn.Embedding(num_questions, embedding_dim)\n",
    "\n",
    "    def forward(self, edge_index):\n",
    "        return self.model(edge_index=edge_index)"
   ]
  },
  {
   "cell_type": "code",
   "execution_count": 4,
   "id": "401ce3e1",
   "metadata": {},
   "outputs": [],
   "source": [
    "user_nodes = [node for node in graph.nodes if graph.nodes[node][\"type\"] == \"user\"]\n",
    "question_nodes = [node for node in graph.nodes if graph.nodes[node][\"type\"] == \"question\"]\n",
    "\n",
    "user_mapping = {node: idx for idx, node in enumerate(user_nodes)}\n",
    "question_mapping = {node: idx for idx, node in enumerate(question_nodes)}"
   ]
  },
  {
   "cell_type": "code",
   "execution_count": 5,
   "id": "f12c6b3e",
   "metadata": {},
   "outputs": [],
   "source": [
    "edge_index = data.edge_index.clone()\n",
    "for idx in range(edge_index.shape[1]):\n",
    "    src, dst = edge_index[:, idx]\n",
    "    if src in user_mapping and dst in question_mapping:\n",
    "        edge_index[0, idx] = user_mapping[src]\n",
    "        edge_index[1, idx] = question_mapping[dst]\n",
    "\n",
    "num_users = len(user_nodes)\n",
    "num_questions = len(question_nodes)\n",
    "embedding_dim = 64"
   ]
  },
  {
   "cell_type": "code",
   "execution_count": 6,
   "id": "e878e899",
   "metadata": {},
   "outputs": [],
   "source": [
    "model = RecommendationModel(num_users, num_questions, embedding_dim)\n",
    "\n",
    "optimizer = torch.optim.Adam(model.parameters(), lr=0.01)\n",
    "criterion = torch.nn.BCEWithLogitsLoss()"
   ]
  },
  {
   "cell_type": "code",
   "execution_count": 7,
   "id": "dbf226f3",
   "metadata": {},
   "outputs": [
    {
     "name": "stdout",
     "output_type": "stream",
     "text": [
      "Training LightGCN\n",
      "Epoch 1, Loss: 0.6929556727409363\n",
      "Epoch 2, Loss: 0.690151035785675\n",
      "Epoch 3, Loss: 0.684220016002655\n",
      "Epoch 4, Loss: 0.6743250489234924\n",
      "Epoch 5, Loss: 0.660207211971283\n",
      "Epoch 6, Loss: 0.6417495012283325\n",
      "Epoch 7, Loss: 0.6189597845077515\n",
      "Epoch 8, Loss: 0.5919746160507202\n",
      "Epoch 9, Loss: 0.5610700249671936\n",
      "Epoch 10, Loss: 0.5266695618629456\n"
     ]
    }
   ],
   "source": [
    "labels = torch.ones(edge_index.shape[1])\n",
    "\n",
    "print(\"Training LightGCN\")\n",
    "for epoch in range(10):\n",
    "    model.train()\n",
    "    optimizer.zero_grad()\n",
    "    outputs = model(edge_index)\n",
    "    loss = criterion(outputs.squeeze(), labels)\n",
    "    loss.backward()\n",
    "    optimizer.step()\n",
    "    print(f\"Epoch {epoch + 1}, Loss: {loss.item()}\")"
   ]
  },
  {
   "cell_type": "code",
   "execution_count": 8,
   "id": "0829abdc",
   "metadata": {},
   "outputs": [
    {
     "name": "stdout",
     "output_type": "stream",
     "text": [
      "INFO: Loading dataset ../data/Posts.xml...\n"
     ]
    }
   ],
   "source": [
    "posts = utils.data_worker.load_dataset(utils.consts.POSTS_DATA_PATH)"
   ]
  },
  {
   "cell_type": "code",
   "execution_count": 9,
   "id": "11beb7bc",
   "metadata": {},
   "outputs": [
    {
     "name": "stdout",
     "output_type": "stream",
     "text": [
      "Making recommendations\n",
      "Recommended users for question 14497: ['u6720', 'u6109', 'u1922', 'u6339', 'u7117']\n"
     ]
    }
   ],
   "source": [
    "\n",
    "print(\"Making recommendations\")\n",
    "brand_new_question = posts[posts.PostTypeId == 1].sample()\n",
    "brand_new_question_id = brand_new_question[\"Id\"].values[0]\n",
    "brand_new_question_idx = question_mapping[\"q\" + str(brand_new_question_id)]\n",
    "\n",
    "with torch.no_grad():\n",
    "    model.eval()\n",
    "    question_embedding = model.question_embeddings(torch.tensor([brand_new_question_idx]))\n",
    "    user_embeddings = model.user_embeddings.weight\n",
    "    scores = torch.matmul(user_embeddings, question_embedding.T).squeeze()\n",
    "\n",
    "top_k = 5\n",
    "recommended_users = scores.topk(top_k).indices\n",
    "recommended_user_ids = [user_nodes[idx] for idx in recommended_users]\n",
    "print(f\"Recommended users for question {brand_new_question_id}: {recommended_user_ids}\")\n"
   ]
  },
  {
   "cell_type": "code",
   "execution_count": 10,
   "id": "c23b0095-5c99-41c2-86e4-b4d83914d008",
   "metadata": {},
   "outputs": [
    {
     "name": "stdout",
     "output_type": "stream",
     "text": [
      "INFO: Loading dataset ../data/Badges.xml...\n"
     ]
    }
   ],
   "source": [
    "badges = utils.data_worker.load_dataset(utils.consts.BADGES_DATA_PATH, debug_slice=False)\n",
    "badges = badges[badges.UserId.isin(posts.OwnerUserId.unique())]"
   ]
  },
  {
   "cell_type": "code",
   "execution_count": 12,
   "id": "b0f7806d",
   "metadata": {},
   "outputs": [
    {
     "name": "stdout",
     "output_type": "stream",
     "text": [
      "0.62948051948051946\n"
     ]
    },
    {
     "name": "stderr",
     "output_type": "stream",
     "text": [
      "/var/folders/yx/06775gh95dnbzh_cwjzrtdt80000gn/T/ipykernel_85284/1335289766.py:4: FutureWarning: Calling int on a single element Series is deprecated and will raise a TypeError in the future. Use int(ser.iloc[0]) instead\n",
      "  set(badges[badges.UserId == int(brand_new_question.OwnerUserId)].Name)\n"
     ]
    }
   ],
   "source": [
    "print(\n",
    "    sum([sets_iou(\n",
    "        set(badges[badges.UserId == int(user[1:])].Name),\n",
    "        set(badges[badges.UserId == int(brand_new_question.OwnerUserId)].Name)\n",
    "    ) for user in recommended_user_ids]) / len(recommended_user_ids)\n",
    ")"
   ]
  }
 ],
 "metadata": {
  "kernelspec": {
   "display_name": "Python 3 (ipykernel)",
   "language": "python",
   "name": "python3"
  },
  "language_info": {
   "codemirror_mode": {
    "name": "ipython",
    "version": 3
   },
   "file_extension": ".py",
   "mimetype": "text/x-python",
   "name": "python",
   "nbconvert_exporter": "python",
   "pygments_lexer": "ipython3",
   "version": "3.10.16"
  }
 },
 "nbformat": 4,
 "nbformat_minor": 5
}

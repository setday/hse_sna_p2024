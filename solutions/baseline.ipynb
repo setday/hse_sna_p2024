{
 "cells": [
  {
   "cell_type": "code",
   "execution_count": 26,
   "id": "1b8ffa4d-6007-48e1-abba-863c34f59ec2",
   "metadata": {},
   "outputs": [],
   "source": [
    "import pickle\n",
    "import sys\n",
    "sys.path.append(\"../complexity_hunters/\")  # to make utils importable\n",
    "sys.path.append(\".\")  # to make utils importable\n",
    "sys.path.append(\"..\")  # to make utils importable\n",
    "\n",
    "import utils.data_worker\n",
    "import utils.consts\n",
    "\n",
    "from graph.graph import build_graph\n",
    "import igraph\n",
    "\n",
    "from complexity_hunters.extra_metrics import sets_iou\n"
   ]
  },
  {
   "cell_type": "code",
   "execution_count": 3,
   "id": "b8f1a526-0b31-42d4-a310-87f2bf284632",
   "metadata": {},
   "outputs": [
    {
     "name": "stdout",
     "output_type": "stream",
     "text": [
      "INFO: Loading dataset ../data/Posts.xml...\n",
      "INFO: Loading dataset ../data/Badges.xml...\n"
     ]
    },
    {
     "name": "stderr",
     "output_type": "stream",
     "text": [
      "extracting user pairs based on tags: 100%|██████████████████| 2013/2013 [00:01<00:00, 1686.46it/s]\n"
     ]
    },
    {
     "name": "stdout",
     "output_type": "stream",
     "text": [
      "INFO: Dumped graph into ./data/graph.pkl\n"
     ]
    }
   ],
   "source": [
    "build_graph()"
   ]
  },
  {
   "cell_type": "code",
   "execution_count": 4,
   "id": "2984907f-f0fa-4ed3-a182-d44337f5f329",
   "metadata": {},
   "outputs": [],
   "source": [
    "graph = pickle.load(open(\"../data/graph.pkl\", \"rb\"))"
   ]
  },
  {
   "cell_type": "code",
   "execution_count": 5,
   "id": "097a69ec-8bb2-438f-93d1-97656a85e8a1",
   "metadata": {},
   "outputs": [],
   "source": [
    "def build_partition(graph):\n",
    "    i_graph = igraph.Graph.from_networkx(graph)\n",
    "    partition = i_graph.community_leiden(\n",
    "        objective_function=\"modularity\", n_iterations=1000\n",
    "    )\n",
    "\n",
    "    node_to_community = {\n",
    "        node: partition.membership[i] for i, node in enumerate(i_graph.vs[\"_nx_name\"])\n",
    "    }\n",
    "    communities = [set() for _ in range(max(partition.membership) + 1)]\n",
    "    for node in i_graph.vs[\"_nx_name\"]:\n",
    "        communities[node_to_community[node]].add(node)\n",
    "\n",
    "    return node_to_community, communities\n"
   ]
  },
  {
   "cell_type": "code",
   "execution_count": 8,
   "id": "14fe34fc-d1c4-4700-95f9-464d66bdefcb",
   "metadata": {},
   "outputs": [],
   "source": [
    "user_nodes = [node for node in graph.nodes if graph.nodes[node][\"type\"] == \"user\"]\n",
    "users_to_community, user_communities = build_partition(\n",
    "    graph.subgraph(user_nodes)\n",
    ")\n",
    "\n",
    "user_stereotypes = []\n",
    "for community in user_communities:\n",
    "    tags = set()\n",
    "    for user in community:\n",
    "        tags |= set(graph.nodes[user][\"tags\"])\n",
    "\n",
    "    rates = {tag: 0 for tag in tags}\n",
    "    for user in community:\n",
    "        for tag in graph.nodes[user][\"tags\"]:\n",
    "            rates[tag] += 1\n",
    "\n",
    "    for key in rates.keys():\n",
    "        rates[key] /= len(community)\n",
    "\n",
    "    user_stereotypes.append(rates)\n"
   ]
  },
  {
   "cell_type": "code",
   "execution_count": 10,
   "id": "2e026729-52e1-47d0-8c84-a6bd398a50b6",
   "metadata": {},
   "outputs": [],
   "source": [
    "question_nodes = [node for node in graph.nodes if graph.nodes[node][\"type\"] == \"question\"]\n",
    "question_to_community, question_communities = build_partition(\n",
    "    graph.subgraph(question_nodes)\n",
    ")\n",
    "\n",
    "question_stereotypes = []\n",
    "for community in question_communities:\n",
    "    tags = set()\n",
    "    for question in community:\n",
    "        tags |= set(graph.nodes[question][\"tags\"])\n",
    "\n",
    "    rates = {tag: 0 for tag in tags}\n",
    "    for question in community:\n",
    "        for tag in graph.nodes[question][\"tags\"]:\n",
    "            rates[tag] += 1\n",
    "\n",
    "    for key in rates.keys():\n",
    "        rates[key] /= len(community)\n",
    "\n",
    "    question_stereotypes.append(rates)\n"
   ]
  },
  {
   "cell_type": "code",
   "execution_count": 16,
   "id": "7c790305-73e1-42d6-be7d-6d55d843a2cf",
   "metadata": {},
   "outputs": [
    {
     "name": "stdout",
     "output_type": "stream",
     "text": [
      "INFO: Loading dataset ../data/Posts.xml...\n"
     ]
    }
   ],
   "source": [
    "posts = utils.data_worker.posts_fill_na(\n",
    "    utils.data_worker.load_dataset(\n",
    "        utils.consts.POSTS_DATA_PATH, debug_slice=True\n",
    "    )[utils.consts.POST_ESSENTIAL_COLUMNS]\n",
    ")\n",
    "posts[\"Body\"] = posts[\"Body\"].apply(utils.data_worker.html_to_str)"
   ]
  },
  {
   "cell_type": "code",
   "execution_count": 24,
   "id": "f7d39265-67f1-489b-9573-66561658b00a",
   "metadata": {},
   "outputs": [],
   "source": [
    "brand_new_question = posts[posts.PostTypeId == 1].sample()"
   ]
  },
  {
   "cell_type": "code",
   "execution_count": 25,
   "id": "41ae1664-4bd3-44f8-909c-cb109bbe8eed",
   "metadata": {},
   "outputs": [
    {
     "data": {
      "text/html": [
       "<div>\n",
       "<style scoped>\n",
       "    .dataframe tbody tr th:only-of-type {\n",
       "        vertical-align: middle;\n",
       "    }\n",
       "\n",
       "    .dataframe tbody tr th {\n",
       "        vertical-align: top;\n",
       "    }\n",
       "\n",
       "    .dataframe thead th {\n",
       "        text-align: right;\n",
       "    }\n",
       "</style>\n",
       "<table border=\"1\" class=\"dataframe\">\n",
       "  <thead>\n",
       "    <tr style=\"text-align: right;\">\n",
       "      <th></th>\n",
       "      <th>Id</th>\n",
       "      <th>PostTypeId</th>\n",
       "      <th>AcceptedAnswerId</th>\n",
       "      <th>Score</th>\n",
       "      <th>ViewCount</th>\n",
       "      <th>Body</th>\n",
       "      <th>OwnerUserId</th>\n",
       "      <th>Tags</th>\n",
       "      <th>AnswerCount</th>\n",
       "      <th>CommentCount</th>\n",
       "      <th>ParentId</th>\n",
       "    </tr>\n",
       "  </thead>\n",
       "  <tbody>\n",
       "    <tr>\n",
       "      <th>3023</th>\n",
       "      <td>9095</td>\n",
       "      <td>1</td>\n",
       "      <td>12291</td>\n",
       "      <td>75</td>\n",
       "      <td>15167</td>\n",
       "      <td>F# and Scala are both functional programming l...</td>\n",
       "      <td>18</td>\n",
       "      <td>|programming-languages|comparison|functional-p...</td>\n",
       "      <td>4</td>\n",
       "      <td>4</td>\n",
       "      <td>-1</td>\n",
       "    </tr>\n",
       "  </tbody>\n",
       "</table>\n",
       "</div>"
      ],
      "text/plain": [
       "        Id  PostTypeId  AcceptedAnswerId  Score  ViewCount  \\\n",
       "3023  9095           1             12291     75      15167   \n",
       "\n",
       "                                                   Body  OwnerUserId  \\\n",
       "3023  F# and Scala are both functional programming l...           18   \n",
       "\n",
       "                                                   Tags  AnswerCount  \\\n",
       "3023  |programming-languages|comparison|functional-p...            4   \n",
       "\n",
       "      CommentCount  ParentId  \n",
       "3023             4        -1  "
      ]
     },
     "execution_count": 25,
     "metadata": {},
     "output_type": "execute_result"
    }
   ],
   "source": [
    "brand_new_question"
   ]
  },
  {
   "cell_type": "code",
   "execution_count": 37,
   "id": "da4554d2-b347-4624-b74d-bccfad01a761",
   "metadata": {},
   "outputs": [],
   "source": [
    "def semi_weighted_sets_iou(set1, set2):\n",
    "    if len(set1) == 0:\n",
    "        return 0.0\n",
    "\n",
    "    weight = 0.0\n",
    "    for tag in set1:\n",
    "        if tag in set2:\n",
    "            weight += set2[tag]\n",
    "    weight /= len(set1)\n",
    "\n",
    "    return weight\n",
    "\n",
    "def weighted_sets_iou(set1, set2):\n",
    "    if len(set1) + len(set2) == 0:\n",
    "        return 0.0\n",
    "\n",
    "    weight = 0.0\n",
    "    \n",
    "    intersect = set(set1.keys()) & set(set2.keys())\n",
    "    union = set(set1.keys()) | set(set2.keys())\n",
    "    \n",
    "    for tag in intersect:\n",
    "        weight += 1 - abs(set1[tag] - set2[tag])\n",
    "    weight /= len(union)\n",
    "\n",
    "    return weight"
   ]
  },
  {
   "cell_type": "code",
   "execution_count": 51,
   "id": "b3e64998-b582-4b97-8a58-8ad3b5466f95",
   "metadata": {},
   "outputs": [
    {
     "name": "stdout",
     "output_type": "stream",
     "text": [
      "{'f#', 'comparison', 'functional-programming', 'programming-languages', 'scala'}\n",
      "3 0.20416666666666666\n"
     ]
    }
   ],
   "source": [
    "best_qcommunity = 0\n",
    "best_weight = 0.0\n",
    "\n",
    "tags = utils.data_worker.extract_tags_from_str(brand_new_question.Tags)[0]\n",
    "\n",
    "print(tags)\n",
    "\n",
    "for i in range(len(question_communities)):\n",
    "    weight = semi_weighted_sets_iou(\n",
    "        tags,\n",
    "        question_stereotypes[i]\n",
    "    )\n",
    "\n",
    "    if weight > best_weight:\n",
    "        best_weight = weight\n",
    "        best_qcommunity = i\n",
    "\n",
    "print(best_qcommunity, best_weight)\n",
    "# print(list(question_stereotypes[best_qcommunity].items())[:5])"
   ]
  },
  {
   "cell_type": "code",
   "execution_count": 54,
   "id": "7e69bf56-4302-4ddd-a49b-46d73d075e7a",
   "metadata": {},
   "outputs": [
    {
     "name": "stdout",
     "output_type": "stream",
     "text": [
      "4 0.04200552208835342\n",
      "160\n"
     ]
    }
   ],
   "source": [
    "best_ucommunity = 0\n",
    "best_weight = 0.0\n",
    "\n",
    "for i in range(len(user_communities)):\n",
    "    # print(list(user_stereotypes[i].items())[:min(2, len(user_stereotypes[i]))])\n",
    "    weight = weighted_sets_iou(\n",
    "        user_stereotypes[i],\n",
    "        question_stereotypes[best_qcommunity]\n",
    "    )\n",
    "\n",
    "    if weight > best_weight:\n",
    "        best_weight = weight\n",
    "        best_ucommunity = i\n",
    "\n",
    "print(best_ucommunity, best_weight)\n",
    "print(len(user_communities[best_ucommunity]))"
   ]
  },
  {
   "cell_type": "code",
   "execution_count": 59,
   "id": "a39cffa4-395b-4173-86f7-b6f541c7df39",
   "metadata": {},
   "outputs": [
    {
     "name": "stdout",
     "output_type": "stream",
     "text": [
      "INFO: Loading dataset ../data/Badges.xml...\n"
     ]
    }
   ],
   "source": [
    "badges = utils.data_worker.load_dataset(utils.consts.BADGES_DATA_PATH, debug_slice=False)\n",
    "badges = badges[badges.UserId.isin(posts.OwnerUserId.unique())]\n",
    "\n"
   ]
  },
  {
   "cell_type": "code",
   "execution_count": 62,
   "id": "72edbbf6-06c3-4548-b831-d764e3abc0eb",
   "metadata": {},
   "outputs": [
    {
     "name": "stdout",
     "output_type": "stream",
     "text": [
      "0.6046511627906976\n"
     ]
    },
    {
     "name": "stderr",
     "output_type": "stream",
     "text": [
      "/var/folders/yx/06775gh95dnbzh_cwjzrtdt80000gn/T/ipykernel_64872/2728323022.py:17: FutureWarning: Calling int on a single element Series is deprecated and will raise a TypeError in the future. Use int(ser.iloc[0]) instead\n",
      "  set(badges[badges.UserId == int(brand_new_question.OwnerUserId)].Name)\n"
     ]
    }
   ],
   "source": [
    "best_defendant = 0\n",
    "best_score = 0.0\n",
    "\n",
    "for user in user_communities[best_ucommunity]:\n",
    "    answers = posts[posts.OwnerUserId == int(user[1:])]\n",
    "    answers = answers[answers.PostTypeId == 2]\n",
    "\n",
    "    avg_score = answers.Score.mean()\n",
    "\n",
    "    if avg_score > best_score:\n",
    "        best_score = avg_score\n",
    "        best_defendant = user\n",
    "\n",
    "print(\n",
    "    sets_iou(\n",
    "        set(badges[badges.UserId == int(best_defendant[1:])].Name),\n",
    "        set(badges[badges.UserId == int(brand_new_question.OwnerUserId)].Name)\n",
    "    )\n",
    ")"
   ]
  }
 ],
 "metadata": {
  "kernelspec": {
   "display_name": "Python 3 (ipykernel)",
   "language": "python",
   "name": "python3"
  },
  "language_info": {
   "codemirror_mode": {
    "name": "ipython",
    "version": 3
   },
   "file_extension": ".py",
   "mimetype": "text/x-python",
   "name": "python",
   "nbconvert_exporter": "python",
   "pygments_lexer": "ipython3",
   "version": "3.10.16"
  }
 },
 "nbformat": 4,
 "nbformat_minor": 5
}

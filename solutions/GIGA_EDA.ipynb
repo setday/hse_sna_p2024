{
 "cells": [
  {
   "cell_type": "code",
   "execution_count": 9,
   "id": "1b8ffa4d-6007-48e1-abba-863c34f59ec2",
   "metadata": {},
   "outputs": [],
   "source": [
    "import pickle\n",
    "import sys\n",
    "sys.path.append(\"../complexity_hunters/\")  # to make utils importable\n",
    "sys.path.append(\".\")  # to make utils importable\n",
    "sys.path.append(\"..\")  # to make utils importable\n",
    "\n",
    "import utils.data_worker\n",
    "import utils.consts\n",
    "\n",
    "from graph.graph import build_graph\n",
    "import igraph\n",
    "import networkx\n",
    "\n",
    "from complexity_hunters.extra_metrics import sets_iou\n"
   ]
  },
  {
   "cell_type": "code",
   "execution_count": 2,
   "id": "2984907f-f0fa-4ed3-a182-d44337f5f329",
   "metadata": {},
   "outputs": [],
   "source": [
    "graph = pickle.load(open(\"../data/graph.pkl\", \"rb\"))"
   ]
  },
  {
   "cell_type": "code",
   "execution_count": 4,
   "id": "c634974f-3c5f-4df0-8d1d-443f4e5b6ac0",
   "metadata": {},
   "outputs": [
    {
     "data": {
      "text/plain": [
       "(3294, 2016)"
      ]
     },
     "execution_count": 4,
     "metadata": {},
     "output_type": "execute_result"
    }
   ],
   "source": [
    "len(graph.nodes), len([node for node in graph.nodes if node[0] == 'u'])"
   ]
  },
  {
   "cell_type": "code",
   "execution_count": 6,
   "id": "6c4b3545-68f6-457f-bfb6-b4f9a3dfb7c9",
   "metadata": {},
   "outputs": [
    {
     "data": {
      "text/plain": [
       "(49948, 35947, 11072)"
      ]
     },
     "execution_count": 6,
     "metadata": {},
     "output_type": "execute_result"
    }
   ],
   "source": [
    "len(graph.edges), len([edge for edge in graph.edges if edge[0][0] == 'u' and edge[1][0] == 'u']), len([edge for edge in graph.edges if edge[0][0] == 'q' and edge[1][0] == 'q'])"
   ]
  },
  {
   "cell_type": "code",
   "execution_count": 11,
   "id": "1b747b57-0e08-4677-9135-c138a1ff7c36",
   "metadata": {},
   "outputs": [
    {
     "data": {
      "text/plain": [
       "0.00920943046564708"
      ]
     },
     "execution_count": 11,
     "metadata": {},
     "output_type": "execute_result"
    }
   ],
   "source": [
    "networkx.density(graph)"
   ]
  },
  {
   "cell_type": "code",
   "execution_count": 20,
   "id": "36ca6663-729e-4864-b6e5-d50b0e6c0fb5",
   "metadata": {},
   "outputs": [
    {
     "data": {
      "text/plain": [
       "('u7949', 0.08904877655578713)"
      ]
     },
     "execution_count": 20,
     "metadata": {},
     "output_type": "execute_result"
    }
   ],
   "source": [
    "sorted(networkx.eigenvector_centrality(graph).items(), key=lambda x : x[1])[-1]"
   ]
  }
 ],
 "metadata": {
  "kernelspec": {
   "display_name": "Python 3 (ipykernel)",
   "language": "python",
   "name": "python3"
  },
  "language_info": {
   "codemirror_mode": {
    "name": "ipython",
    "version": 3
   },
   "file_extension": ".py",
   "mimetype": "text/x-python",
   "name": "python",
   "nbconvert_exporter": "python",
   "pygments_lexer": "ipython3",
   "version": "3.10.16"
  }
 },
 "nbformat": 4,
 "nbformat_minor": 5
}

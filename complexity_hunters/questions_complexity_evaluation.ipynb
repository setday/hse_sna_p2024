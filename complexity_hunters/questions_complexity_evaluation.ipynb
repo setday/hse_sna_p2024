{
 "cells": [
  {
   "cell_type": "code",
   "execution_count": 1,
   "metadata": {},
   "outputs": [],
   "source": [
    "import sys\n",
    "\n",
    "import pandas as pd\n",
    "\n",
    "from text_metrics import words_count, tech_words_count, negative_answers_count\n",
    "\n",
    "sys.path.append(\"..\")  # to make utils importable\n",
    "import utils.data_worker\n",
    "import utils.consts"
   ]
  },
  {
   "cell_type": "markdown",
   "metadata": {},
   "source": [
    "Описание полей: <br>\n",
    "OwnerUserId поста это Id юзера <br>\n",
    "PostTypeId 1 или 2 - 1 это вопрос, 2 это ответ <br>\n",
    "ParentId ответа это Id вопроса\n"
   ]
  },
  {
   "cell_type": "code",
   "execution_count": 2,
   "metadata": {},
   "outputs": [
    {
     "name": "stdout",
     "output_type": "stream",
     "text": [
      "INFO: Loading dataset ../data/Posts.xml...\n",
      "INFO: Loading dataset ../data/Users.xml...\n"
     ]
    }
   ],
   "source": [
    "posts = utils.data_worker.load_dataset(utils.consts.POSTS_DATA_PATH, debug_slice=False)\n",
    "users = utils.data_worker.load_dataset(utils.consts.USERS_DATA_PATH, debug_slice=False)"
   ]
  },
  {
   "cell_type": "code",
   "execution_count": 3,
   "metadata": {},
   "outputs": [
    {
     "data": {
      "text/plain": [
       "(178628, 178628)"
      ]
     },
     "execution_count": 3,
     "metadata": {},
     "output_type": "execute_result"
    }
   ],
   "source": [
    "questions, answers = utils.data_worker.question_answer_split(posts)\n",
    "\n",
    "answers.Tags.isna().sum(), answers.shape[0]"
   ]
  },
  {
   "cell_type": "code",
   "execution_count": 4,
   "metadata": {},
   "outputs": [
    {
     "data": {
      "text/html": [
       "<div>\n",
       "<style scoped>\n",
       "    .dataframe tbody tr th:only-of-type {\n",
       "        vertical-align: middle;\n",
       "    }\n",
       "\n",
       "    .dataframe tbody tr th {\n",
       "        vertical-align: top;\n",
       "    }\n",
       "\n",
       "    .dataframe thead th {\n",
       "        text-align: right;\n",
       "    }\n",
       "</style>\n",
       "<table border=\"1\" class=\"dataframe\">\n",
       "  <thead>\n",
       "    <tr style=\"text-align: right;\">\n",
       "      <th></th>\n",
       "      <th>Id</th>\n",
       "      <th>PostTypeId</th>\n",
       "      <th>AcceptedAnswerId</th>\n",
       "      <th>CreationDate</th>\n",
       "      <th>Score</th>\n",
       "      <th>ViewCount</th>\n",
       "      <th>Body</th>\n",
       "      <th>OwnerUserId</th>\n",
       "      <th>LastEditorUserId</th>\n",
       "      <th>LastEditDate</th>\n",
       "      <th>...</th>\n",
       "      <th>Tags</th>\n",
       "      <th>AnswerCount</th>\n",
       "      <th>CommentCount</th>\n",
       "      <th>ClosedDate</th>\n",
       "      <th>CommunityOwnedDate</th>\n",
       "      <th>ContentLicense</th>\n",
       "      <th>ParentId</th>\n",
       "      <th>OwnerDisplayName</th>\n",
       "      <th>LastEditorDisplayName</th>\n",
       "      <th>FavoriteCount</th>\n",
       "    </tr>\n",
       "  </thead>\n",
       "  <tbody>\n",
       "    <tr>\n",
       "      <th>76550</th>\n",
       "      <td>151525</td>\n",
       "      <td>2</td>\n",
       "      <td>NaN</td>\n",
       "      <td>2012-06-04T17:54:29.440</td>\n",
       "      <td>26</td>\n",
       "      <td>NaN</td>\n",
       "      <td>&lt;p&gt;Is your company's code in public or private...</td>\n",
       "      <td>7426.0</td>\n",
       "      <td>7426.0</td>\n",
       "      <td>2012-06-05T01:15:59.823</td>\n",
       "      <td>...</td>\n",
       "      <td>None</td>\n",
       "      <td>NaN</td>\n",
       "      <td>2</td>\n",
       "      <td>None</td>\n",
       "      <td>None</td>\n",
       "      <td>CC BY-SA 3.0</td>\n",
       "      <td>151518.0</td>\n",
       "      <td>None</td>\n",
       "      <td>None</td>\n",
       "      <td>NaN</td>\n",
       "    </tr>\n",
       "    <tr>\n",
       "      <th>67267</th>\n",
       "      <td>136923</td>\n",
       "      <td>2</td>\n",
       "      <td>NaN</td>\n",
       "      <td>2012-02-25T22:36:10.083</td>\n",
       "      <td>0</td>\n",
       "      <td>NaN</td>\n",
       "      <td>&lt;p&gt;If your customers are not locked in, then &lt;...</td>\n",
       "      <td>16929.0</td>\n",
       "      <td>16929.0</td>\n",
       "      <td>2012-02-25T23:19:21.197</td>\n",
       "      <td>...</td>\n",
       "      <td>None</td>\n",
       "      <td>NaN</td>\n",
       "      <td>6</td>\n",
       "      <td>None</td>\n",
       "      <td>None</td>\n",
       "      <td>CC BY-SA 3.0</td>\n",
       "      <td>136920.0</td>\n",
       "      <td>None</td>\n",
       "      <td>None</td>\n",
       "      <td>NaN</td>\n",
       "    </tr>\n",
       "    <tr>\n",
       "      <th>21820</th>\n",
       "      <td>51110</td>\n",
       "      <td>2</td>\n",
       "      <td>NaN</td>\n",
       "      <td>2011-02-23T20:53:37.653</td>\n",
       "      <td>0</td>\n",
       "      <td>NaN</td>\n",
       "      <td>&lt;p&gt;I'd say be honest, tell them to find a prog...</td>\n",
       "      <td>NaN</td>\n",
       "      <td>NaN</td>\n",
       "      <td>None</td>\n",
       "      <td>...</td>\n",
       "      <td>None</td>\n",
       "      <td>NaN</td>\n",
       "      <td>0</td>\n",
       "      <td>None</td>\n",
       "      <td>2012-02-24T13:14:21.773</td>\n",
       "      <td>CC BY-SA 2.5</td>\n",
       "      <td>51055.0</td>\n",
       "      <td>user6791</td>\n",
       "      <td>None</td>\n",
       "      <td>NaN</td>\n",
       "    </tr>\n",
       "    <tr>\n",
       "      <th>194777</th>\n",
       "      <td>367027</td>\n",
       "      <td>2</td>\n",
       "      <td>NaN</td>\n",
       "      <td>2018-03-04T18:34:41.217</td>\n",
       "      <td>0</td>\n",
       "      <td>NaN</td>\n",
       "      <td>&lt;p&gt;From my experience that would be too much. ...</td>\n",
       "      <td>283635.0</td>\n",
       "      <td>283635.0</td>\n",
       "      <td>2018-03-04T19:04:30.227</td>\n",
       "      <td>...</td>\n",
       "      <td>None</td>\n",
       "      <td>NaN</td>\n",
       "      <td>0</td>\n",
       "      <td>None</td>\n",
       "      <td>None</td>\n",
       "      <td>CC BY-SA 3.0</td>\n",
       "      <td>366892.0</td>\n",
       "      <td>None</td>\n",
       "      <td>None</td>\n",
       "      <td>NaN</td>\n",
       "    </tr>\n",
       "    <tr>\n",
       "      <th>182299</th>\n",
       "      <td>348405</td>\n",
       "      <td>2</td>\n",
       "      <td>NaN</td>\n",
       "      <td>2017-05-05T06:54:29.007</td>\n",
       "      <td>6</td>\n",
       "      <td>NaN</td>\n",
       "      <td>&lt;p&gt;I would look at it this way:&lt;/p&gt;\\n\\n&lt;p&gt;A me...</td>\n",
       "      <td>271525.0</td>\n",
       "      <td>1204.0</td>\n",
       "      <td>2017-05-05T22:16:35.253</td>\n",
       "      <td>...</td>\n",
       "      <td>None</td>\n",
       "      <td>NaN</td>\n",
       "      <td>2</td>\n",
       "      <td>None</td>\n",
       "      <td>None</td>\n",
       "      <td>CC BY-SA 3.0</td>\n",
       "      <td>348404.0</td>\n",
       "      <td>None</td>\n",
       "      <td>None</td>\n",
       "      <td>NaN</td>\n",
       "    </tr>\n",
       "  </tbody>\n",
       "</table>\n",
       "<p>5 rows × 22 columns</p>\n",
       "</div>"
      ],
      "text/plain": [
       "            Id  PostTypeId  AcceptedAnswerId             CreationDate  Score  \\\n",
       "76550   151525           2               NaN  2012-06-04T17:54:29.440     26   \n",
       "67267   136923           2               NaN  2012-02-25T22:36:10.083      0   \n",
       "21820    51110           2               NaN  2011-02-23T20:53:37.653      0   \n",
       "194777  367027           2               NaN  2018-03-04T18:34:41.217      0   \n",
       "182299  348405           2               NaN  2017-05-05T06:54:29.007      6   \n",
       "\n",
       "        ViewCount                                               Body  \\\n",
       "76550         NaN  <p>Is your company's code in public or private...   \n",
       "67267         NaN  <p>If your customers are not locked in, then <...   \n",
       "21820         NaN  <p>I'd say be honest, tell them to find a prog...   \n",
       "194777        NaN  <p>From my experience that would be too much. ...   \n",
       "182299        NaN  <p>I would look at it this way:</p>\\n\\n<p>A me...   \n",
       "\n",
       "        OwnerUserId  LastEditorUserId             LastEditDate  ...  Tags  \\\n",
       "76550        7426.0            7426.0  2012-06-05T01:15:59.823  ...  None   \n",
       "67267       16929.0           16929.0  2012-02-25T23:19:21.197  ...  None   \n",
       "21820           NaN               NaN                     None  ...  None   \n",
       "194777     283635.0          283635.0  2018-03-04T19:04:30.227  ...  None   \n",
       "182299     271525.0            1204.0  2017-05-05T22:16:35.253  ...  None   \n",
       "\n",
       "       AnswerCount CommentCount  ClosedDate       CommunityOwnedDate  \\\n",
       "76550          NaN            2        None                     None   \n",
       "67267          NaN            6        None                     None   \n",
       "21820          NaN            0        None  2012-02-24T13:14:21.773   \n",
       "194777         NaN            0        None                     None   \n",
       "182299         NaN            2        None                     None   \n",
       "\n",
       "       ContentLicense  ParentId OwnerDisplayName  LastEditorDisplayName  \\\n",
       "76550    CC BY-SA 3.0  151518.0             None                   None   \n",
       "67267    CC BY-SA 3.0  136920.0             None                   None   \n",
       "21820    CC BY-SA 2.5   51055.0         user6791                   None   \n",
       "194777   CC BY-SA 3.0  366892.0             None                   None   \n",
       "182299   CC BY-SA 3.0  348404.0             None                   None   \n",
       "\n",
       "       FavoriteCount  \n",
       "76550            NaN  \n",
       "67267            NaN  \n",
       "21820            NaN  \n",
       "194777           NaN  \n",
       "182299           NaN  \n",
       "\n",
       "[5 rows x 22 columns]"
      ]
     },
     "execution_count": 4,
     "metadata": {},
     "output_type": "execute_result"
    }
   ],
   "source": [
    "posts.sample(5)"
   ]
  },
  {
   "cell_type": "code",
   "execution_count": 5,
   "metadata": {},
   "outputs": [
    {
     "data": {
      "text/html": [
       "<div>\n",
       "<style scoped>\n",
       "    .dataframe tbody tr th:only-of-type {\n",
       "        vertical-align: middle;\n",
       "    }\n",
       "\n",
       "    .dataframe tbody tr th {\n",
       "        vertical-align: top;\n",
       "    }\n",
       "\n",
       "    .dataframe thead th {\n",
       "        text-align: right;\n",
       "    }\n",
       "</style>\n",
       "<table border=\"1\" class=\"dataframe\">\n",
       "  <thead>\n",
       "    <tr style=\"text-align: right;\">\n",
       "      <th></th>\n",
       "      <th>Id</th>\n",
       "      <th>Reputation</th>\n",
       "      <th>CreationDate</th>\n",
       "      <th>DisplayName</th>\n",
       "      <th>LastAccessDate</th>\n",
       "      <th>WebsiteUrl</th>\n",
       "      <th>Location</th>\n",
       "      <th>AboutMe</th>\n",
       "      <th>Views</th>\n",
       "      <th>UpVotes</th>\n",
       "      <th>DownVotes</th>\n",
       "      <th>AccountId</th>\n",
       "    </tr>\n",
       "  </thead>\n",
       "  <tbody>\n",
       "    <tr>\n",
       "      <th>250854</th>\n",
       "      <td>294009</td>\n",
       "      <td>101</td>\n",
       "      <td>2018-01-22T13:17:36.480</td>\n",
       "      <td>Nino DELCEY</td>\n",
       "      <td>2023-03-20T22:04:49.100</td>\n",
       "      <td>None</td>\n",
       "      <td>None</td>\n",
       "      <td>None</td>\n",
       "      <td>1</td>\n",
       "      <td>0</td>\n",
       "      <td>0</td>\n",
       "      <td>5459916.0</td>\n",
       "    </tr>\n",
       "    <tr>\n",
       "      <th>95297</th>\n",
       "      <td>124208</td>\n",
       "      <td>101</td>\n",
       "      <td>2014-03-21T19:12:14.910</td>\n",
       "      <td>derelict</td>\n",
       "      <td>2023-01-18T21:09:45.067</td>\n",
       "      <td>None</td>\n",
       "      <td>None</td>\n",
       "      <td>None</td>\n",
       "      <td>0</td>\n",
       "      <td>0</td>\n",
       "      <td>0</td>\n",
       "      <td>2020800.0</td>\n",
       "    </tr>\n",
       "    <tr>\n",
       "      <th>180615</th>\n",
       "      <td>227928</td>\n",
       "      <td>101</td>\n",
       "      <td>2016-05-11T01:56:44.717</td>\n",
       "      <td>gmfm</td>\n",
       "      <td>2023-01-18T20:54:41.207</td>\n",
       "      <td>None</td>\n",
       "      <td>San Diego, CA, United States</td>\n",
       "      <td>None</td>\n",
       "      <td>1</td>\n",
       "      <td>3</td>\n",
       "      <td>0</td>\n",
       "      <td>8106540.0</td>\n",
       "    </tr>\n",
       "    <tr>\n",
       "      <th>284402</th>\n",
       "      <td>340189</td>\n",
       "      <td>101</td>\n",
       "      <td>2019-07-04T11:20:37.673</td>\n",
       "      <td>Emperor</td>\n",
       "      <td>2024-02-07T12:56:58.257</td>\n",
       "      <td>None</td>\n",
       "      <td>None</td>\n",
       "      <td>None</td>\n",
       "      <td>0</td>\n",
       "      <td>0</td>\n",
       "      <td>0</td>\n",
       "      <td>13894845.0</td>\n",
       "    </tr>\n",
       "    <tr>\n",
       "      <th>63487</th>\n",
       "      <td>72325</td>\n",
       "      <td>135</td>\n",
       "      <td>2012-11-11T10:05:34.440</td>\n",
       "      <td>Rob W</td>\n",
       "      <td>2017-06-13T08:53:11.150</td>\n",
       "      <td>https://robwu.nl/</td>\n",
       "      <td>The Netherlands</td>\n",
       "      <td>NaN</td>\n",
       "      <td>14</td>\n",
       "      <td>7</td>\n",
       "      <td>0</td>\n",
       "      <td>902274.0</td>\n",
       "    </tr>\n",
       "  </tbody>\n",
       "</table>\n",
       "</div>"
      ],
      "text/plain": [
       "            Id  Reputation             CreationDate  DisplayName  \\\n",
       "250854  294009         101  2018-01-22T13:17:36.480  Nino DELCEY   \n",
       "95297   124208         101  2014-03-21T19:12:14.910     derelict   \n",
       "180615  227928         101  2016-05-11T01:56:44.717         gmfm   \n",
       "284402  340189         101  2019-07-04T11:20:37.673      Emperor   \n",
       "63487    72325         135  2012-11-11T10:05:34.440        Rob W   \n",
       "\n",
       "                 LastAccessDate         WebsiteUrl  \\\n",
       "250854  2023-03-20T22:04:49.100               None   \n",
       "95297   2023-01-18T21:09:45.067               None   \n",
       "180615  2023-01-18T20:54:41.207               None   \n",
       "284402  2024-02-07T12:56:58.257               None   \n",
       "63487   2017-06-13T08:53:11.150  https://robwu.nl/   \n",
       "\n",
       "                            Location AboutMe  Views  UpVotes  DownVotes  \\\n",
       "250854                          None    None      1        0          0   \n",
       "95297                           None    None      0        0          0   \n",
       "180615  San Diego, CA, United States    None      1        3          0   \n",
       "284402                          None    None      0        0          0   \n",
       "63487                The Netherlands     NaN     14        7          0   \n",
       "\n",
       "         AccountId  \n",
       "250854   5459916.0  \n",
       "95297    2020800.0  \n",
       "180615   8106540.0  \n",
       "284402  13894845.0  \n",
       "63487     902274.0  "
      ]
     },
     "execution_count": 5,
     "metadata": {},
     "output_type": "execute_result"
    }
   ],
   "source": [
    "users.sample(5)"
   ]
  },
  {
   "cell_type": "code",
   "execution_count": 6,
   "metadata": {},
   "outputs": [
    {
     "name": "stderr",
     "output_type": "stream",
     "text": [
      "C:\\Users\\setday\\AppData\\Local\\Temp\\ipykernel_27216\\2192705492.py:2: MarkupResemblesLocatorWarning: The input looks more like a filename than markup. You may want to open this file and pass the filehandle into Beautiful Soup.\n",
      "  soup = BeautifulSoup(row_html, \"html.parser\")\n"
     ]
    }
   ],
   "source": [
    "posts.dropna(subset=[\"Body\"], inplace=True, axis=0)\n",
    "posts[\"Body\"] = posts[\"Body\"].apply(utils.data_worker.html_to_str)"
   ]
  },
  {
   "cell_type": "code",
   "execution_count": 7,
   "metadata": {},
   "outputs": [
    {
     "data": {
      "text/plain": [
       "0         A coworker of mine believes that  any  use of ...\n",
       "1         Ideally, code should be so well coded that it ...\n",
       "2         When starting a project for a company that's n...\n",
       "3         I think the answer is the usual \"It depends\" o...\n",
       "4         Sometimes, the things I have to do for my job ...\n",
       "                                ...                        \n",
       "244061    I have a NextJS app for which I want to cache ...\n",
       "244062    The solution is to do the rendering on the ser...\n",
       "244063    I have a \"Games\" API which retrieves video gam...\n",
       "244064    The idea is to have multiple generic endpoints...\n",
       "244065    Your assumption that you always need all the d...\n",
       "Name: Body, Length: 243622, dtype: object"
      ]
     },
     "execution_count": 7,
     "metadata": {},
     "output_type": "execute_result"
    }
   ],
   "source": [
    "posts.Body"
   ]
  },
  {
   "cell_type": "code",
   "execution_count": 8,
   "metadata": {},
   "outputs": [
    {
     "name": "stdout",
     "output_type": "stream",
     "text": [
      "number of samples for questions 63423, answers 178628\n"
     ]
    }
   ],
   "source": [
    "assert answers.AcceptedAnswerId.isna().sum() == answers.shape[0]\n",
    "print(f\"number of samples for questions {questions.shape[0]}, answers {answers.shape[0]}\")"
   ]
  },
  {
   "cell_type": "code",
   "execution_count": 9,
   "metadata": {},
   "outputs": [
    {
     "data": {
      "text/plain": [
       "171806"
      ]
     },
     "execution_count": 9,
     "metadata": {},
     "output_type": "execute_result"
    }
   ],
   "source": [
    "answers = answers.dropna(subset=[\"ParentId\", \"OwnerUserId\", \"Score\"])\n",
    "answers.shape[0]"
   ]
  },
  {
   "cell_type": "code",
   "execution_count": 10,
   "metadata": {},
   "outputs": [
    {
     "name": "stderr",
     "output_type": "stream",
     "text": [
      "C:\\Users\\setday\\AppData\\Local\\Temp\\ipykernel_27216\\12509712.py:1: SettingWithCopyWarning: \n",
      "A value is trying to be set on a copy of a slice from a DataFrame.\n",
      "Try using .loc[row_indexer,col_indexer] = value instead\n",
      "\n",
      "See the caveats in the documentation: https://pandas.pydata.org/pandas-docs/stable/user_guide/indexing.html#returning-a-view-versus-a-copy\n",
      "  questions[\"words_cnt\"] = words_count(questions[\"Body\"])\n",
      "C:\\Users\\setday\\AppData\\Local\\Temp\\ipykernel_27216\\12509712.py:2: SettingWithCopyWarning: \n",
      "A value is trying to be set on a copy of a slice from a DataFrame.\n",
      "Try using .loc[row_indexer,col_indexer] = value instead\n",
      "\n",
      "See the caveats in the documentation: https://pandas.pydata.org/pandas-docs/stable/user_guide/indexing.html#returning-a-view-versus-a-copy\n",
      "  questions[\"tech_words_cnt\"] = tech_words_count(questions[\"Body\"])\n",
      "C:\\Users\\setday\\AppData\\Local\\Temp\\ipykernel_27216\\12509712.py:3: SettingWithCopyWarning: \n",
      "A value is trying to be set on a copy of a slice from a DataFrame.\n",
      "Try using .loc[row_indexer,col_indexer] = value instead\n",
      "\n",
      "See the caveats in the documentation: https://pandas.pydata.org/pandas-docs/stable/user_guide/indexing.html#returning-a-view-versus-a-copy\n",
      "  questions[\"negative_answers\"] = negative_answers_count(questions, answers, 0)\n"
     ]
    }
   ],
   "source": [
    "questions[\"words_cnt\"] = words_count(questions[\"Body\"])\n",
    "questions[\"tech_words_cnt\"] = tech_words_count(questions[\"Body\"])\n",
    "questions[\"negative_answers\"] = negative_answers_count(questions, answers, 0)"
   ]
  },
  {
   "cell_type": "code",
   "execution_count": 11,
   "metadata": {},
   "outputs": [
    {
     "data": {
      "text/plain": [
       "negative_answers\n",
       "0     59084\n",
       "1      3660\n",
       "2       506\n",
       "3        99\n",
       "4        40\n",
       "5        13\n",
       "6        12\n",
       "7         5\n",
       "13        1\n",
       "8         1\n",
       "9         1\n",
       "17        1\n",
       "Name: count, dtype: int64"
      ]
     },
     "execution_count": 11,
     "metadata": {},
     "output_type": "execute_result"
    }
   ],
   "source": [
    "questions.negative_answers.value_counts()"
   ]
  },
  {
   "cell_type": "code",
   "execution_count": 12,
   "metadata": {},
   "outputs": [
    {
     "data": {
      "text/plain": [
       "<Axes: >"
      ]
     },
     "execution_count": 12,
     "metadata": {},
     "output_type": "execute_result"
    },
    {
     "data": {
      "image/png": "[encoded data removed]",
      "text/plain": [
       "<Figure size 640x480 with 1 Axes>"
      ]
     },
     "metadata": {},
     "output_type": "display_data"
    }
   ],
   "source": [
    "questions.words_cnt.hist()"
   ]
  },
  {
   "cell_type": "code",
   "execution_count": 13,
   "metadata": {},
   "outputs": [
    {
     "data": {
      "text/plain": [
       "tech_words_cnt\n",
       "0      26209\n",
       "1      10580\n",
       "2       7259\n",
       "3       4969\n",
       "4       3549\n",
       "5       2654\n",
       "6       1982\n",
       "7       1455\n",
       "8       1102\n",
       "9        805\n",
       "10       608\n",
       "11       442\n",
       "12       402\n",
       "13       291\n",
       "14       215\n",
       "15       182\n",
       "16       132\n",
       "17        98\n",
       "18        78\n",
       "19        66\n",
       "20        50\n",
       "22        38\n",
       "21        37\n",
       "23        35\n",
       "24        32\n",
       "27        21\n",
       "25        18\n",
       "26        17\n",
       "29        16\n",
       "31        11\n",
       "28         8\n",
       "32         6\n",
       "34         6\n",
       "30         6\n",
       "35         5\n",
       "36         5\n",
       "40         5\n",
       "33         4\n",
       "39         4\n",
       "48         3\n",
       "47         2\n",
       "38         2\n",
       "44         2\n",
       "49         2\n",
       "37         2\n",
       "46         2\n",
       "106        1\n",
       "45         1\n",
       "41         1\n",
       "50         1\n",
       "42         1\n",
       "94         1\n",
       "Name: count, dtype: int64"
      ]
     },
     "execution_count": 13,
     "metadata": {},
     "output_type": "execute_result"
    }
   ],
   "source": [
    "questions.tech_words_cnt.value_counts()"
   ]
  },
  {
   "cell_type": "markdown",
   "metadata": {},
   "source": [
    "Добавим флаги по посчитанным метрикам"
   ]
  },
  {
   "cell_type": "code",
   "execution_count": 14,
   "metadata": {},
   "outputs": [
    {
     "name": "stderr",
     "output_type": "stream",
     "text": [
      "C:\\Users\\setday\\AppData\\Local\\Temp\\ipykernel_27216\\3366938931.py:4: SettingWithCopyWarning: \n",
      "A value is trying to be set on a copy of a slice from a DataFrame.\n",
      "Try using .loc[row_indexer,col_indexer] = value instead\n",
      "\n",
      "See the caveats in the documentation: https://pandas.pydata.org/pandas-docs/stable/user_guide/indexing.html#returning-a-view-versus-a-copy\n",
      "  questions[\"is_dummy\"] = (questions[\"Score\"] <= rating_barrier) | (questions[\"words_cnt\"] <= len_barrier) | (questions[\"tech_words_cnt\"] <= tech_words_barrier)\n"
     ]
    }
   ],
   "source": [
    "rating_barrier = -1\n",
    "len_barrier = 50\n",
    "tech_words_barrier = 3\n",
    "questions[\"is_dummy\"] = (questions[\"Score\"] <= rating_barrier) | (questions[\"words_cnt\"] <= len_barrier) | (questions[\"tech_words_cnt\"] <= tech_words_barrier)"
   ]
  },
  {
   "cell_type": "code",
   "execution_count": 15,
   "metadata": {},
   "outputs": [
    {
     "name": "stderr",
     "output_type": "stream",
     "text": [
      "C:\\Users\\setday\\AppData\\Local\\Temp\\ipykernel_27216\\3150892594.py:2: SettingWithCopyWarning: \n",
      "A value is trying to be set on a copy of a slice from a DataFrame.\n",
      "Try using .loc[row_indexer,col_indexer] = value instead\n",
      "\n",
      "See the caveats in the documentation: https://pandas.pydata.org/pandas-docs/stable/user_guide/indexing.html#returning-a-view-versus-a-copy\n",
      "  questions[\"is_complex\"] = (questions[\"Score\"] > rating_barrier) & (questions[\"words_cnt\"] >= len_barrier) & (questions[\"tech_words_cnt\"] > tech_words_barrier)  # & (questions[\"negative_answers\"] >= 2)\n"
     ]
    }
   ],
   "source": [
    "len_barrier = 350\n",
    "questions[\"is_complex\"] = (questions[\"Score\"] > rating_barrier) & (questions[\"words_cnt\"] >= len_barrier) & (questions[\"tech_words_cnt\"] > tech_words_barrier)  # & (questions[\"negative_answers\"] >= 2)"
   ]
  },
  {
   "cell_type": "code",
   "execution_count": 16,
   "metadata": {},
   "outputs": [
    {
     "data": {
      "text/plain": [
       "is_dummy\n",
       "True     49978\n",
       "False    13445\n",
       "Name: count, dtype: int64"
      ]
     },
     "execution_count": 16,
     "metadata": {},
     "output_type": "execute_result"
    }
   ],
   "source": [
    "questions.is_dummy.value_counts()"
   ]
  },
  {
   "cell_type": "code",
   "execution_count": 17,
   "metadata": {},
   "outputs": [
    {
     "data": {
      "text/plain": [
       "is_complex\n",
       "False    59722\n",
       "True      3701\n",
       "Name: count, dtype: int64"
      ]
     },
     "execution_count": 17,
     "metadata": {},
     "output_type": "execute_result"
    }
   ],
   "source": [
    "questions.is_complex.value_counts()"
   ]
  },
  {
   "cell_type": "markdown",
   "metadata": {},
   "source": [
    "Если учесть наличие `negative_answers`, то количество `complex` вопросов падает до 70 =["
   ]
  },
  {
   "cell_type": "code",
   "execution_count": 18,
   "metadata": {},
   "outputs": [
    {
     "data": {
      "text/plain": [
       "0"
      ]
     },
     "execution_count": 18,
     "metadata": {},
     "output_type": "execute_result"
    }
   ],
   "source": [
    "questions[questions[\"is_dummy\"] & questions[\"is_complex\"]].shape[0]  # чекаем, что нет пересечения"
   ]
  },
  {
   "cell_type": "code",
   "execution_count": 20,
   "metadata": {},
   "outputs": [],
   "source": [
    "questions.to_csv(\"../data/cache/prepared_questions_metrics.csv\", index=False)"
   ]
  },
  {
   "cell_type": "code",
   "execution_count": 21,
   "metadata": {},
   "outputs": [],
   "source": [
    "answers.to_csv(\"../data/cache/prepared_answers_metrics.csv\", index=False)"
   ]
  }
 ],
 "metadata": {
  "kernelspec": {
   "display_name": "Python 3",
   "language": "python",
   "name": "python3"
  },
  "language_info": {
   "codemirror_mode": {
    "name": "ipython",
    "version": 3
   },
   "file_extension": ".py",
   "mimetype": "text/x-python",
   "name": "python",
   "nbconvert_exporter": "python",
   "pygments_lexer": "ipython3",
   "version": "3.11.3"
  }
 },
 "nbformat": 4,
 "nbformat_minor": 2
}

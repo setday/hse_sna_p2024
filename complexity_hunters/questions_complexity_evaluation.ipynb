{
 "cells": [
  {
   "cell_type": "code",
   "execution_count": 1,
   "metadata": {},
   "outputs": [],
   "source": [
    "import sys\n",
    "sys.path.append(\"..\")  # to make utils importable"
   ]
  },
  {
   "cell_type": "code",
   "execution_count": 2,
   "metadata": {},
   "outputs": [],
   "source": [
    "import utils.consts\n",
    "import utils.data_worker\n",
    "\n",
    "import pandas as pd\n",
    "\n",
    "from text_metrics import words_count, tech_words_count, negative_answers_count"
   ]
  },
  {
   "cell_type": "markdown",
   "metadata": {},
   "source": [
    "Описание полей: <br>\n",
    "OwnerUserId поста это Id юзера <br>\n",
    "PostTypeId 1 или 2 - 1 это вопрос, 2 это ответ <br>\n",
    "ParentId ответа это Id вопроса\n"
   ]
  },
  {
   "cell_type": "code",
   "execution_count": 3,
   "metadata": {},
   "outputs": [
    {
     "name": "stdout",
     "output_type": "stream",
     "text": [
      "INFO: Loading dataset ../data/Posts.xml...\n",
      "INFO: Loading dataset ../data/Users.xml...\n"
     ]
    }
   ],
   "source": [
    "posts = utils.data_worker.load_dataset(utils.consts.POSTS_DATA_PATH, debug_slice=False)\n",
    "users = utils.data_worker.load_dataset(utils.consts.USERS_DATA_PATH, debug_slice=False)"
   ]
  },
  {
   "cell_type": "code",
   "execution_count": 4,
   "metadata": {},
   "outputs": [
    {
     "data": {
      "text/plain": [
       "(178628, 178628)"
      ]
     },
     "execution_count": 4,
     "metadata": {},
     "output_type": "execute_result"
    }
   ],
   "source": [
    "questions, answers = utils.data_worker.question_answer_split(posts)\n",
    "\n",
    "answers.Tags.isna().sum(), answers.shape[0]"
   ]
  },
  {
   "cell_type": "code",
   "execution_count": 5,
   "metadata": {},
   "outputs": [
    {
     "data": {
      "text/html": [
       "<div>\n",
       "<style scoped>\n",
       "    .dataframe tbody tr th:only-of-type {\n",
       "        vertical-align: middle;\n",
       "    }\n",
       "\n",
       "    .dataframe tbody tr th {\n",
       "        vertical-align: top;\n",
       "    }\n",
       "\n",
       "    .dataframe thead th {\n",
       "        text-align: right;\n",
       "    }\n",
       "</style>\n",
       "<table border=\"1\" class=\"dataframe\">\n",
       "  <thead>\n",
       "    <tr style=\"text-align: right;\">\n",
       "      <th></th>\n",
       "      <th>Id</th>\n",
       "      <th>PostTypeId</th>\n",
       "      <th>AcceptedAnswerId</th>\n",
       "      <th>CreationDate</th>\n",
       "      <th>Score</th>\n",
       "      <th>ViewCount</th>\n",
       "      <th>Body</th>\n",
       "      <th>OwnerUserId</th>\n",
       "      <th>LastEditorUserId</th>\n",
       "      <th>LastEditDate</th>\n",
       "      <th>...</th>\n",
       "      <th>Tags</th>\n",
       "      <th>AnswerCount</th>\n",
       "      <th>CommentCount</th>\n",
       "      <th>ClosedDate</th>\n",
       "      <th>CommunityOwnedDate</th>\n",
       "      <th>ContentLicense</th>\n",
       "      <th>ParentId</th>\n",
       "      <th>OwnerDisplayName</th>\n",
       "      <th>LastEditorDisplayName</th>\n",
       "      <th>FavoriteCount</th>\n",
       "    </tr>\n",
       "  </thead>\n",
       "  <tbody>\n",
       "    <tr>\n",
       "      <th>225776</th>\n",
       "      <td>419666</td>\n",
       "      <td>2</td>\n",
       "      <td>NaN</td>\n",
       "      <td>2020-12-04T20:40:51.583</td>\n",
       "      <td>5</td>\n",
       "      <td>NaN</td>\n",
       "      <td>&lt;p&gt;It's still trivial. Everywhere you have &lt;co...</td>\n",
       "      <td>115557.0</td>\n",
       "      <td>NaN</td>\n",
       "      <td>None</td>\n",
       "      <td>...</td>\n",
       "      <td>None</td>\n",
       "      <td>NaN</td>\n",
       "      <td>4</td>\n",
       "      <td>None</td>\n",
       "      <td>None</td>\n",
       "      <td>CC BY-SA 4.0</td>\n",
       "      <td>419663.0</td>\n",
       "      <td>None</td>\n",
       "      <td>None</td>\n",
       "      <td>NaN</td>\n",
       "    </tr>\n",
       "    <tr>\n",
       "      <th>50807</th>\n",
       "      <td>109999</td>\n",
       "      <td>2</td>\n",
       "      <td>NaN</td>\n",
       "      <td>2011-09-22T07:57:55.223</td>\n",
       "      <td>0</td>\n",
       "      <td>NaN</td>\n",
       "      <td>&lt;p&gt;&lt;strong&gt;AMQP&lt;/strong&gt;&lt;/p&gt;\\n\\n&lt;p&gt;Use an &lt;a h...</td>\n",
       "      <td>7575.0</td>\n",
       "      <td>31260.0</td>\n",
       "      <td>2011-09-22T10:14:06.527</td>\n",
       "      <td>...</td>\n",
       "      <td>None</td>\n",
       "      <td>NaN</td>\n",
       "      <td>2</td>\n",
       "      <td>None</td>\n",
       "      <td>None</td>\n",
       "      <td>CC BY-SA 3.0</td>\n",
       "      <td>109985.0</td>\n",
       "      <td>None</td>\n",
       "      <td>None</td>\n",
       "      <td>NaN</td>\n",
       "    </tr>\n",
       "    <tr>\n",
       "      <th>19641</th>\n",
       "      <td>46604</td>\n",
       "      <td>2</td>\n",
       "      <td>NaN</td>\n",
       "      <td>2011-02-11T08:27:01.377</td>\n",
       "      <td>1</td>\n",
       "      <td>NaN</td>\n",
       "      <td>&lt;p&gt;Introducing tdd against the will of develop...</td>\n",
       "      <td>9007.0</td>\n",
       "      <td>9007.0</td>\n",
       "      <td>2011-02-11T08:32:51.267</td>\n",
       "      <td>...</td>\n",
       "      <td>None</td>\n",
       "      <td>NaN</td>\n",
       "      <td>0</td>\n",
       "      <td>None</td>\n",
       "      <td>None</td>\n",
       "      <td>CC BY-SA 2.5</td>\n",
       "      <td>46583.0</td>\n",
       "      <td>None</td>\n",
       "      <td>None</td>\n",
       "      <td>NaN</td>\n",
       "    </tr>\n",
       "    <tr>\n",
       "      <th>1988</th>\n",
       "      <td>6005</td>\n",
       "      <td>1</td>\n",
       "      <td>NaN</td>\n",
       "      <td>2010-09-21T17:04:33.370</td>\n",
       "      <td>14</td>\n",
       "      <td>914.0</td>\n",
       "      <td>&lt;p&gt;To the outside world, programmers, computer...</td>\n",
       "      <td>2026.0</td>\n",
       "      <td>2026.0</td>\n",
       "      <td>2010-09-30T21:42:50.247</td>\n",
       "      <td>...</td>\n",
       "      <td>|culture|social|</td>\n",
       "      <td>10.0</td>\n",
       "      <td>4</td>\n",
       "      <td>2011-09-29T02:54:48.390</td>\n",
       "      <td>None</td>\n",
       "      <td>CC BY-SA 2.5</td>\n",
       "      <td>NaN</td>\n",
       "      <td>None</td>\n",
       "      <td>None</td>\n",
       "      <td>NaN</td>\n",
       "    </tr>\n",
       "    <tr>\n",
       "      <th>149774</th>\n",
       "      <td>290582</td>\n",
       "      <td>1</td>\n",
       "      <td>NaN</td>\n",
       "      <td>2015-07-23T10:34:14.123</td>\n",
       "      <td>0</td>\n",
       "      <td>654.0</td>\n",
       "      <td>&lt;p&gt;I have following entities:&lt;/p&gt;\\n\\n&lt;p&gt;&lt;stron...</td>\n",
       "      <td>143996.0</td>\n",
       "      <td>NaN</td>\n",
       "      <td>None</td>\n",
       "      <td>...</td>\n",
       "      <td>|design|database|mongodb|</td>\n",
       "      <td>3.0</td>\n",
       "      <td>3</td>\n",
       "      <td>None</td>\n",
       "      <td>None</td>\n",
       "      <td>CC BY-SA 3.0</td>\n",
       "      <td>NaN</td>\n",
       "      <td>None</td>\n",
       "      <td>None</td>\n",
       "      <td>NaN</td>\n",
       "    </tr>\n",
       "  </tbody>\n",
       "</table>\n",
       "<p>5 rows × 22 columns</p>\n",
       "</div>"
      ],
      "text/plain": [
       "            Id  PostTypeId  AcceptedAnswerId             CreationDate  Score  \\\n",
       "225776  419666           2               NaN  2020-12-04T20:40:51.583      5   \n",
       "50807   109999           2               NaN  2011-09-22T07:57:55.223      0   \n",
       "19641    46604           2               NaN  2011-02-11T08:27:01.377      1   \n",
       "1988      6005           1               NaN  2010-09-21T17:04:33.370     14   \n",
       "149774  290582           1               NaN  2015-07-23T10:34:14.123      0   \n",
       "\n",
       "        ViewCount                                               Body  \\\n",
       "225776        NaN  <p>It's still trivial. Everywhere you have <co...   \n",
       "50807         NaN  <p><strong>AMQP</strong></p>\\n\\n<p>Use an <a h...   \n",
       "19641         NaN  <p>Introducing tdd against the will of develop...   \n",
       "1988        914.0  <p>To the outside world, programmers, computer...   \n",
       "149774      654.0  <p>I have following entities:</p>\\n\\n<p><stron...   \n",
       "\n",
       "        OwnerUserId  LastEditorUserId             LastEditDate  ...  \\\n",
       "225776     115557.0               NaN                     None  ...   \n",
       "50807        7575.0           31260.0  2011-09-22T10:14:06.527  ...   \n",
       "19641        9007.0            9007.0  2011-02-11T08:32:51.267  ...   \n",
       "1988         2026.0            2026.0  2010-09-30T21:42:50.247  ...   \n",
       "149774     143996.0               NaN                     None  ...   \n",
       "\n",
       "                             Tags AnswerCount CommentCount  \\\n",
       "225776                       None         NaN            4   \n",
       "50807                        None         NaN            2   \n",
       "19641                        None         NaN            0   \n",
       "1988             |culture|social|        10.0            4   \n",
       "149774  |design|database|mongodb|         3.0            3   \n",
       "\n",
       "                     ClosedDate  CommunityOwnedDate ContentLicense  ParentId  \\\n",
       "225776                     None                None   CC BY-SA 4.0  419663.0   \n",
       "50807                      None                None   CC BY-SA 3.0  109985.0   \n",
       "19641                      None                None   CC BY-SA 2.5   46583.0   \n",
       "1988    2011-09-29T02:54:48.390                None   CC BY-SA 2.5       NaN   \n",
       "149774                     None                None   CC BY-SA 3.0       NaN   \n",
       "\n",
       "       OwnerDisplayName  LastEditorDisplayName FavoriteCount  \n",
       "225776             None                   None           NaN  \n",
       "50807              None                   None           NaN  \n",
       "19641              None                   None           NaN  \n",
       "1988               None                   None           NaN  \n",
       "149774             None                   None           NaN  \n",
       "\n",
       "[5 rows x 22 columns]"
      ]
     },
     "execution_count": 5,
     "metadata": {},
     "output_type": "execute_result"
    }
   ],
   "source": [
    "posts.sample(5)"
   ]
  },
  {
   "cell_type": "code",
   "execution_count": 6,
   "metadata": {},
   "outputs": [
    {
     "data": {
      "text/html": [
       "<div>\n",
       "<style scoped>\n",
       "    .dataframe tbody tr th:only-of-type {\n",
       "        vertical-align: middle;\n",
       "    }\n",
       "\n",
       "    .dataframe tbody tr th {\n",
       "        vertical-align: top;\n",
       "    }\n",
       "\n",
       "    .dataframe thead th {\n",
       "        text-align: right;\n",
       "    }\n",
       "</style>\n",
       "<table border=\"1\" class=\"dataframe\">\n",
       "  <thead>\n",
       "    <tr style=\"text-align: right;\">\n",
       "      <th></th>\n",
       "      <th>Id</th>\n",
       "      <th>Reputation</th>\n",
       "      <th>CreationDate</th>\n",
       "      <th>DisplayName</th>\n",
       "      <th>LastAccessDate</th>\n",
       "      <th>WebsiteUrl</th>\n",
       "      <th>Location</th>\n",
       "      <th>AboutMe</th>\n",
       "      <th>Views</th>\n",
       "      <th>UpVotes</th>\n",
       "      <th>DownVotes</th>\n",
       "      <th>AccountId</th>\n",
       "    </tr>\n",
       "  </thead>\n",
       "  <tbody>\n",
       "    <tr>\n",
       "      <th>100165</th>\n",
       "      <td>583</td>\n",
       "      <td>191</td>\n",
       "      <td>2010-09-09T10:09:54.403</td>\n",
       "      <td>f4lco</td>\n",
       "      <td>2022-08-06T17:45:07.470</td>\n",
       "      <td>None</td>\n",
       "      <td>Berlin, Germany</td>\n",
       "      <td>&lt;blockquote&gt;\\n&lt;p&gt;To the pessimist, the glass i...</td>\n",
       "      <td>17</td>\n",
       "      <td>7</td>\n",
       "      <td>0</td>\n",
       "      <td>139453.0</td>\n",
       "    </tr>\n",
       "    <tr>\n",
       "      <th>96310</th>\n",
       "      <td>126873</td>\n",
       "      <td>101</td>\n",
       "      <td>2014-04-14T08:02:33.293</td>\n",
       "      <td>hoskeri</td>\n",
       "      <td>2021-06-07T17:26:40.533</td>\n",
       "      <td>http://aph.aa.am</td>\n",
       "      <td>Bangalore, India</td>\n",
       "      <td>None</td>\n",
       "      <td>0</td>\n",
       "      <td>0</td>\n",
       "      <td>0</td>\n",
       "      <td>262178.0</td>\n",
       "    </tr>\n",
       "    <tr>\n",
       "      <th>332505</th>\n",
       "      <td>406230</td>\n",
       "      <td>11</td>\n",
       "      <td>2021-12-06T12:35:05.843</td>\n",
       "      <td>user406230</td>\n",
       "      <td>2021-12-06T12:35:05.843</td>\n",
       "      <td>None</td>\n",
       "      <td>None</td>\n",
       "      <td>None</td>\n",
       "      <td>0</td>\n",
       "      <td>0</td>\n",
       "      <td>0</td>\n",
       "      <td>23561898.0</td>\n",
       "    </tr>\n",
       "    <tr>\n",
       "      <th>311715</th>\n",
       "      <td>384959</td>\n",
       "      <td>101</td>\n",
       "      <td>2021-02-11T09:01:16.120</td>\n",
       "      <td>RAVN Mateus</td>\n",
       "      <td>2021-02-11T14:26:04.310</td>\n",
       "      <td>None</td>\n",
       "      <td>None</td>\n",
       "      <td>None</td>\n",
       "      <td>2</td>\n",
       "      <td>0</td>\n",
       "      <td>0</td>\n",
       "      <td>16442015.0</td>\n",
       "    </tr>\n",
       "    <tr>\n",
       "      <th>5425</th>\n",
       "      <td>14493</td>\n",
       "      <td>1080</td>\n",
       "      <td>2011-01-26T10:27:12.963</td>\n",
       "      <td>Joshua Fox</td>\n",
       "      <td>2023-12-09T20:06:09.613</td>\n",
       "      <td>http://www.joshuafox.com</td>\n",
       "      <td>Israel</td>\n",
       "      <td>&lt;p&gt;See &lt;a href=\"http://joshuafox.com\" rel=\"nof...</td>\n",
       "      <td>60</td>\n",
       "      <td>25</td>\n",
       "      <td>1</td>\n",
       "      <td>17503.0</td>\n",
       "    </tr>\n",
       "  </tbody>\n",
       "</table>\n",
       "</div>"
      ],
      "text/plain": [
       "            Id  Reputation             CreationDate  DisplayName  \\\n",
       "100165     583         191  2010-09-09T10:09:54.403        f4lco   \n",
       "96310   126873         101  2014-04-14T08:02:33.293      hoskeri   \n",
       "332505  406230          11  2021-12-06T12:35:05.843   user406230   \n",
       "311715  384959         101  2021-02-11T09:01:16.120  RAVN Mateus   \n",
       "5425     14493        1080  2011-01-26T10:27:12.963   Joshua Fox   \n",
       "\n",
       "                 LastAccessDate                WebsiteUrl          Location  \\\n",
       "100165  2022-08-06T17:45:07.470                      None   Berlin, Germany   \n",
       "96310   2021-06-07T17:26:40.533          http://aph.aa.am  Bangalore, India   \n",
       "332505  2021-12-06T12:35:05.843                      None              None   \n",
       "311715  2021-02-11T14:26:04.310                      None              None   \n",
       "5425    2023-12-09T20:06:09.613  http://www.joshuafox.com            Israel   \n",
       "\n",
       "                                                  AboutMe  Views  UpVotes  \\\n",
       "100165  <blockquote>\\n<p>To the pessimist, the glass i...     17        7   \n",
       "96310                                                None      0        0   \n",
       "332505                                               None      0        0   \n",
       "311715                                               None      2        0   \n",
       "5425    <p>See <a href=\"http://joshuafox.com\" rel=\"nof...     60       25   \n",
       "\n",
       "        DownVotes   AccountId  \n",
       "100165          0    139453.0  \n",
       "96310           0    262178.0  \n",
       "332505          0  23561898.0  \n",
       "311715          0  16442015.0  \n",
       "5425            1     17503.0  "
      ]
     },
     "execution_count": 6,
     "metadata": {},
     "output_type": "execute_result"
    }
   ],
   "source": [
    "users.sample(5)"
   ]
  },
  {
   "cell_type": "code",
   "execution_count": 7,
   "metadata": {},
   "outputs": [
    {
     "name": "stderr",
     "output_type": "stream",
     "text": [
      "/Users/bentodan/hse_sna_p2024/complexity_hunters/../utils/data_worker.py:33: MarkupResemblesLocatorWarning: The input looks more like a filename than markup. You may want to open this file and pass the filehandle into Beautiful Soup.\n",
      "  soup = bs4.BeautifulSoup(html_row, \"html.parser\")\n"
     ]
    }
   ],
   "source": [
    "posts.dropna(subset=[\"Body\"], inplace=True, axis=0)\n",
    "posts[\"Body\"] = posts[\"Body\"].apply(utils.data_worker.html_to_str)"
   ]
  },
  {
   "cell_type": "code",
   "execution_count": 8,
   "metadata": {},
   "outputs": [
    {
     "data": {
      "text/plain": [
       "0         A coworker of mine believes that  any  use of ...\n",
       "1         Ideally, code should be so well coded that it ...\n",
       "2         When starting a project for a company that's n...\n",
       "3         I think the answer is the usual \"It depends\" o...\n",
       "4         Sometimes, the things I have to do for my job ...\n",
       "                                ...                        \n",
       "244061    I have a NextJS app for which I want to cache ...\n",
       "244062    The solution is to do the rendering on the ser...\n",
       "244063    I have a \"Games\" API which retrieves video gam...\n",
       "244064    The idea is to have multiple generic endpoints...\n",
       "244065    Your assumption that you always need all the d...\n",
       "Name: Body, Length: 243622, dtype: object"
      ]
     },
     "execution_count": 8,
     "metadata": {},
     "output_type": "execute_result"
    }
   ],
   "source": [
    "posts.Body"
   ]
  },
  {
   "cell_type": "code",
   "execution_count": 9,
   "metadata": {},
   "outputs": [
    {
     "name": "stdout",
     "output_type": "stream",
     "text": [
      "number of samples for questions 63423, answers 178628\n"
     ]
    }
   ],
   "source": [
    "assert answers.AcceptedAnswerId.isna().sum() == answers.shape[0]\n",
    "print(f\"number of samples for questions {questions.shape[0]}, answers {answers.shape[0]}\")"
   ]
  },
  {
   "cell_type": "code",
   "execution_count": 10,
   "metadata": {},
   "outputs": [
    {
     "data": {
      "text/plain": [
       "171806"
      ]
     },
     "execution_count": 10,
     "metadata": {},
     "output_type": "execute_result"
    }
   ],
   "source": [
    "answers = answers.dropna(subset=[\"ParentId\", \"OwnerUserId\", \"Score\"])\n",
    "answers.shape[0]"
   ]
  },
  {
   "cell_type": "code",
   "execution_count": 11,
   "metadata": {},
   "outputs": [
    {
     "name": "stderr",
     "output_type": "stream",
     "text": [
      "/var/folders/bz/m50lp4pd7gz1pfrr0m8krgtm0000gn/T/ipykernel_22491/12509712.py:1: SettingWithCopyWarning: \n",
      "A value is trying to be set on a copy of a slice from a DataFrame.\n",
      "Try using .loc[row_indexer,col_indexer] = value instead\n",
      "\n",
      "See the caveats in the documentation: https://pandas.pydata.org/pandas-docs/stable/user_guide/indexing.html#returning-a-view-versus-a-copy\n",
      "  questions[\"words_cnt\"] = words_count(questions[\"Body\"])\n",
      "/var/folders/bz/m50lp4pd7gz1pfrr0m8krgtm0000gn/T/ipykernel_22491/12509712.py:2: SettingWithCopyWarning: \n",
      "A value is trying to be set on a copy of a slice from a DataFrame.\n",
      "Try using .loc[row_indexer,col_indexer] = value instead\n",
      "\n",
      "See the caveats in the documentation: https://pandas.pydata.org/pandas-docs/stable/user_guide/indexing.html#returning-a-view-versus-a-copy\n",
      "  questions[\"tech_words_cnt\"] = tech_words_count(questions[\"Body\"])\n",
      "/var/folders/bz/m50lp4pd7gz1pfrr0m8krgtm0000gn/T/ipykernel_22491/12509712.py:3: SettingWithCopyWarning: \n",
      "A value is trying to be set on a copy of a slice from a DataFrame.\n",
      "Try using .loc[row_indexer,col_indexer] = value instead\n",
      "\n",
      "See the caveats in the documentation: https://pandas.pydata.org/pandas-docs/stable/user_guide/indexing.html#returning-a-view-versus-a-copy\n",
      "  questions[\"negative_answers\"] = negative_answers_count(questions, answers, 0)\n"
     ]
    }
   ],
   "source": [
    "questions[\"words_cnt\"] = words_count(questions[\"Body\"])\n",
    "questions[\"tech_words_cnt\"] = tech_words_count(questions[\"Body\"])\n",
    "questions[\"negative_answers\"] = negative_answers_count(questions, answers, 0)"
   ]
  },
  {
   "cell_type": "code",
   "execution_count": 12,
   "metadata": {},
   "outputs": [
    {
     "data": {
      "text/plain": [
       "negative_answers\n",
       "0     59084\n",
       "1      3660\n",
       "2       506\n",
       "3        99\n",
       "4        40\n",
       "5        13\n",
       "6        12\n",
       "7         5\n",
       "13        1\n",
       "8         1\n",
       "9         1\n",
       "17        1\n",
       "Name: count, dtype: int64"
      ]
     },
     "execution_count": 12,
     "metadata": {},
     "output_type": "execute_result"
    }
   ],
   "source": [
    "questions.negative_answers.value_counts()"
   ]
  },
  {
   "cell_type": "code",
   "execution_count": 13,
   "metadata": {},
   "outputs": [
    {
     "data": {
      "text/plain": [
       "<Axes: >"
      ]
     },
     "execution_count": 13,
     "metadata": {},
     "output_type": "execute_result"
    },
    {
     "data": {
      "image/png": "[encoded data removed]",
      "text/plain": [
       "<Figure size 640x480 with 1 Axes>"
      ]
     },
     "metadata": {},
     "output_type": "display_data"
    }
   ],
   "source": [
    "questions.words_cnt.hist()"
   ]
  },
  {
   "cell_type": "code",
   "execution_count": 14,
   "metadata": {},
   "outputs": [
    {
     "data": {
      "text/plain": [
       "tech_words_cnt\n",
       "0      25212\n",
       "1      10542\n",
       "2       7311\n",
       "3       5038\n",
       "4       3657\n",
       "5       2752\n",
       "6       2071\n",
       "7       1545\n",
       "8       1171\n",
       "9        869\n",
       "10       684\n",
       "11       504\n",
       "12       440\n",
       "13       324\n",
       "14       230\n",
       "15       197\n",
       "16       170\n",
       "17       122\n",
       "18        92\n",
       "19        80\n",
       "20        61\n",
       "21        47\n",
       "22        43\n",
       "23        39\n",
       "24        34\n",
       "27        28\n",
       "25        25\n",
       "26        17\n",
       "29        15\n",
       "32        11\n",
       "30         9\n",
       "28         9\n",
       "31         8\n",
       "35         7\n",
       "33         6\n",
       "34         6\n",
       "39         6\n",
       "36         5\n",
       "40         5\n",
       "41         4\n",
       "48         3\n",
       "46         3\n",
       "38         3\n",
       "37         3\n",
       "50         2\n",
       "42         2\n",
       "43         2\n",
       "45         2\n",
       "47         2\n",
       "53         1\n",
       "49         1\n",
       "106        1\n",
       "44         1\n",
       "100        1\n",
       "Name: count, dtype: int64"
      ]
     },
     "execution_count": 14,
     "metadata": {},
     "output_type": "execute_result"
    }
   ],
   "source": [
    "questions.tech_words_cnt.value_counts()"
   ]
  },
  {
   "cell_type": "markdown",
   "metadata": {},
   "source": [
    "Добавим флаги по посчитанным метрикам"
   ]
  },
  {
   "cell_type": "code",
   "execution_count": 15,
   "metadata": {},
   "outputs": [
    {
     "name": "stderr",
     "output_type": "stream",
     "text": [
      "/var/folders/bz/m50lp4pd7gz1pfrr0m8krgtm0000gn/T/ipykernel_22491/3366938931.py:4: SettingWithCopyWarning: \n",
      "A value is trying to be set on a copy of a slice from a DataFrame.\n",
      "Try using .loc[row_indexer,col_indexer] = value instead\n",
      "\n",
      "See the caveats in the documentation: https://pandas.pydata.org/pandas-docs/stable/user_guide/indexing.html#returning-a-view-versus-a-copy\n",
      "  questions[\"is_dummy\"] = (questions[\"Score\"] <= rating_barrier) | (questions[\"words_cnt\"] <= len_barrier) | (questions[\"tech_words_cnt\"] <= tech_words_barrier)\n"
     ]
    }
   ],
   "source": [
    "rating_barrier = -1\n",
    "len_barrier = 50\n",
    "tech_words_barrier = 3\n",
    "questions[\"is_dummy\"] = (questions[\"Score\"] <= rating_barrier) | (questions[\"words_cnt\"] <= len_barrier) | (questions[\"tech_words_cnt\"] <= tech_words_barrier)"
   ]
  },
  {
   "cell_type": "code",
   "execution_count": 16,
   "metadata": {},
   "outputs": [
    {
     "name": "stderr",
     "output_type": "stream",
     "text": [
      "/var/folders/bz/m50lp4pd7gz1pfrr0m8krgtm0000gn/T/ipykernel_22491/3150892594.py:2: SettingWithCopyWarning: \n",
      "A value is trying to be set on a copy of a slice from a DataFrame.\n",
      "Try using .loc[row_indexer,col_indexer] = value instead\n",
      "\n",
      "See the caveats in the documentation: https://pandas.pydata.org/pandas-docs/stable/user_guide/indexing.html#returning-a-view-versus-a-copy\n",
      "  questions[\"is_complex\"] = (questions[\"Score\"] > rating_barrier) & (questions[\"words_cnt\"] >= len_barrier) & (questions[\"tech_words_cnt\"] > tech_words_barrier)  # & (questions[\"negative_answers\"] >= 2)\n"
     ]
    }
   ],
   "source": [
    "len_barrier = 350\n",
    "questions[\"is_complex\"] = (questions[\"Score\"] > rating_barrier) & (questions[\"words_cnt\"] >= len_barrier) & (questions[\"tech_words_cnt\"] > tech_words_barrier)  # & (questions[\"negative_answers\"] >= 2)"
   ]
  },
  {
   "cell_type": "code",
   "execution_count": 17,
   "metadata": {},
   "outputs": [
    {
     "data": {
      "text/plain": [
       "is_dummy\n",
       "True     49094\n",
       "False    14329\n",
       "Name: count, dtype: int64"
      ]
     },
     "execution_count": 17,
     "metadata": {},
     "output_type": "execute_result"
    }
   ],
   "source": [
    "questions.is_dummy.value_counts()"
   ]
  },
  {
   "cell_type": "code",
   "execution_count": 18,
   "metadata": {},
   "outputs": [
    {
     "data": {
      "text/plain": [
       "is_complex\n",
       "False    58308\n",
       "True      5115\n",
       "Name: count, dtype: int64"
      ]
     },
     "execution_count": 18,
     "metadata": {},
     "output_type": "execute_result"
    }
   ],
   "source": [
    "questions.is_complex.value_counts()"
   ]
  },
  {
   "cell_type": "markdown",
   "metadata": {},
   "source": [
    "Если учесть наличие `negative_answers`, то количество `complex` вопросов падает до 70 =["
   ]
  },
  {
   "cell_type": "code",
   "execution_count": 19,
   "metadata": {},
   "outputs": [
    {
     "data": {
      "text/plain": [
       "0"
      ]
     },
     "execution_count": 19,
     "metadata": {},
     "output_type": "execute_result"
    }
   ],
   "source": [
    "questions[questions[\"is_dummy\"] & questions[\"is_complex\"]].shape[0]  # чекаем, что нет пересечения"
   ]
  },
  {
   "cell_type": "code",
   "execution_count": 21,
   "metadata": {},
   "outputs": [],
   "source": [
    "questions.to_csv(\"../data/cache/prepared_questions_metrics.csv\", index=False)"
   ]
  },
  {
   "cell_type": "code",
   "execution_count": 22,
   "metadata": {},
   "outputs": [],
   "source": [
    "answers.to_csv(\"../data/cache/prepared_answers_metrics.csv\", index=False)"
   ]
  },
  {
   "cell_type": "code",
   "execution_count": null,
   "metadata": {},
   "outputs": [],
   "source": []
  }
 ],
 "metadata": {
  "kernelspec": {
   "display_name": ".venv",
   "language": "python",
   "name": "python3"
  },
  "language_info": {
   "codemirror_mode": {
    "name": "ipython",
    "version": 3
   },
   "file_extension": ".py",
   "mimetype": "text/x-python",
   "name": "python",
   "nbconvert_exporter": "python",
   "pygments_lexer": "ipython3",
   "version": "3.10.15"
  }
 },
 "nbformat": 4,
 "nbformat_minor": 2
}

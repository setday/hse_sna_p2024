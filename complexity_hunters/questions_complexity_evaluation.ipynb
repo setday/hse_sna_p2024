{
 "cells": [
  {
   "cell_type": "code",
   "execution_count": 1,
   "metadata": {},
   "outputs": [],
   "source": [
    "import sys\n",
    "sys.path.append(\"..\")  # to make utils importable"
   ]
  },
  {
   "cell_type": "code",
   "execution_count": 2,
   "metadata": {},
   "outputs": [],
   "source": [
    "import utils.consts\n",
    "import utils.data_worker\n",
    "\n",
    "from text_metrics import words_count, tech_words_count, negative_answers_count"
   ]
  },
  {
   "cell_type": "markdown",
   "metadata": {},
   "source": [
    "Описание полей: <br>\n",
    "OwnerUserId поста это Id юзера <br>\n",
    "PostTypeId 1 или 2 - 1 это вопрос, 2 это ответ <br>\n",
    "ParentId ответа это Id вопроса\n"
   ]
  },
  {
   "cell_type": "code",
   "execution_count": 3,
   "metadata": {},
   "outputs": [
    {
     "name": "stdout",
     "output_type": "stream",
     "text": [
      "INFO: Loading dataset ../data/Posts.xml...\n",
      "INFO: Loading dataset ../data/Users.xml...\n"
     ]
    }
   ],
   "source": [
    "posts = utils.data_worker.load_dataset(\n",
    "    utils.consts.POSTS_DATA_PATH, debug_slice=False)\n",
    "users = utils.data_worker.load_dataset(\n",
    "    utils.consts.USERS_DATA_PATH, debug_slice=False)"
   ]
  },
  {
   "cell_type": "code",
   "execution_count": 4,
   "metadata": {},
   "outputs": [
    {
     "data": {
      "text/plain": [
       "(178628, 178628)"
      ]
     },
     "execution_count": 4,
     "metadata": {},
     "output_type": "execute_result"
    }
   ],
   "source": [
    "questions, answers = utils.data_worker.question_answer_split(posts)\n",
    "\n",
    "answers.Tags.isna().sum(), answers.shape[0]  # тэги это прерогатива вопросов"
   ]
  },
  {
   "cell_type": "code",
   "execution_count": 5,
   "metadata": {},
   "outputs": [
    {
     "data": {
      "text/html": [
       "<div>\n",
       "<style scoped>\n",
       "    .dataframe tbody tr th:only-of-type {\n",
       "        vertical-align: middle;\n",
       "    }\n",
       "\n",
       "    .dataframe tbody tr th {\n",
       "        vertical-align: top;\n",
       "    }\n",
       "\n",
       "    .dataframe thead th {\n",
       "        text-align: right;\n",
       "    }\n",
       "</style>\n",
       "<table border=\"1\" class=\"dataframe\">\n",
       "  <thead>\n",
       "    <tr style=\"text-align: right;\">\n",
       "      <th></th>\n",
       "      <th>Id</th>\n",
       "      <th>PostTypeId</th>\n",
       "      <th>AcceptedAnswerId</th>\n",
       "      <th>CreationDate</th>\n",
       "      <th>Score</th>\n",
       "      <th>ViewCount</th>\n",
       "      <th>Body</th>\n",
       "      <th>OwnerUserId</th>\n",
       "      <th>LastEditorUserId</th>\n",
       "      <th>LastEditDate</th>\n",
       "      <th>...</th>\n",
       "      <th>Tags</th>\n",
       "      <th>AnswerCount</th>\n",
       "      <th>CommentCount</th>\n",
       "      <th>ClosedDate</th>\n",
       "      <th>CommunityOwnedDate</th>\n",
       "      <th>ContentLicense</th>\n",
       "      <th>ParentId</th>\n",
       "      <th>OwnerDisplayName</th>\n",
       "      <th>LastEditorDisplayName</th>\n",
       "      <th>FavoriteCount</th>\n",
       "    </tr>\n",
       "  </thead>\n",
       "  <tbody>\n",
       "    <tr>\n",
       "      <th>18235</th>\n",
       "      <td>43930</td>\n",
       "      <td>2</td>\n",
       "      <td>NaN</td>\n",
       "      <td>2011-02-04T22:49:48.310</td>\n",
       "      <td>2</td>\n",
       "      <td>NaN</td>\n",
       "      <td>&lt;p&gt;I like a lot of your third paragraph @Micha...</td>\n",
       "      <td>11940.0</td>\n",
       "      <td>NaN</td>\n",
       "      <td>None</td>\n",
       "      <td>...</td>\n",
       "      <td>None</td>\n",
       "      <td>NaN</td>\n",
       "      <td>0</td>\n",
       "      <td>None</td>\n",
       "      <td>None</td>\n",
       "      <td>CC BY-SA 2.5</td>\n",
       "      <td>43838.0</td>\n",
       "      <td>None</td>\n",
       "      <td>None</td>\n",
       "      <td>NaN</td>\n",
       "    </tr>\n",
       "    <tr>\n",
       "      <th>202391</th>\n",
       "      <td>378914</td>\n",
       "      <td>1</td>\n",
       "      <td>378918.0</td>\n",
       "      <td>2018-09-24T15:28:20.923</td>\n",
       "      <td>11</td>\n",
       "      <td>3721.0</td>\n",
       "      <td>&lt;p&gt;I really love clean code and I always want ...</td>\n",
       "      <td>316014.0</td>\n",
       "      <td>316014.0</td>\n",
       "      <td>2018-09-24T16:00:42.220</td>\n",
       "      <td>...</td>\n",
       "      <td>|single-responsibility|encapsulation|separatio...</td>\n",
       "      <td>7.0</td>\n",
       "      <td>3</td>\n",
       "      <td>None</td>\n",
       "      <td>None</td>\n",
       "      <td>CC BY-SA 4.0</td>\n",
       "      <td>NaN</td>\n",
       "      <td>None</td>\n",
       "      <td>None</td>\n",
       "      <td>NaN</td>\n",
       "    </tr>\n",
       "    <tr>\n",
       "      <th>175835</th>\n",
       "      <td>338148</td>\n",
       "      <td>2</td>\n",
       "      <td>NaN</td>\n",
       "      <td>2016-12-14T16:48:04.547</td>\n",
       "      <td>6</td>\n",
       "      <td>NaN</td>\n",
       "      <td>&lt;p&gt;In MVP, the Presenter replaces MVC's Contro...</td>\n",
       "      <td>13181.0</td>\n",
       "      <td>NaN</td>\n",
       "      <td>None</td>\n",
       "      <td>...</td>\n",
       "      <td>None</td>\n",
       "      <td>NaN</td>\n",
       "      <td>0</td>\n",
       "      <td>None</td>\n",
       "      <td>None</td>\n",
       "      <td>CC BY-SA 3.0</td>\n",
       "      <td>338143.0</td>\n",
       "      <td>None</td>\n",
       "      <td>None</td>\n",
       "      <td>NaN</td>\n",
       "    </tr>\n",
       "    <tr>\n",
       "      <th>231515</th>\n",
       "      <td>431177</td>\n",
       "      <td>1</td>\n",
       "      <td>NaN</td>\n",
       "      <td>2021-08-19T04:12:58.557</td>\n",
       "      <td>0</td>\n",
       "      <td>635.0</td>\n",
       "      <td>&lt;p&gt;I am using AWS dynamodb for my project.&lt;/p&gt;...</td>\n",
       "      <td>15257.0</td>\n",
       "      <td>NaN</td>\n",
       "      <td>None</td>\n",
       "      <td>...</td>\n",
       "      <td>|nosql|aws|</td>\n",
       "      <td>1.0</td>\n",
       "      <td>0</td>\n",
       "      <td>None</td>\n",
       "      <td>None</td>\n",
       "      <td>CC BY-SA 4.0</td>\n",
       "      <td>NaN</td>\n",
       "      <td>None</td>\n",
       "      <td>None</td>\n",
       "      <td>NaN</td>\n",
       "    </tr>\n",
       "    <tr>\n",
       "      <th>159334</th>\n",
       "      <td>310526</td>\n",
       "      <td>2</td>\n",
       "      <td>NaN</td>\n",
       "      <td>2016-02-19T12:19:13.477</td>\n",
       "      <td>4</td>\n",
       "      <td>NaN</td>\n",
       "      <td>&lt;p&gt;The product owner is always the proxy to th...</td>\n",
       "      <td>6586.0</td>\n",
       "      <td>6586.0</td>\n",
       "      <td>2016-02-23T14:53:40.800</td>\n",
       "      <td>...</td>\n",
       "      <td>None</td>\n",
       "      <td>NaN</td>\n",
       "      <td>0</td>\n",
       "      <td>None</td>\n",
       "      <td>None</td>\n",
       "      <td>CC BY-SA 3.0</td>\n",
       "      <td>238481.0</td>\n",
       "      <td>None</td>\n",
       "      <td>None</td>\n",
       "      <td>NaN</td>\n",
       "    </tr>\n",
       "  </tbody>\n",
       "</table>\n",
       "<p>5 rows × 22 columns</p>\n",
       "</div>"
      ],
      "text/plain": [
       "            Id  PostTypeId  AcceptedAnswerId             CreationDate  Score  \\\n",
       "18235    43930           2               NaN  2011-02-04T22:49:48.310      2   \n",
       "202391  378914           1          378918.0  2018-09-24T15:28:20.923     11   \n",
       "175835  338148           2               NaN  2016-12-14T16:48:04.547      6   \n",
       "231515  431177           1               NaN  2021-08-19T04:12:58.557      0   \n",
       "159334  310526           2               NaN  2016-02-19T12:19:13.477      4   \n",
       "\n",
       "        ViewCount                                               Body  \\\n",
       "18235         NaN  <p>I like a lot of your third paragraph @Micha...   \n",
       "202391     3721.0  <p>I really love clean code and I always want ...   \n",
       "175835        NaN  <p>In MVP, the Presenter replaces MVC's Contro...   \n",
       "231515      635.0  <p>I am using AWS dynamodb for my project.</p>...   \n",
       "159334        NaN  <p>The product owner is always the proxy to th...   \n",
       "\n",
       "        OwnerUserId  LastEditorUserId             LastEditDate  ...  \\\n",
       "18235       11940.0               NaN                     None  ...   \n",
       "202391     316014.0          316014.0  2018-09-24T16:00:42.220  ...   \n",
       "175835      13181.0               NaN                     None  ...   \n",
       "231515      15257.0               NaN                     None  ...   \n",
       "159334       6586.0            6586.0  2016-02-23T14:53:40.800  ...   \n",
       "\n",
       "                                                     Tags AnswerCount  \\\n",
       "18235                                                None         NaN   \n",
       "202391  |single-responsibility|encapsulation|separatio...         7.0   \n",
       "175835                                               None         NaN   \n",
       "231515                                        |nosql|aws|         1.0   \n",
       "159334                                               None         NaN   \n",
       "\n",
       "       CommentCount  ClosedDate  CommunityOwnedDate ContentLicense  ParentId  \\\n",
       "18235             0        None                None   CC BY-SA 2.5   43838.0   \n",
       "202391            3        None                None   CC BY-SA 4.0       NaN   \n",
       "175835            0        None                None   CC BY-SA 3.0  338143.0   \n",
       "231515            0        None                None   CC BY-SA 4.0       NaN   \n",
       "159334            0        None                None   CC BY-SA 3.0  238481.0   \n",
       "\n",
       "       OwnerDisplayName  LastEditorDisplayName FavoriteCount  \n",
       "18235              None                   None           NaN  \n",
       "202391             None                   None           NaN  \n",
       "175835             None                   None           NaN  \n",
       "231515             None                   None           NaN  \n",
       "159334             None                   None           NaN  \n",
       "\n",
       "[5 rows x 22 columns]"
      ]
     },
     "execution_count": 5,
     "metadata": {},
     "output_type": "execute_result"
    }
   ],
   "source": [
    "posts.sample(5)"
   ]
  },
  {
   "cell_type": "code",
   "execution_count": 6,
   "metadata": {},
   "outputs": [
    {
     "data": {
      "text/html": [
       "<div>\n",
       "<style scoped>\n",
       "    .dataframe tbody tr th:only-of-type {\n",
       "        vertical-align: middle;\n",
       "    }\n",
       "\n",
       "    .dataframe tbody tr th {\n",
       "        vertical-align: top;\n",
       "    }\n",
       "\n",
       "    .dataframe thead th {\n",
       "        text-align: right;\n",
       "    }\n",
       "</style>\n",
       "<table border=\"1\" class=\"dataframe\">\n",
       "  <thead>\n",
       "    <tr style=\"text-align: right;\">\n",
       "      <th></th>\n",
       "      <th>Id</th>\n",
       "      <th>Reputation</th>\n",
       "      <th>CreationDate</th>\n",
       "      <th>DisplayName</th>\n",
       "      <th>LastAccessDate</th>\n",
       "      <th>WebsiteUrl</th>\n",
       "      <th>Location</th>\n",
       "      <th>AboutMe</th>\n",
       "      <th>Views</th>\n",
       "      <th>UpVotes</th>\n",
       "      <th>DownVotes</th>\n",
       "      <th>AccountId</th>\n",
       "    </tr>\n",
       "  </thead>\n",
       "  <tbody>\n",
       "    <tr>\n",
       "      <th>29488</th>\n",
       "      <td>42548</td>\n",
       "      <td>388</td>\n",
       "      <td>2011-12-08T17:43:53.963</td>\n",
       "      <td>Alex Garcia</td>\n",
       "      <td>2019-06-27T18:28:20.340</td>\n",
       "      <td>http://www.perdu.com</td>\n",
       "      <td>Brussels, Belgique</td>\n",
       "      <td>&lt;p&gt;Yup, that's me.&lt;/p&gt;\\n\\n&lt;p&gt;Software enthusia...</td>\n",
       "      <td>12</td>\n",
       "      <td>4</td>\n",
       "      <td>1</td>\n",
       "      <td>222732.0</td>\n",
       "    </tr>\n",
       "    <tr>\n",
       "      <th>15981</th>\n",
       "      <td>26284</td>\n",
       "      <td>101</td>\n",
       "      <td>2011-05-26T13:12:31.130</td>\n",
       "      <td>Paolo Stefan</td>\n",
       "      <td>2021-02-22T09:59:33.330</td>\n",
       "      <td>http://paolostefan.it</td>\n",
       "      <td>Padua, Italy</td>\n",
       "      <td>&lt;p&gt;I love coding, be it for fun or for work.&lt;/...</td>\n",
       "      <td>5</td>\n",
       "      <td>6</td>\n",
       "      <td>0</td>\n",
       "      <td>370987.0</td>\n",
       "    </tr>\n",
       "    <tr>\n",
       "      <th>204777</th>\n",
       "      <td>257251</td>\n",
       "      <td>101</td>\n",
       "      <td>2016-12-19T05:08:58.897</td>\n",
       "      <td>Pedro</td>\n",
       "      <td>2022-03-18T22:56:13.797</td>\n",
       "      <td>None</td>\n",
       "      <td>None</td>\n",
       "      <td>&lt;h1&gt;SOreadytohelp&lt;/h1&gt;\\n</td>\n",
       "      <td>0</td>\n",
       "      <td>2</td>\n",
       "      <td>0</td>\n",
       "      <td>274712.0</td>\n",
       "    </tr>\n",
       "    <tr>\n",
       "      <th>345479</th>\n",
       "      <td>398260</td>\n",
       "      <td>1</td>\n",
       "      <td>2021-07-24T13:50:32.697</td>\n",
       "      <td>David</td>\n",
       "      <td>2022-06-23T18:38:02.793</td>\n",
       "      <td>https://david-cenzual.github.io/</td>\n",
       "      <td>Barcelona, Spain</td>\n",
       "      <td>&lt;p&gt;I must not fear. Fear is the mind-killer. F...</td>\n",
       "      <td>0</td>\n",
       "      <td>0</td>\n",
       "      <td>0</td>\n",
       "      <td>21398118.0</td>\n",
       "    </tr>\n",
       "    <tr>\n",
       "      <th>277778</th>\n",
       "      <td>339371</td>\n",
       "      <td>1</td>\n",
       "      <td>2019-06-23T17:54:01.363</td>\n",
       "      <td>linly</td>\n",
       "      <td>2020-04-04T16:35:00.330</td>\n",
       "      <td>None</td>\n",
       "      <td>None</td>\n",
       "      <td>None</td>\n",
       "      <td>0</td>\n",
       "      <td>0</td>\n",
       "      <td>0</td>\n",
       "      <td>6770260.0</td>\n",
       "    </tr>\n",
       "  </tbody>\n",
       "</table>\n",
       "</div>"
      ],
      "text/plain": [
       "            Id  Reputation             CreationDate   DisplayName  \\\n",
       "29488    42548         388  2011-12-08T17:43:53.963   Alex Garcia   \n",
       "15981    26284         101  2011-05-26T13:12:31.130  Paolo Stefan   \n",
       "204777  257251         101  2016-12-19T05:08:58.897         Pedro   \n",
       "345479  398260           1  2021-07-24T13:50:32.697         David   \n",
       "277778  339371           1  2019-06-23T17:54:01.363         linly   \n",
       "\n",
       "                 LastAccessDate                        WebsiteUrl  \\\n",
       "29488   2019-06-27T18:28:20.340              http://www.perdu.com   \n",
       "15981   2021-02-22T09:59:33.330             http://paolostefan.it   \n",
       "204777  2022-03-18T22:56:13.797                              None   \n",
       "345479  2022-06-23T18:38:02.793  https://david-cenzual.github.io/   \n",
       "277778  2020-04-04T16:35:00.330                              None   \n",
       "\n",
       "                  Location                                            AboutMe  \\\n",
       "29488   Brussels, Belgique  <p>Yup, that's me.</p>\\n\\n<p>Software enthusia...   \n",
       "15981         Padua, Italy  <p>I love coding, be it for fun or for work.</...   \n",
       "204777                None                           <h1>SOreadytohelp</h1>\\n   \n",
       "345479    Barcelona, Spain  <p>I must not fear. Fear is the mind-killer. F...   \n",
       "277778                None                                               None   \n",
       "\n",
       "        Views  UpVotes  DownVotes   AccountId  \n",
       "29488      12        4          1    222732.0  \n",
       "15981       5        6          0    370987.0  \n",
       "204777      0        2          0    274712.0  \n",
       "345479      0        0          0  21398118.0  \n",
       "277778      0        0          0   6770260.0  "
      ]
     },
     "execution_count": 6,
     "metadata": {},
     "output_type": "execute_result"
    }
   ],
   "source": [
    "users.sample(5)"
   ]
  },
  {
   "cell_type": "code",
   "execution_count": 7,
   "metadata": {},
   "outputs": [
    {
     "name": "stderr",
     "output_type": "stream",
     "text": [
      "/Users/bentodan/hse_sna_p2024/complexity_hunters/../utils/data_worker.py:33: MarkupResemblesLocatorWarning: The input looks more like a filename than markup. You may want to open this file and pass the filehandle into Beautiful Soup.\n",
      "  soup = bs4.BeautifulSoup(html_row, \"html.parser\")\n"
     ]
    }
   ],
   "source": [
    "posts.dropna(subset=[\"Body\"], inplace=True, axis=0)\n",
    "posts[\"Body\"] = posts[\"Body\"].apply(utils.data_worker.html_to_str)"
   ]
  },
  {
   "cell_type": "code",
   "execution_count": 8,
   "metadata": {},
   "outputs": [
    {
     "data": {
      "text/plain": [
       "0         A coworker of mine believes that  any  use of ...\n",
       "1         Ideally, code should be so well coded that it ...\n",
       "2         When starting a project for a company that's n...\n",
       "3         I think the answer is the usual \"It depends\" o...\n",
       "4         Sometimes, the things I have to do for my job ...\n",
       "                                ...                        \n",
       "244061    I have a NextJS app for which I want to cache ...\n",
       "244062    The solution is to do the rendering on the ser...\n",
       "244063    I have a \"Games\" API which retrieves video gam...\n",
       "244064    The idea is to have multiple generic endpoints...\n",
       "244065    Your assumption that you always need all the d...\n",
       "Name: Body, Length: 243622, dtype: object"
      ]
     },
     "execution_count": 8,
     "metadata": {},
     "output_type": "execute_result"
    }
   ],
   "source": [
    "posts.Body"
   ]
  },
  {
   "cell_type": "code",
   "execution_count": 9,
   "metadata": {},
   "outputs": [
    {
     "name": "stdout",
     "output_type": "stream",
     "text": [
      "number of samples for questions 63423, answers 178628\n"
     ]
    }
   ],
   "source": [
    "assert answers.AcceptedAnswerId.isna().sum() == answers.shape[0]\n",
    "print(\n",
    "    f\"number of samples for questions {questions.shape[0]}, answers {answers.shape[0]}\")"
   ]
  },
  {
   "cell_type": "code",
   "execution_count": 10,
   "metadata": {},
   "outputs": [
    {
     "data": {
      "text/plain": [
       "171806"
      ]
     },
     "execution_count": 10,
     "metadata": {},
     "output_type": "execute_result"
    }
   ],
   "source": [
    "answers = answers.dropna(subset=[\"ParentId\", \"OwnerUserId\", \"Score\"])\n",
    "answers.shape[0]"
   ]
  },
  {
   "cell_type": "code",
   "execution_count": 11,
   "metadata": {},
   "outputs": [
    {
     "name": "stderr",
     "output_type": "stream",
     "text": [
      "/var/folders/bz/m50lp4pd7gz1pfrr0m8krgtm0000gn/T/ipykernel_28753/12509712.py:1: SettingWithCopyWarning: \n",
      "A value is trying to be set on a copy of a slice from a DataFrame.\n",
      "Try using .loc[row_indexer,col_indexer] = value instead\n",
      "\n",
      "See the caveats in the documentation: https://pandas.pydata.org/pandas-docs/stable/user_guide/indexing.html#returning-a-view-versus-a-copy\n",
      "  questions[\"words_cnt\"] = words_count(questions[\"Body\"])\n",
      "/var/folders/bz/m50lp4pd7gz1pfrr0m8krgtm0000gn/T/ipykernel_28753/12509712.py:2: SettingWithCopyWarning: \n",
      "A value is trying to be set on a copy of a slice from a DataFrame.\n",
      "Try using .loc[row_indexer,col_indexer] = value instead\n",
      "\n",
      "See the caveats in the documentation: https://pandas.pydata.org/pandas-docs/stable/user_guide/indexing.html#returning-a-view-versus-a-copy\n",
      "  questions[\"tech_words_cnt\"] = tech_words_count(questions[\"Body\"])\n",
      "/var/folders/bz/m50lp4pd7gz1pfrr0m8krgtm0000gn/T/ipykernel_28753/12509712.py:3: SettingWithCopyWarning: \n",
      "A value is trying to be set on a copy of a slice from a DataFrame.\n",
      "Try using .loc[row_indexer,col_indexer] = value instead\n",
      "\n",
      "See the caveats in the documentation: https://pandas.pydata.org/pandas-docs/stable/user_guide/indexing.html#returning-a-view-versus-a-copy\n",
      "  questions[\"negative_answers\"] = negative_answers_count(questions, answers, 0)\n"
     ]
    }
   ],
   "source": [
    "questions[\"words_cnt\"] = words_count(questions[\"Body\"])\n",
    "questions[\"tech_words_cnt\"] = tech_words_count(questions[\"Body\"])\n",
    "questions[\"negative_answers\"] = negative_answers_count(questions, answers, 0)"
   ]
  },
  {
   "cell_type": "code",
   "execution_count": 12,
   "metadata": {},
   "outputs": [
    {
     "data": {
      "text/plain": [
       "negative_answers\n",
       "0     59084\n",
       "1      3660\n",
       "2       506\n",
       "3        99\n",
       "4        40\n",
       "5        13\n",
       "6        12\n",
       "7         5\n",
       "13        1\n",
       "8         1\n",
       "9         1\n",
       "17        1\n",
       "Name: count, dtype: int64"
      ]
     },
     "execution_count": 12,
     "metadata": {},
     "output_type": "execute_result"
    }
   ],
   "source": [
    "questions.negative_answers.value_counts()"
   ]
  },
  {
   "cell_type": "code",
   "execution_count": 13,
   "metadata": {},
   "outputs": [
    {
     "data": {
      "text/plain": [
       "<Axes: >"
      ]
     },
     "execution_count": 13,
     "metadata": {},
     "output_type": "execute_result"
    },
    {
     "data": {
      "image/png": "[encoded data removed]",
      "text/plain": [
       "<Figure size 640x480 with 1 Axes>"
      ]
     },
     "metadata": {},
     "output_type": "display_data"
    }
   ],
   "source": [
    "questions.words_cnt.hist()"
   ]
  },
  {
   "cell_type": "code",
   "execution_count": 14,
   "metadata": {},
   "outputs": [
    {
     "data": {
      "text/plain": [
       "<Axes: >"
      ]
     },
     "execution_count": 14,
     "metadata": {},
     "output_type": "execute_result"
    },
    {
     "data": {
      "image/png": "[encoded data removed]",
      "text/plain": [
       "<Figure size 640x480 with 1 Axes>"
      ]
     },
     "metadata": {},
     "output_type": "display_data"
    }
   ],
   "source": [
    "questions.tech_words_cnt.hist()"
   ]
  },
  {
   "cell_type": "markdown",
   "metadata": {},
   "source": [
    "Добавим флаги по посчитанным метрикам"
   ]
  },
  {
   "cell_type": "code",
   "execution_count": 15,
   "metadata": {},
   "outputs": [
    {
     "name": "stderr",
     "output_type": "stream",
     "text": [
      "/var/folders/bz/m50lp4pd7gz1pfrr0m8krgtm0000gn/T/ipykernel_28753/289301930.py:4: SettingWithCopyWarning: \n",
      "A value is trying to be set on a copy of a slice from a DataFrame.\n",
      "Try using .loc[row_indexer,col_indexer] = value instead\n",
      "\n",
      "See the caveats in the documentation: https://pandas.pydata.org/pandas-docs/stable/user_guide/indexing.html#returning-a-view-versus-a-copy\n",
      "  questions[\"is_dummy\"] = (questions[\"Score\"] <= rating_barrier) | (\n"
     ]
    }
   ],
   "source": [
    "rating_barrier = -1\n",
    "len_barrier = 50\n",
    "tech_words_barrier = 3\n",
    "questions[\"is_dummy\"] = (questions[\"Score\"] <= rating_barrier) | (\n",
    "    questions[\"words_cnt\"] <= len_barrier) | (questions[\"tech_words_cnt\"] <= tech_words_barrier)"
   ]
  },
  {
   "cell_type": "code",
   "execution_count": 16,
   "metadata": {},
   "outputs": [
    {
     "name": "stderr",
     "output_type": "stream",
     "text": [
      "/var/folders/bz/m50lp4pd7gz1pfrr0m8krgtm0000gn/T/ipykernel_28753/335277192.py:2: SettingWithCopyWarning: \n",
      "A value is trying to be set on a copy of a slice from a DataFrame.\n",
      "Try using .loc[row_indexer,col_indexer] = value instead\n",
      "\n",
      "See the caveats in the documentation: https://pandas.pydata.org/pandas-docs/stable/user_guide/indexing.html#returning-a-view-versus-a-copy\n",
      "  questions[\"is_complex\"] = (questions[\"Score\"] > rating_barrier) & (questions[\"words_cnt\"] > len_barrier) & (\n"
     ]
    }
   ],
   "source": [
    "# len_barrier = 350\n",
    "questions[\"is_complex\"] = (questions[\"Score\"] > rating_barrier) & (questions[\"words_cnt\"] > len_barrier) & (\n",
    "    questions[\"tech_words_cnt\"] > tech_words_barrier)  # & (questions[\"negative_answers\"] >= 2)"
   ]
  },
  {
   "cell_type": "code",
   "execution_count": 17,
   "metadata": {},
   "outputs": [
    {
     "data": {
      "text/plain": [
       "is_dummy\n",
       "True     49094\n",
       "False    14329\n",
       "Name: count, dtype: int64"
      ]
     },
     "execution_count": 17,
     "metadata": {},
     "output_type": "execute_result"
    }
   ],
   "source": [
    "questions.is_dummy.value_counts()"
   ]
  },
  {
   "cell_type": "code",
   "execution_count": 18,
   "metadata": {},
   "outputs": [
    {
     "data": {
      "text/plain": [
       "is_complex\n",
       "False    49094\n",
       "True     14329\n",
       "Name: count, dtype: int64"
      ]
     },
     "execution_count": 18,
     "metadata": {},
     "output_type": "execute_result"
    }
   ],
   "source": [
    "questions.is_complex.value_counts()"
   ]
  },
  {
   "cell_type": "markdown",
   "metadata": {},
   "source": [
    "Если учесть наличие `negative_answers`, то количество `complex` вопросов падает до 70 =["
   ]
  },
  {
   "cell_type": "code",
   "execution_count": 19,
   "metadata": {},
   "outputs": [
    {
     "data": {
      "text/plain": [
       "0"
      ]
     },
     "execution_count": 19,
     "metadata": {},
     "output_type": "execute_result"
    }
   ],
   "source": [
    "questions[questions[\"is_dummy\"] & questions[\"is_complex\"]\n",
    "          ].shape[0]  # чекаем, что нет пересечения"
   ]
  },
  {
   "cell_type": "code",
   "execution_count": 20,
   "metadata": {},
   "outputs": [],
   "source": [
    "questions.to_csv(\"../data/cache/prepared_questions_metrics.csv\", index=False)"
   ]
  },
  {
   "cell_type": "code",
   "execution_count": 21,
   "metadata": {},
   "outputs": [],
   "source": [
    "answers.to_csv(\"../data/cache/prepared_answers_metrics.csv\", index=False)"
   ]
  },
  {
   "cell_type": "code",
   "execution_count": null,
   "metadata": {},
   "outputs": [],
   "source": []
  }
 ],
 "metadata": {
  "kernelspec": {
   "display_name": ".venv",
   "language": "python",
   "name": "python3"
  },
  "language_info": {
   "codemirror_mode": {
    "name": "ipython",
    "version": 3
   },
   "file_extension": ".py",
   "mimetype": "text/x-python",
   "name": "python",
   "nbconvert_exporter": "python",
   "pygments_lexer": "ipython3",
   "version": "3.10.15"
  }
 },
 "nbformat": 4,
 "nbformat_minor": 2
}

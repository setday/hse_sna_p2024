{
 "cells": [
  {
   "cell_type": "code",
   "execution_count": 1,
   "metadata": {},
   "outputs": [],
   "source": [
    "import pandas as pd\n",
    "import networkx as nx\n",
    "import numpy as np"
   ]
  },
  {
   "cell_type": "code",
   "execution_count": 2,
   "metadata": {},
   "outputs": [
    {
     "data": {
      "text/html": [
       "<div>\n",
       "<style scoped>\n",
       "    .dataframe tbody tr th:only-of-type {\n",
       "        vertical-align: middle;\n",
       "    }\n",
       "\n",
       "    .dataframe tbody tr th {\n",
       "        vertical-align: top;\n",
       "    }\n",
       "\n",
       "    .dataframe thead th {\n",
       "        text-align: right;\n",
       "    }\n",
       "</style>\n",
       "<table border=\"1\" class=\"dataframe\">\n",
       "  <thead>\n",
       "    <tr style=\"text-align: right;\">\n",
       "      <th></th>\n",
       "      <th>Id</th>\n",
       "      <th>PostTypeId</th>\n",
       "      <th>AcceptedAnswerId</th>\n",
       "      <th>CreationDate</th>\n",
       "      <th>Score</th>\n",
       "      <th>ViewCount</th>\n",
       "      <th>Body</th>\n",
       "      <th>OwnerUserId</th>\n",
       "      <th>LastEditorUserId</th>\n",
       "      <th>LastEditDate</th>\n",
       "      <th>...</th>\n",
       "      <th>ContentLicense</th>\n",
       "      <th>ParentId</th>\n",
       "      <th>OwnerDisplayName</th>\n",
       "      <th>LastEditorDisplayName</th>\n",
       "      <th>FavoriteCount</th>\n",
       "      <th>words_cnt</th>\n",
       "      <th>tech_words_cnt</th>\n",
       "      <th>negative_answers</th>\n",
       "      <th>is_dummy</th>\n",
       "      <th>is_complex</th>\n",
       "    </tr>\n",
       "  </thead>\n",
       "  <tbody>\n",
       "    <tr>\n",
       "      <th>37406</th>\n",
       "      <td>314947</td>\n",
       "      <td>1</td>\n",
       "      <td>314975.0</td>\n",
       "      <td>2016-04-06T18:54:09.233</td>\n",
       "      <td>3</td>\n",
       "      <td>192.0</td>\n",
       "      <td>Is there a standard or widely accepted term fo...</td>\n",
       "      <td>220571.0</td>\n",
       "      <td>161917.0</td>\n",
       "      <td>2016-04-21T06:44:43.553</td>\n",
       "      <td>...</td>\n",
       "      <td>CC BY-SA 3.0</td>\n",
       "      <td>NaN</td>\n",
       "      <td>NaN</td>\n",
       "      <td>NaN</td>\n",
       "      <td>NaN</td>\n",
       "      <td>169</td>\n",
       "      <td>4</td>\n",
       "      <td>0</td>\n",
       "      <td>False</td>\n",
       "      <td>False</td>\n",
       "    </tr>\n",
       "    <tr>\n",
       "      <th>11047</th>\n",
       "      <td>137666</td>\n",
       "      <td>1</td>\n",
       "      <td>137676.0</td>\n",
       "      <td>2012-02-29T20:34:58.887</td>\n",
       "      <td>6</td>\n",
       "      <td>1358.0</td>\n",
       "      <td>I'm currently using decorators to apply variou...</td>\n",
       "      <td>45957.0</td>\n",
       "      <td>45957.0</td>\n",
       "      <td>2012-02-29T22:29:51.037</td>\n",
       "      <td>...</td>\n",
       "      <td>CC BY-SA 3.0</td>\n",
       "      <td>NaN</td>\n",
       "      <td>NaN</td>\n",
       "      <td>NaN</td>\n",
       "      <td>NaN</td>\n",
       "      <td>98</td>\n",
       "      <td>5</td>\n",
       "      <td>0</td>\n",
       "      <td>False</td>\n",
       "      <td>False</td>\n",
       "    </tr>\n",
       "    <tr>\n",
       "      <th>1063</th>\n",
       "      <td>20800</td>\n",
       "      <td>1</td>\n",
       "      <td>20820.0</td>\n",
       "      <td>2010-11-23T08:04:39.047</td>\n",
       "      <td>7</td>\n",
       "      <td>4345.0</td>\n",
       "      <td>I just want to hear some pro and con's - it's ...</td>\n",
       "      <td>NaN</td>\n",
       "      <td>25936.0</td>\n",
       "      <td>2012-03-07T17:06:59.700</td>\n",
       "      <td>...</td>\n",
       "      <td>CC BY-SA 2.5</td>\n",
       "      <td>NaN</td>\n",
       "      <td>oneWhoNeedGuidenss</td>\n",
       "      <td>NaN</td>\n",
       "      <td>NaN</td>\n",
       "      <td>70</td>\n",
       "      <td>1</td>\n",
       "      <td>0</td>\n",
       "      <td>True</td>\n",
       "      <td>False</td>\n",
       "    </tr>\n",
       "  </tbody>\n",
       "</table>\n",
       "<p>3 rows × 27 columns</p>\n",
       "</div>"
      ],
      "text/plain": [
       "           Id  PostTypeId  AcceptedAnswerId             CreationDate  Score  \\\n",
       "37406  314947           1          314975.0  2016-04-06T18:54:09.233      3   \n",
       "11047  137666           1          137676.0  2012-02-29T20:34:58.887      6   \n",
       "1063    20800           1           20820.0  2010-11-23T08:04:39.047      7   \n",
       "\n",
       "       ViewCount                                               Body  \\\n",
       "37406      192.0  Is there a standard or widely accepted term fo...   \n",
       "11047     1358.0  I'm currently using decorators to apply variou...   \n",
       "1063      4345.0  I just want to hear some pro and con's - it's ...   \n",
       "\n",
       "       OwnerUserId  LastEditorUserId             LastEditDate  ...  \\\n",
       "37406     220571.0          161917.0  2016-04-21T06:44:43.553  ...   \n",
       "11047      45957.0           45957.0  2012-02-29T22:29:51.037  ...   \n",
       "1063           NaN           25936.0  2012-03-07T17:06:59.700  ...   \n",
       "\n",
       "      ContentLicense ParentId    OwnerDisplayName  LastEditorDisplayName  \\\n",
       "37406   CC BY-SA 3.0      NaN                 NaN                    NaN   \n",
       "11047   CC BY-SA 3.0      NaN                 NaN                    NaN   \n",
       "1063    CC BY-SA 2.5      NaN  oneWhoNeedGuidenss                    NaN   \n",
       "\n",
       "       FavoriteCount words_cnt tech_words_cnt negative_answers  is_dummy  \\\n",
       "37406            NaN       169              4                0     False   \n",
       "11047            NaN        98              5                0     False   \n",
       "1063             NaN        70              1                0      True   \n",
       "\n",
       "      is_complex  \n",
       "37406      False  \n",
       "11047      False  \n",
       "1063       False  \n",
       "\n",
       "[3 rows x 27 columns]"
      ]
     },
     "execution_count": 2,
     "metadata": {},
     "output_type": "execute_result"
    }
   ],
   "source": [
    "df = pd.read_csv(\"prepared_questions.csv\")\n",
    "df.sample(3)"
   ]
  },
  {
   "cell_type": "code",
   "execution_count": 3,
   "metadata": {},
   "outputs": [
    {
     "data": {
      "text/plain": [
       "(26935, 63423)"
      ]
     },
     "execution_count": 3,
     "metadata": {},
     "output_type": "execute_result"
    }
   ],
   "source": [
    "df.AcceptedAnswerId.isna().sum(), df.shape[0]"
   ]
  },
  {
   "cell_type": "code",
   "execution_count": 4,
   "metadata": {},
   "outputs": [
    {
     "data": {
      "text/plain": [
       "(-11, 2182)"
      ]
     },
     "execution_count": 4,
     "metadata": {},
     "output_type": "execute_result"
    }
   ],
   "source": [
    "min_ = df.Score.min()\n",
    "max_ = df.Score.max()\n",
    "min_, max_ # max is too high"
   ]
  },
  {
   "cell_type": "code",
   "execution_count": 5,
   "metadata": {},
   "outputs": [
    {
     "data": {
      "text/plain": [
       "(-11, 81)"
      ]
     },
     "execution_count": 5,
     "metadata": {},
     "output_type": "execute_result"
    }
   ],
   "source": [
    "mean = df[\"Score\"].mean()\n",
    "std = df[\"Score\"].std()\n",
    "\n",
    "df_filtered = df[(df[\"Score\"] >= mean - 3 * std) & (df[\"Score\"] <= mean + 3 * std)]\n",
    "min_f = df_filtered.Score.min()\n",
    "max_f = df_filtered.Score.max()\n",
    "min_f, max_f  # MAYBE USE FILTERED DF?"
   ]
  },
  {
   "cell_type": "code",
   "execution_count": 6,
   "metadata": {},
   "outputs": [],
   "source": [
    "df = df.dropna(subset=[\"Tags\"])\n",
    "tag_series = df[\"Tags\"]\n",
    "tags = [str(tags).split(\"|\")[1:-1] for tags in tag_series]\n",
    "df[\"Tags\"] = tags"
   ]
  },
  {
   "cell_type": "code",
   "execution_count": 7,
   "metadata": {},
   "outputs": [],
   "source": [
    "question_to_tags = {\n",
    "    q.Id: set(q.Tags)\n",
    "    for _, q in df.iterrows()\n",
    "    if q.Tags and not np.isnan(q.Id)\n",
    "}\n",
    "\n",
    "users = df.OwnerUserId.dropna().unique()\n",
    "user_to_tags = {user: set() for user in users}\n",
    "for _, q in df.iterrows():\n",
    "    if not np.isnan(q.OwnerUserId) and q.Tags:\n",
    "        user_to_tags[q.OwnerUserId] |= set(q.Tags)"
   ]
  },
  {
   "cell_type": "code",
   "execution_count": 8,
   "metadata": {},
   "outputs": [
    {
     "data": {
      "text/plain": [
       "(63423, 32217)"
      ]
     },
     "execution_count": 8,
     "metadata": {},
     "output_type": "execute_result"
    }
   ],
   "source": [
    "len(question_to_tags), len(user_to_tags)"
   ]
  },
  {
   "cell_type": "code",
   "execution_count": 9,
   "metadata": {},
   "outputs": [],
   "source": [
    "G = nx.Graph()"
   ]
  },
  {
   "cell_type": "code",
   "execution_count": 10,
   "metadata": {},
   "outputs": [],
   "source": [
    "user_attributes = {}\n",
    "for user in users:\n",
    "    G.add_node('u' + str(user))\n",
    "    user_attributes[user] = {\"type\": \"user\", \"tags\": user_to_tags[user]}\n",
    "nx.set_node_attributes(G, user_attributes)"
   ]
  },
  {
   "cell_type": "code",
   "execution_count": 11,
   "metadata": {},
   "outputs": [],
   "source": [
    "bound = 0.8\n",
    "for user1 in users:\n",
    "    for user2 in users:\n",
    "        if not np.isnan(user1) and not np.isnan(user2) and user1 < user2:\n",
    "            user1_tags = user_to_tags[user1]\n",
    "            user2_tags = user_to_tags[user2]\n",
    "            if len(user1_tags & user2_tags) != 0 and (w := (len(user1_tags & user2_tags) / len(user1_tags | user2_tags))) >= bound:\n",
    "                G.add_edge('u' + str(user1), 'u' + str(user2), weight=w)"
   ]
  },
  {
   "cell_type": "code",
   "execution_count": 12,
   "metadata": {},
   "outputs": [
    {
     "data": {
      "text/plain": [
       "74923"
      ]
     },
     "execution_count": 12,
     "metadata": {},
     "output_type": "execute_result"
    }
   ],
   "source": [
    "G.number_of_edges()"
   ]
  },
  {
   "cell_type": "code",
   "execution_count": 13,
   "metadata": {},
   "outputs": [],
   "source": [
    "G2 = nx.Graph()"
   ]
  },
  {
   "cell_type": "code",
   "execution_count": 14,
   "metadata": {},
   "outputs": [],
   "source": [
    "answers = pd.read_csv(\"prepared_answers.csv\", low_memory=False)"
   ]
  },
  {
   "cell_type": "code",
   "execution_count": 15,
   "metadata": {},
   "outputs": [
    {
     "data": {
      "text/plain": [
       "ParentId\n",
       "True    171806\n",
       "Name: count, dtype: int64"
      ]
     },
     "execution_count": 15,
     "metadata": {},
     "output_type": "execute_result"
    }
   ],
   "source": [
    "answers[\"ParentId\"].isin(df[\"Id\"]).value_counts()  # great"
   ]
  },
  {
   "cell_type": "code",
   "execution_count": 16,
   "metadata": {},
   "outputs": [
    {
     "data": {
      "text/plain": [
       "AcceptedAnswerId\n",
       "True     35097\n",
       "False    28326\n",
       "Name: count, dtype: int64"
      ]
     },
     "execution_count": 16,
     "metadata": {},
     "output_type": "execute_result"
    }
   ],
   "source": [
    "df[\"AcceptedAnswerId\"].isin(answers[\"Id\"]).value_counts()  # sus!"
   ]
  },
  {
   "cell_type": "code",
   "execution_count": 17,
   "metadata": {},
   "outputs": [],
   "source": [
    "users = answers.OwnerUserId.dropna().unique()\n",
    "user_to_questions = {user: set() for user in users}\n",
    "for _, answ in answers.iterrows():\n",
    "    if not np.isnan(answ.OwnerUserId) and answ.ParentId:\n",
    "        user_to_questions[answ.OwnerUserId].add(answ.ParentId)"
   ]
  },
  {
   "cell_type": "code",
   "execution_count": 23,
   "metadata": {},
   "outputs": [],
   "source": [
    "bound = 0.8\n",
    "for user1 in users:\n",
    "    for user2 in users:\n",
    "        if not np.isnan(user1) and not np.isnan(user2) and user1 < user2:\n",
    "            user1_answered = user_to_questions[user1]\n",
    "            user2_answered = user_to_questions[user2]\n",
    "            if len(user1_answered & user2_answered) != 0 and (w := (len(user1_answered & user2_answered) / len(user1_answered | user2_answered))) >= bound:\n",
    "                G2.add_edge('u' + str(user1), 'u' + str(user2), weight=w)"
   ]
  },
  {
   "cell_type": "code",
   "execution_count": 26,
   "metadata": {},
   "outputs": [
    {
     "data": {
      "text/plain": [
       "368749"
      ]
     },
     "execution_count": 26,
     "metadata": {},
     "output_type": "execute_result"
    }
   ],
   "source": [
    "G2.number_of_edges()"
   ]
  },
  {
   "cell_type": "code",
   "execution_count": 25,
   "metadata": {},
   "outputs": [],
   "source": [
    "nx.write_edgelist(G, \"tagsG.edgelist\")\n",
    "nx.write_edgelist(G2, \"questionsG.edgelist\")"
   ]
  },
  {
   "cell_type": "code",
   "execution_count": null,
   "metadata": {},
   "outputs": [],
   "source": []
  }
 ],
 "metadata": {
  "kernelspec": {
   "display_name": ".venv",
   "language": "python",
   "name": "python3"
  },
  "language_info": {
   "codemirror_mode": {
    "name": "ipython",
    "version": 3
   },
   "file_extension": ".py",
   "mimetype": "text/x-python",
   "name": "python",
   "nbconvert_exporter": "python",
   "pygments_lexer": "ipython3",
   "version": "3.10.15"
  }
 },
 "nbformat": 4,
 "nbformat_minor": 2
}

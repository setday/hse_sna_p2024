{
 "cells": [
  {
   "cell_type": "code",
   "execution_count": 1,
   "metadata": {},
   "outputs": [],
   "source": [
    "import networkx as nx\n",
    "import igraph as ig\n",
    "import pickle\n",
    "import pandas as pd"
   ]
  },
  {
   "cell_type": "code",
   "execution_count": 2,
   "metadata": {},
   "outputs": [],
   "source": [
    "def load_part(name):\n",
    "    with open(name, 'rb') as f:\n",
    "        return pickle.load(f)"
   ]
  },
  {
   "cell_type": "code",
   "execution_count": 3,
   "metadata": {},
   "outputs": [],
   "source": [
    "questions = pd.read_csv(\"../data/cache/prepared_questions_metrics.csv\")\n",
    "answers = pd.read_csv(\n",
    "    \"../data/cache/prepared_answers_metrics.csv\", low_memory=False)"
   ]
  },
  {
   "cell_type": "code",
   "execution_count": 4,
   "metadata": {},
   "outputs": [],
   "source": [
    "tags_graph = ig.Graph.from_networkx(\n",
    "    nx.read_edgelist(\"../data/cache/tagsG.edgelist\"))\n",
    "answers_graph = ig.Graph.from_networkx(\n",
    "    nx.read_edgelist(\"../data/cache/answersG.edgelist\"))"
   ]
  },
  {
   "cell_type": "code",
   "execution_count": 5,
   "metadata": {},
   "outputs": [],
   "source": [
    "tags_part = load_part(\"../data/cache/user_communities_a.pickle\")\n",
    "answers_part = load_part(\"../data/cache/user_communities_t.pickle\")"
   ]
  },
  {
   "cell_type": "code",
   "execution_count": 6,
   "metadata": {},
   "outputs": [],
   "source": [
    "def compute(G, partition, questions, answers):\n",
    "    community_stats = {}\n",
    "\n",
    "    complex_ids = questions[questions[\"is_complex\"]][\"Id\"].to_list()\n",
    "\n",
    "    for i, community in enumerate(partition):\n",
    "        members = G.vs[community]\n",
    "        total_answers = 0\n",
    "        total_complex_answers = 0\n",
    "\n",
    "        unique_answerers = set()\n",
    "        unique_complex_answerers = set()\n",
    "\n",
    "        for user in members:\n",
    "            user_id = user[\"_nx_name\"][1:]\n",
    "            user_answers = answers[answers[\"OwnerUserId\"] == float(user_id)]\n",
    "\n",
    "            total_answers += len(user_answers)\n",
    "            unique_answerers.add(user_id)\n",
    "\n",
    "            complex_user_answers = answers[(answers[\"OwnerUserId\"] == float(\n",
    "                user_id)) & (answers[\"ParentId\"].isin(complex_ids))]\n",
    "            total_complex_answers += len(complex_user_answers)\n",
    "            if len(complex_user_answers) > 0:\n",
    "                unique_complex_answerers.add(user_id)\n",
    "\n",
    "        community_stats[i] = {\n",
    "            \"community\": community,\n",
    "            \"total_answers\": total_answers,\n",
    "            \"total_complex_answers\": total_complex_answers,\n",
    "            \"unique_answerers\": len(unique_answerers),\n",
    "            \"unique_complex_answerers\": len(unique_complex_answerers),\n",
    "            \"complex_to_total_ratio\": total_complex_answers / total_answers if total_answers > 0 else 0,\n",
    "            \"complex_to_total_answerers_ratio\": len(unique_complex_answerers) / len(unique_answerers) if len(unique_answerers) > 0 else 0\n",
    "        }\n",
    "\n",
    "    return community_stats"
   ]
  },
  {
   "cell_type": "code",
   "execution_count": 7,
   "metadata": {},
   "outputs": [],
   "source": [
    "result = compute(tags_graph, tags_part, questions, answers)"
   ]
  },
  {
   "cell_type": "code",
   "execution_count": 8,
   "metadata": {},
   "outputs": [],
   "source": [
    "barrier = 10\n",
    "sorted_result = {k: v for k,\n",
    "                 v in result.items() if v[\"total_answers\"] >= barrier}"
   ]
  },
  {
   "cell_type": "code",
   "execution_count": 9,
   "metadata": {},
   "outputs": [
    {
     "name": "stdout",
     "output_type": "stream",
     "text": [
      "1562: {'community': [3952, 3953, 3954], 'total_answers': 15, 'total_complex_answers': 7, 'unique_answerers': 3, 'unique_complex_answerers': 1, 'complex_to_total_ratio': 0.4666666666666667, 'complex_to_total_answerers_ratio': 0.3333333333333333}\n",
      "599: {'community': [1653, 1654], 'total_answers': 14, 'total_complex_answers': 3, 'unique_answerers': 2, 'unique_complex_answerers': 1, 'complex_to_total_ratio': 0.21428571428571427, 'complex_to_total_answerers_ratio': 0.5}\n",
      "1071: {'community': [2806, 2807, 2808], 'total_answers': 19, 'total_complex_answers': 4, 'unique_answerers': 3, 'unique_complex_answerers': 2, 'complex_to_total_ratio': 0.21052631578947367, 'complex_to_total_answerers_ratio': 0.6666666666666666}\n",
      "1347: {'community': [3449, 3450], 'total_answers': 24, 'total_complex_answers': 5, 'unique_answerers': 2, 'unique_complex_answerers': 1, 'complex_to_total_ratio': 0.20833333333333334, 'complex_to_total_answerers_ratio': 0.5}\n",
      "362: {'community': [1081, 1082, 1083, 1084], 'total_answers': 15, 'total_complex_answers': 3, 'unique_answerers': 4, 'unique_complex_answerers': 1, 'complex_to_total_ratio': 0.2, 'complex_to_total_answerers_ratio': 0.25}\n",
      "1553: {'community': [3933, 3934], 'total_answers': 10, 'total_complex_answers': 2, 'unique_answerers': 2, 'unique_complex_answerers': 1, 'complex_to_total_ratio': 0.2, 'complex_to_total_answerers_ratio': 0.5}\n",
      "1896: {'community': [4718, 4719], 'total_answers': 10, 'total_complex_answers': 2, 'unique_answerers': 2, 'unique_complex_answerers': 1, 'complex_to_total_ratio': 0.2, 'complex_to_total_answerers_ratio': 0.5}\n",
      "322: {'community': [974, 975], 'total_answers': 17, 'total_complex_answers': 3, 'unique_answerers': 2, 'unique_complex_answerers': 1, 'complex_to_total_ratio': 0.17647058823529413, 'complex_to_total_answerers_ratio': 0.5}\n",
      "2188: {'community': [5364, 5365], 'total_answers': 17, 'total_complex_answers': 3, 'unique_answerers': 2, 'unique_complex_answerers': 1, 'complex_to_total_ratio': 0.17647058823529413, 'complex_to_total_answerers_ratio': 0.5}\n",
      "2097: {'community': [5173, 5174], 'total_answers': 13, 'total_complex_answers': 2, 'unique_answerers': 2, 'unique_complex_answerers': 1, 'complex_to_total_ratio': 0.15384615384615385, 'complex_to_total_answerers_ratio': 0.5}\n"
     ]
    }
   ],
   "source": [
    "sorted_data = sorted(\n",
    "    sorted_result.items(), key=lambda item: item[1][\"complex_to_total_ratio\"], reverse=True)\n",
    "\n",
    "sorted_dict = {k: v for k, v in sorted_data}\n",
    "\n",
    "i = 0\n",
    "for key, value in sorted_dict.items():\n",
    "    print(f\"{key}: {value}\")\n",
    "    i += 1\n",
    "    if i == 10:\n",
    "        break"
   ]
  },
  {
   "cell_type": "code",
   "execution_count": 10,
   "metadata": {},
   "outputs": [
    {
     "name": "stdout",
     "output_type": "stream",
     "text": [
      "307: {'community': [937, 938, 939], 'total_answers': 28, 'total_complex_answers': 4, 'unique_answerers': 3, 'unique_complex_answerers': 2, 'complex_to_total_ratio': 0.14285714285714285, 'complex_to_total_answerers_ratio': 0.6666666666666666}\n",
      "1071: {'community': [2806, 2807, 2808], 'total_answers': 19, 'total_complex_answers': 4, 'unique_answerers': 3, 'unique_complex_answerers': 2, 'complex_to_total_ratio': 0.21052631578947367, 'complex_to_total_answerers_ratio': 0.6666666666666666}\n",
      "48: {'community': [210, 211], 'total_answers': 352, 'total_complex_answers': 7, 'unique_answerers': 2, 'unique_complex_answerers': 1, 'complex_to_total_ratio': 0.019886363636363636, 'complex_to_total_answerers_ratio': 0.5}\n",
      "131: {'community': [459, 460], 'total_answers': 25, 'total_complex_answers': 1, 'unique_answerers': 2, 'unique_complex_answerers': 1, 'complex_to_total_ratio': 0.04, 'complex_to_total_answerers_ratio': 0.5}\n",
      "134: {'community': [468, 469], 'total_answers': 22, 'total_complex_answers': 2, 'unique_answerers': 2, 'unique_complex_answerers': 1, 'complex_to_total_ratio': 0.09090909090909091, 'complex_to_total_answerers_ratio': 0.5}\n",
      "255: {'community': [806, 807], 'total_answers': 47, 'total_complex_answers': 2, 'unique_answerers': 2, 'unique_complex_answerers': 1, 'complex_to_total_ratio': 0.0425531914893617, 'complex_to_total_answerers_ratio': 0.5}\n",
      "257: {'community': [810, 811], 'total_answers': 14, 'total_complex_answers': 2, 'unique_answerers': 2, 'unique_complex_answerers': 1, 'complex_to_total_ratio': 0.14285714285714285, 'complex_to_total_answerers_ratio': 0.5}\n",
      "276: {'community': [854, 855], 'total_answers': 123, 'total_complex_answers': 2, 'unique_answerers': 2, 'unique_complex_answerers': 1, 'complex_to_total_ratio': 0.016260162601626018, 'complex_to_total_answerers_ratio': 0.5}\n",
      "322: {'community': [974, 975], 'total_answers': 17, 'total_complex_answers': 3, 'unique_answerers': 2, 'unique_complex_answerers': 1, 'complex_to_total_ratio': 0.17647058823529413, 'complex_to_total_answerers_ratio': 0.5}\n",
      "444: {'community': [1281, 1282], 'total_answers': 74, 'total_complex_answers': 6, 'unique_answerers': 2, 'unique_complex_answerers': 1, 'complex_to_total_ratio': 0.08108108108108109, 'complex_to_total_answerers_ratio': 0.5}\n"
     ]
    }
   ],
   "source": [
    "sorted_data = sorted(\n",
    "    sorted_result.items(), key=lambda item: item[1][\"complex_to_total_answerers_ratio\"], reverse=True)\n",
    "\n",
    "sorted_dict = {k: v for k, v in sorted_data}\n",
    "\n",
    "i = 0\n",
    "for key, value in sorted_dict.items():\n",
    "    print(f\"{key}: {value}\")\n",
    "    i += 1\n",
    "    if i == 10:\n",
    "        break"
   ]
  },
  {
   "cell_type": "markdown",
   "metadata": {},
   "source": [
    "Есть очень много отвечающие пользователи, у которых несколько ответов на сложные вопросы"
   ]
  },
  {
   "cell_type": "code",
   "execution_count": null,
   "metadata": {},
   "outputs": [],
   "source": []
  }
 ],
 "metadata": {
  "kernelspec": {
   "display_name": ".venv",
   "language": "python",
   "name": "python3"
  },
  "language_info": {
   "codemirror_mode": {
    "name": "ipython",
    "version": 3
   },
   "file_extension": ".py",
   "mimetype": "text/x-python",
   "name": "python",
   "nbconvert_exporter": "python",
   "pygments_lexer": "ipython3",
   "version": "3.10.15"
  }
 },
 "nbformat": 4,
 "nbformat_minor": 2
}

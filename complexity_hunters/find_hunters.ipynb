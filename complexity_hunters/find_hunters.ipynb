{
 "cells": [
  {
   "cell_type": "code",
   "execution_count": 28,
   "metadata": {},
   "outputs": [],
   "source": [
    "import networkx as nx\n",
    "import igraph as ig\n",
    "import pickle\n",
    "import pandas as pd\n",
    "\n",
    "import matplotlib.pyplot as plt"
   ]
  },
  {
   "cell_type": "code",
   "execution_count": 2,
   "metadata": {},
   "outputs": [],
   "source": [
    "def load_part(name):\n",
    "    with open(name, 'rb') as f:\n",
    "        return pickle.load(f)"
   ]
  },
  {
   "cell_type": "code",
   "execution_count": 3,
   "metadata": {},
   "outputs": [],
   "source": [
    "questions = pd.read_csv(\"../data/cache/prepared_questions_metrics.csv\")\n",
    "answers = pd.read_csv(\n",
    "    \"../data/cache/prepared_answers_metrics.csv\", low_memory=False)"
   ]
  },
  {
   "cell_type": "code",
   "execution_count": 4,
   "metadata": {},
   "outputs": [],
   "source": [
    "tags_graph = ig.Graph.from_networkx(\n",
    "    nx.read_edgelist(\"../data/cache/tagsG.edgelist\"))\n",
    "answers_graph = ig.Graph.from_networkx(\n",
    "    nx.read_edgelist(\"../data/cache/answersG.edgelist\"))"
   ]
  },
  {
   "cell_type": "code",
   "execution_count": 5,
   "metadata": {},
   "outputs": [],
   "source": [
    "tags_part = load_part(\"../data/cache/user_communities_a.pickle\")\n",
    "answers_part = load_part(\"../data/cache/user_communities_t.pickle\")"
   ]
  },
  {
   "cell_type": "code",
   "execution_count": 6,
   "metadata": {},
   "outputs": [],
   "source": [
    "def compute(G, partition, questions, answers):\n",
    "    community_stats = {}\n",
    "\n",
    "    complex_ids = questions[questions[\"is_complex\"]][\"Id\"].to_list()\n",
    "\n",
    "    for i, community in enumerate(partition):\n",
    "        members = G.vs[community]\n",
    "        total_answers = 0\n",
    "        total_complex_answers = 0\n",
    "\n",
    "        unique_answerers = set()\n",
    "        unique_complex_answerers = set()\n",
    "\n",
    "        for user in members:\n",
    "            user_id = user[\"_nx_name\"][1:]\n",
    "            user_answers = answers[answers[\"OwnerUserId\"] == float(user_id)]\n",
    "\n",
    "            total_answers += len(user_answers)\n",
    "            unique_answerers.add(user_id)\n",
    "\n",
    "            complex_user_answers = answers[(answers[\"OwnerUserId\"] == float(\n",
    "                user_id)) & (answers[\"ParentId\"].isin(complex_ids))]\n",
    "            total_complex_answers += len(complex_user_answers)\n",
    "            if len(complex_user_answers) > 0:\n",
    "                unique_complex_answerers.add(user_id)\n",
    "\n",
    "        community_stats[i] = {\n",
    "            \"community\": community,\n",
    "            \"total_answers\": total_answers,\n",
    "            \"total_complex_answers\": total_complex_answers,\n",
    "            \"unique_answerers\": len(unique_answerers),\n",
    "            \"unique_complex_answerers\": len(unique_complex_answerers),\n",
    "            \"complex_to_total_ratio\": total_complex_answers / total_answers if total_answers > 0 else 0,\n",
    "            \"complex_to_total_answerers_ratio\": len(unique_complex_answerers) / len(unique_answerers) if len(unique_answerers) > 0 else 0\n",
    "        }\n",
    "\n",
    "    return community_stats"
   ]
  },
  {
   "cell_type": "code",
   "execution_count": 7,
   "metadata": {},
   "outputs": [],
   "source": [
    "result = compute(tags_graph, tags_part, questions, answers)"
   ]
  },
  {
   "cell_type": "code",
   "execution_count": 14,
   "metadata": {},
   "outputs": [],
   "source": [
    "def get_communities(res, key_col):\n",
    "    sorted_data = sorted(\n",
    "        res.items(), key=lambda item: item[1][key_col], reverse=True)\n",
    "\n",
    "    sorted_dict = {k: v for k, v in sorted_data}\n",
    "\n",
    "    i = 0\n",
    "    for key, value in sorted_dict.items():\n",
    "        print(f\"{key}: {value}\")\n",
    "        i += 1\n",
    "        if i == 10:\n",
    "            break"
   ]
  },
  {
   "cell_type": "code",
   "execution_count": 15,
   "metadata": {},
   "outputs": [],
   "source": [
    "barrier = 10\n",
    "filtered_result = {k: v for k,\n",
    "                   v in result.items() if v[\"total_answers\"] >= barrier}"
   ]
  },
  {
   "cell_type": "code",
   "execution_count": 19,
   "metadata": {},
   "outputs": [
    {
     "name": "stdout",
     "output_type": "stream",
     "text": [
      "1562: {'community': [3952, 3953, 3954], 'total_answers': 15, 'total_complex_answers': 12, 'unique_answerers': 3, 'unique_complex_answerers': 1, 'complex_to_total_ratio': 0.8, 'complex_to_total_answerers_ratio': 0.3333333333333333}\n",
      "1071: {'community': [2806, 2807, 2808], 'total_answers': 19, 'total_complex_answers': 10, 'unique_answerers': 3, 'unique_complex_answerers': 2, 'complex_to_total_ratio': 0.5263157894736842, 'complex_to_total_answerers_ratio': 0.6666666666666666}\n",
      "599: {'community': [1653, 1654], 'total_answers': 14, 'total_complex_answers': 7, 'unique_answerers': 2, 'unique_complex_answerers': 1, 'complex_to_total_ratio': 0.5, 'complex_to_total_answerers_ratio': 0.5}\n",
      "2267: {'community': [5533, 5534], 'total_answers': 34, 'total_complex_answers': 17, 'unique_answerers': 2, 'unique_complex_answerers': 1, 'complex_to_total_ratio': 0.5, 'complex_to_total_answerers_ratio': 0.5}\n",
      "1347: {'community': [3449, 3450], 'total_answers': 24, 'total_complex_answers': 11, 'unique_answerers': 2, 'unique_complex_answerers': 1, 'complex_to_total_ratio': 0.4583333333333333, 'complex_to_total_answerers_ratio': 0.5}\n",
      "880: {'community': [2330, 2331], 'total_answers': 35, 'total_complex_answers': 15, 'unique_answerers': 2, 'unique_complex_answerers': 1, 'complex_to_total_ratio': 0.42857142857142855, 'complex_to_total_answerers_ratio': 0.5}\n",
      "1141: {'community': [2975, 2976], 'total_answers': 22, 'total_complex_answers': 9, 'unique_answerers': 2, 'unique_complex_answerers': 1, 'complex_to_total_ratio': 0.4090909090909091, 'complex_to_total_answerers_ratio': 0.5}\n",
      "292: {'community': [890, 891, 892], 'total_answers': 28, 'total_complex_answers': 9, 'unique_answerers': 3, 'unique_complex_answerers': 1, 'complex_to_total_ratio': 0.32142857142857145, 'complex_to_total_answerers_ratio': 0.3333333333333333}\n",
      "307: {'community': [937, 938, 939], 'total_answers': 28, 'total_complex_answers': 9, 'unique_answerers': 3, 'unique_complex_answerers': 2, 'complex_to_total_ratio': 0.32142857142857145, 'complex_to_total_answerers_ratio': 0.6666666666666666}\n",
      "158: {'community': [545, 546, 547], 'total_answers': 44, 'total_complex_answers': 14, 'unique_answerers': 3, 'unique_complex_answerers': 1, 'complex_to_total_ratio': 0.3181818181818182, 'complex_to_total_answerers_ratio': 0.3333333333333333}\n"
     ]
    }
   ],
   "source": [
    "# отношение ответов на сложные вопросы ко всем ответам\n",
    "get_communities(filtered_result, \"complex_to_total_ratio\")"
   ]
  },
  {
   "cell_type": "code",
   "execution_count": 20,
   "metadata": {},
   "outputs": [
    {
     "name": "stdout",
     "output_type": "stream",
     "text": [
      "957: {'community': [2536, 2537], 'total_answers': 88, 'total_complex_answers': 18, 'unique_answerers': 2, 'unique_complex_answerers': 2, 'complex_to_total_ratio': 0.20454545454545456, 'complex_to_total_answerers_ratio': 1.0}\n",
      "279: {'community': [861, 862, 863], 'total_answers': 75, 'total_complex_answers': 21, 'unique_answerers': 3, 'unique_complex_answerers': 2, 'complex_to_total_ratio': 0.28, 'complex_to_total_answerers_ratio': 0.6666666666666666}\n",
      "307: {'community': [937, 938, 939], 'total_answers': 28, 'total_complex_answers': 9, 'unique_answerers': 3, 'unique_complex_answerers': 2, 'complex_to_total_ratio': 0.32142857142857145, 'complex_to_total_answerers_ratio': 0.6666666666666666}\n",
      "1071: {'community': [2806, 2807, 2808], 'total_answers': 19, 'total_complex_answers': 10, 'unique_answerers': 3, 'unique_complex_answerers': 2, 'complex_to_total_ratio': 0.5263157894736842, 'complex_to_total_answerers_ratio': 0.6666666666666666}\n",
      "1807: {'community': [4522, 4523, 4524], 'total_answers': 32, 'total_complex_answers': 7, 'unique_answerers': 3, 'unique_complex_answerers': 2, 'complex_to_total_ratio': 0.21875, 'complex_to_total_answerers_ratio': 0.6666666666666666}\n",
      "13: {'community': [73, 74], 'total_answers': 58, 'total_complex_answers': 3, 'unique_answerers': 2, 'unique_complex_answerers': 1, 'complex_to_total_ratio': 0.05172413793103448, 'complex_to_total_answerers_ratio': 0.5}\n",
      "36: {'community': [169, 170, 171, 172], 'total_answers': 23, 'total_complex_answers': 4, 'unique_answerers': 4, 'unique_complex_answerers': 2, 'complex_to_total_ratio': 0.17391304347826086, 'complex_to_total_answerers_ratio': 0.5}\n",
      "48: {'community': [210, 211], 'total_answers': 352, 'total_complex_answers': 17, 'unique_answerers': 2, 'unique_complex_answerers': 1, 'complex_to_total_ratio': 0.048295454545454544, 'complex_to_total_answerers_ratio': 0.5}\n",
      "131: {'community': [459, 460], 'total_answers': 25, 'total_complex_answers': 6, 'unique_answerers': 2, 'unique_complex_answerers': 1, 'complex_to_total_ratio': 0.24, 'complex_to_total_answerers_ratio': 0.5}\n",
      "134: {'community': [468, 469], 'total_answers': 22, 'total_complex_answers': 3, 'unique_answerers': 2, 'unique_complex_answerers': 1, 'complex_to_total_ratio': 0.13636363636363635, 'complex_to_total_answerers_ratio': 0.5}\n"
     ]
    }
   ],
   "source": [
    "# отношение ответчиков на сложные вопросы ко всем ответчикам\n",
    "get_communities(filtered_result, \"complex_to_total_answerers_ratio\")"
   ]
  },
  {
   "cell_type": "markdown",
   "metadata": {},
   "source": [
    "Есть очень много отвечающие пользователи, у которых часть ответов на сложные вопросы"
   ]
  },
  {
   "cell_type": "code",
   "execution_count": 24,
   "metadata": {},
   "outputs": [],
   "source": [
    "filtered_result = {k: v for k,\n",
    "                   v in result.items() if v[\"unique_answerers\"] >= 5 and v[\"total_answers\"] >= 10}"
   ]
  },
  {
   "cell_type": "code",
   "execution_count": 25,
   "metadata": {},
   "outputs": [
    {
     "name": "stdout",
     "output_type": "stream",
     "text": [
      "1046: {'community': [2743, 2744, 2745, 2746, 2747, 2748], 'total_answers': 25, 'total_complex_answers': 6, 'unique_answerers': 6, 'unique_complex_answerers': 1, 'complex_to_total_ratio': 0.24, 'complex_to_total_answerers_ratio': 0.16666666666666666}\n",
      "429: {'community': [1244, 1245, 1246, 1247, 1248, 1249], 'total_answers': 10, 'total_complex_answers': 2, 'unique_answerers': 6, 'unique_complex_answerers': 1, 'complex_to_total_ratio': 0.2, 'complex_to_total_answerers_ratio': 0.16666666666666666}\n",
      "241: {'community': [767, 768, 769, 770, 771, 772], 'total_answers': 11, 'total_complex_answers': 2, 'unique_answerers': 6, 'unique_complex_answerers': 1, 'complex_to_total_ratio': 0.18181818181818182, 'complex_to_total_answerers_ratio': 0.16666666666666666}\n",
      "299: {'community': [912, 913, 914, 915, 916, 917], 'total_answers': 51, 'total_complex_answers': 7, 'unique_answerers': 6, 'unique_complex_answerers': 2, 'complex_to_total_ratio': 0.13725490196078433, 'complex_to_total_answerers_ratio': 0.3333333333333333}\n",
      "10: {'community': [48, 49, 50, 51, 52, 53, 54, 55, 56, 57, 58, 59, 60, 61, 62, 63, 64, 65, 66], 'total_answers': 23, 'total_complex_answers': 3, 'unique_answerers': 19, 'unique_complex_answerers': 2, 'complex_to_total_ratio': 0.13043478260869565, 'complex_to_total_answerers_ratio': 0.10526315789473684}\n",
      "70: {'community': [266, 267, 268, 269, 270, 271, 272, 273, 274, 275], 'total_answers': 17, 'total_complex_answers': 2, 'unique_answerers': 10, 'unique_complex_answerers': 2, 'complex_to_total_ratio': 0.11764705882352941, 'complex_to_total_answerers_ratio': 0.2}\n",
      "98: {'community': [343, 344, 345, 346, 347, 348, 349, 350, 351, 352, 353, 354, 355, 356, 357, 358, 359, 360, 361, 362], 'total_answers': 20, 'total_complex_answers': 2, 'unique_answerers': 20, 'unique_complex_answerers': 2, 'complex_to_total_ratio': 0.1, 'complex_to_total_answerers_ratio': 0.1}\n",
      "905: {'community': [2393, 2394, 2395, 2396, 2397, 2398, 2399], 'total_answers': 10, 'total_complex_answers': 1, 'unique_answerers': 7, 'unique_complex_answerers': 1, 'complex_to_total_ratio': 0.1, 'complex_to_total_answerers_ratio': 0.14285714285714285}\n",
      "190: {'community': [634, 635, 636, 637, 638], 'total_answers': 399, 'total_complex_answers': 38, 'unique_answerers': 5, 'unique_complex_answerers': 2, 'complex_to_total_ratio': 0.09523809523809523, 'complex_to_total_answerers_ratio': 0.4}\n",
      "327: {'community': [984, 985, 986, 987, 988, 989, 990, 991, 992, 993, 994, 995, 996], 'total_answers': 11, 'total_complex_answers': 1, 'unique_answerers': 13, 'unique_complex_answerers': 1, 'complex_to_total_ratio': 0.09090909090909091, 'complex_to_total_answerers_ratio': 0.07692307692307693}\n"
     ]
    }
   ],
   "source": [
    "get_communities(filtered_result, \"complex_to_total_ratio\")"
   ]
  },
  {
   "cell_type": "code",
   "execution_count": 26,
   "metadata": {},
   "outputs": [
    {
     "name": "stdout",
     "output_type": "stream",
     "text": [
      "190: {'community': [634, 635, 636, 637, 638], 'total_answers': 399, 'total_complex_answers': 38, 'unique_answerers': 5, 'unique_complex_answerers': 2, 'complex_to_total_ratio': 0.09523809523809523, 'complex_to_total_answerers_ratio': 0.4}\n",
      "299: {'community': [912, 913, 914, 915, 916, 917], 'total_answers': 51, 'total_complex_answers': 7, 'unique_answerers': 6, 'unique_complex_answerers': 2, 'complex_to_total_ratio': 0.13725490196078433, 'complex_to_total_answerers_ratio': 0.3333333333333333}\n",
      "70: {'community': [266, 267, 268, 269, 270, 271, 272, 273, 274, 275], 'total_answers': 17, 'total_complex_answers': 2, 'unique_answerers': 10, 'unique_complex_answerers': 2, 'complex_to_total_ratio': 0.11764705882352941, 'complex_to_total_answerers_ratio': 0.2}\n",
      "136: {'community': [472, 473, 474, 475, 476], 'total_answers': 84, 'total_complex_answers': 4, 'unique_answerers': 5, 'unique_complex_answerers': 1, 'complex_to_total_ratio': 0.047619047619047616, 'complex_to_total_answerers_ratio': 0.2}\n",
      "1: {'community': [3, 4, 5, 6, 7, 8], 'total_answers': 277, 'total_complex_answers': 24, 'unique_answerers': 6, 'unique_complex_answerers': 1, 'complex_to_total_ratio': 0.08664259927797834, 'complex_to_total_answerers_ratio': 0.16666666666666666}\n",
      "241: {'community': [767, 768, 769, 770, 771, 772], 'total_answers': 11, 'total_complex_answers': 2, 'unique_answerers': 6, 'unique_complex_answerers': 1, 'complex_to_total_ratio': 0.18181818181818182, 'complex_to_total_answerers_ratio': 0.16666666666666666}\n",
      "429: {'community': [1244, 1245, 1246, 1247, 1248, 1249], 'total_answers': 10, 'total_complex_answers': 2, 'unique_answerers': 6, 'unique_complex_answerers': 1, 'complex_to_total_ratio': 0.2, 'complex_to_total_answerers_ratio': 0.16666666666666666}\n",
      "930: {'community': [2465, 2466, 2467, 2468, 2469, 2470], 'total_answers': 12, 'total_complex_answers': 1, 'unique_answerers': 6, 'unique_complex_answerers': 1, 'complex_to_total_ratio': 0.08333333333333333, 'complex_to_total_answerers_ratio': 0.16666666666666666}\n",
      "1046: {'community': [2743, 2744, 2745, 2746, 2747, 2748], 'total_answers': 25, 'total_complex_answers': 6, 'unique_answerers': 6, 'unique_complex_answerers': 1, 'complex_to_total_ratio': 0.24, 'complex_to_total_answerers_ratio': 0.16666666666666666}\n",
      "905: {'community': [2393, 2394, 2395, 2396, 2397, 2398, 2399], 'total_answers': 10, 'total_complex_answers': 1, 'unique_answerers': 7, 'unique_complex_answerers': 1, 'complex_to_total_ratio': 0.1, 'complex_to_total_answerers_ratio': 0.14285714285714285}\n"
     ]
    }
   ],
   "source": [
    "\n",
    "get_communities(filtered_result, \"complex_to_total_answerers_ratio\")"
   ]
  },
  {
   "cell_type": "code",
   "execution_count": 27,
   "metadata": {},
   "outputs": [],
   "source": [
    "complex_answers = [v[\"complex_to_total_ratio\"] for v in result.values()]\n",
    "complex_answerers = [v[\"complex_to_total_answerers_ratio\"]\n",
    "                     for v in result.values()]"
   ]
  },
  {
   "cell_type": "code",
   "execution_count": 49,
   "metadata": {},
   "outputs": [],
   "source": [
    "def plot(values):\n",
    "    plt.hist(values, bins=100, alpha=0.6)"
   ]
  },
  {
   "cell_type": "code",
   "execution_count": 50,
   "metadata": {},
   "outputs": [
    {
     "data": {
      "image/png": "[encoded data removed]",
      "text/plain": [
       "<Figure size 640x480 with 1 Axes>"
      ]
     },
     "metadata": {},
     "output_type": "display_data"
    }
   ],
   "source": [
    "plot(complex_answerers)"
   ]
  },
  {
   "cell_type": "code",
   "execution_count": 51,
   "metadata": {},
   "outputs": [
    {
     "data": {
      "image/png": "[encoded data removed]",
      "text/plain": [
       "<Figure size 640x480 with 1 Axes>"
      ]
     },
     "metadata": {},
     "output_type": "display_data"
    }
   ],
   "source": [
    "plot(complex_answers)"
   ]
  },
  {
   "cell_type": "code",
   "execution_count": null,
   "metadata": {},
   "outputs": [],
   "source": []
  }
 ],
 "metadata": {
  "kernelspec": {
   "display_name": ".venv",
   "language": "python",
   "name": "python3"
  },
  "language_info": {
   "codemirror_mode": {
    "name": "ipython",
    "version": 3
   },
   "file_extension": ".py",
   "mimetype": "text/x-python",
   "name": "python",
   "nbconvert_exporter": "python",
   "pygments_lexer": "ipython3",
   "version": "3.10.15"
  }
 },
 "nbformat": 4,
 "nbformat_minor": 2
}

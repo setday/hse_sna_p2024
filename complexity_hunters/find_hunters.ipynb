{
 "cells": [
  {
   "cell_type": "code",
   "execution_count": 1,
   "metadata": {},
   "outputs": [],
   "source": [
    "import networkx as nx\n",
    "import igraph as ig\n",
    "import pickle\n",
    "import pandas as pd"
   ]
  },
  {
   "cell_type": "code",
   "execution_count": 2,
   "metadata": {},
   "outputs": [],
   "source": [
    "def load_part(name):\n",
    "    with open(name, 'rb') as f:\n",
    "        return pickle.load(f)"
   ]
  },
  {
   "cell_type": "code",
   "execution_count": 3,
   "metadata": {},
   "outputs": [],
   "source": [
    "questions = pd.read_csv(\"../data/cache/prepared_questions_metrics.csv\")\n",
    "answers = pd.read_csv(\"../data/cache/prepared_answers_metrics.csv\", low_memory=False)"
   ]
  },
  {
   "cell_type": "code",
   "execution_count": 4,
   "metadata": {},
   "outputs": [],
   "source": [
    "tags_graph = ig.Graph.from_networkx(nx.read_edgelist(\"../data/cache/tagsG.edgelist\"))\n",
    "answers_graph = ig.Graph.from_networkx(nx.read_edgelist(\"../data/cache/answersG.edgelist\"))"
   ]
  },
  {
   "cell_type": "code",
   "execution_count": 5,
   "metadata": {},
   "outputs": [],
   "source": [
    "tags_part = load_part(\"../data/cache/user_communities_a.pickle\")\n",
    "answers_part = load_part(\"../data/cache/user_communities_t.pickle\")"
   ]
  },
  {
   "cell_type": "code",
   "execution_count": 6,
   "metadata": {},
   "outputs": [],
   "source": [
    "def compute(G, partition, questions, answers):\n",
    "    community_stats = {}\n",
    "\n",
    "    complex_ids = questions[questions[\"is_complex\"]][\"Id\"].to_list()\n",
    "\n",
    "    for community in partition:\n",
    "        members = G.vs[community]\n",
    "        total_answers = 0\n",
    "        total_complex_answers = 0\n",
    "\n",
    "        unique_answerers = set()\n",
    "        unique_complex_answerers = set()\n",
    "\n",
    "        for user in members:\n",
    "            user_id = user[\"_nx_name\"][1:]\n",
    "            print(user_id)\n",
    "            user_answers = answers[answers[\"OwnerUserId\"] == float(user_id)]\n",
    "\n",
    "            total_answers += len(user_answers)\n",
    "            unique_answerers.add(user_id)\n",
    "\n",
    "            complex_user_answers = answers[(answers[\"OwnerUserId\"] == float(user_id)) & (answers[\"ParentId\"].isin(complex_ids))]\n",
    "            total_complex_answers += len(complex_user_answers)\n",
    "            if len(complex_user_answers) > 0:\n",
    "                unique_complex_answerers.add(user_id)\n",
    "\n",
    "        community_stats[community] = {\n",
    "            \"total_answers\": total_answers,\n",
    "            \"total_complex_answers\": total_complex_answers,\n",
    "            \"unique_answerers\": len(unique_answerers),\n",
    "            \"unique_complex_answerers\": len(unique_complex_answerers),\n",
    "            \"complex_to_total_ratio\": total_complex_answers / total_answers if total_answers > 0 else 0\n",
    "        }\n",
    "\n",
    "    return community_stats"
   ]
  },
  {
   "cell_type": "code",
   "execution_count": null,
   "metadata": {},
   "outputs": [
    {
     "ename": "KeyError",
     "evalue": "'Attribute does not exist'",
     "output_type": "error",
     "traceback": [
      "\u001b[0;31m---------------------------------------------------------------------------\u001b[0m",
      "\u001b[0;31mKeyError\u001b[0m                                  Traceback (most recent call last)",
      "Cell \u001b[0;32mIn[7], line 1\u001b[0m\n\u001b[0;32m----> 1\u001b[0m \u001b[43mcollect_questions_by_community\u001b[49m\u001b[43m(\u001b[49m\u001b[43manswers_graph\u001b[49m\u001b[43m,\u001b[49m\u001b[43m \u001b[49m\u001b[43manswers_part\u001b[49m\u001b[43m,\u001b[49m\u001b[43m \u001b[49m\u001b[43manswers_graph\u001b[49m\u001b[43m,\u001b[49m\u001b[43m \u001b[49m\u001b[43mquestions\u001b[49m\u001b[43m)\u001b[49m\n\u001b[1;32m      2\u001b[0m calculate_metrics(tags_graph, tags_part, tags_graph, questions)\n",
      "Cell \u001b[0;32mIn[6], line 4\u001b[0m, in \u001b[0;36mcollect_questions_by_community\u001b[0;34m(G, partition, questions, answers)\u001b[0m\n\u001b[1;32m      1\u001b[0m \u001b[38;5;28;01mdef\u001b[39;00m \u001b[38;5;21mcollect_questions_by_community\u001b[39m(G, partition, questions, answers):\n\u001b[1;32m      2\u001b[0m     community_stats \u001b[38;5;241m=\u001b[39m {}\n\u001b[0;32m----> 4\u001b[0m     complex_ids \u001b[38;5;241m=\u001b[39m questions[\u001b[43mquestions\u001b[49m\u001b[43m[\u001b[49m\u001b[38;5;124;43m\"\u001b[39;49m\u001b[38;5;124;43mis_complex\u001b[39;49m\u001b[38;5;124;43m\"\u001b[39;49m\u001b[43m]\u001b[49m][\u001b[38;5;124m\"\u001b[39m\u001b[38;5;124mId\u001b[39m\u001b[38;5;124m\"\u001b[39m]\u001b[38;5;241m.\u001b[39mto_list()\n\u001b[1;32m      6\u001b[0m     \u001b[38;5;28;01mfor\u001b[39;00m community \u001b[38;5;129;01min\u001b[39;00m partition:\n\u001b[1;32m      7\u001b[0m         members \u001b[38;5;241m=\u001b[39m G\u001b[38;5;241m.\u001b[39mvs[community]\n",
      "\u001b[0;31mKeyError\u001b[0m: 'Attribute does not exist'"
     ]
    }
   ],
   "source": [
    "compute(answers_graph, answers_part, answers_graph, questions)\n",
    "compute(tags_graph, tags_part, tags_graph, questions)"
   ]
  },
  {
   "cell_type": "code",
   "execution_count": null,
   "metadata": {},
   "outputs": [],
   "source": []
  }
 ],
 "metadata": {
  "kernelspec": {
   "display_name": ".venv",
   "language": "python",
   "name": "python3"
  },
  "language_info": {
   "codemirror_mode": {
    "name": "ipython",
    "version": 3
   },
   "file_extension": ".py",
   "mimetype": "text/x-python",
   "name": "python",
   "nbconvert_exporter": "python",
   "pygments_lexer": "ipython3",
   "version": "3.10.15"
  }
 },
 "nbformat": 4,
 "nbformat_minor": 2
}

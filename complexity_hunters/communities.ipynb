{
 "cells": [
  {
   "cell_type": "code",
   "execution_count": 1,
   "metadata": {},
   "outputs": [
    {
     "name": "stdout",
     "output_type": "stream",
     "text": [
      "Collecting igraph\n",
      "  Downloading igraph-0.11.8-cp39-abi3-win_amd64.whl.metadata (3.9 kB)\n",
      "Collecting texttable>=1.6.2 (from igraph)\n",
      "  Using cached texttable-1.7.0-py2.py3-none-any.whl.metadata (9.8 kB)\n",
      "Downloading igraph-0.11.8-cp39-abi3-win_amd64.whl (2.0 MB)\n",
      "   ---------------------------------------- 0.0/2.0 MB ? eta -:--:--\n",
      "   --------------- ------------------------ 0.8/2.0 MB 8.5 MB/s eta 0:00:01\n",
      "   ---------------------------------------- 2.0/2.0 MB 9.2 MB/s eta 0:00:00\n",
      "Using cached texttable-1.7.0-py2.py3-none-any.whl (10 kB)\n",
      "Installing collected packages: texttable, igraph\n",
      "Successfully installed igraph-0.11.8 texttable-1.7.0\n"
     ]
    }
   ],
   "source": [
    "!pip install igraph"
   ]
  },
  {
   "cell_type": "code",
   "execution_count": 10,
   "metadata": {},
   "outputs": [],
   "source": [
    "import networkx as nx\n",
    "import igraph as ig\n",
    "import time\n",
    "import pickle"
   ]
  },
  {
   "cell_type": "code",
   "execution_count": 3,
   "metadata": {},
   "outputs": [],
   "source": [
    "def get_comm(G, n=100, n_iterations=100):\n",
    "    start = time.time()\n",
    "    sum_modul = best_mod = 0\n",
    "    best_partition = None\n",
    "    for i in range(n):\n",
    "        leiden_partition = G.community_leiden(objective_function=\"modularity\", n_iterations=n_iterations)\n",
    "        mod = G.modularity(leiden_partition)\n",
    "        sum_modul += mod\n",
    "\n",
    "        if mod > best_mod:\n",
    "            best_mod = mod\n",
    "            best_partition = leiden_partition\n",
    "\n",
    "    print(sum_modul / n)\n",
    "    end = time.time()\n",
    "    print(\"\\n\", end - start)\n",
    "    print(\"best modularity:\", best_mod)\n",
    "    return best_partition"
   ]
  },
  {
   "cell_type": "code",
   "execution_count": 6,
   "metadata": {},
   "outputs": [],
   "source": [
    "answers_graph = nx.read_edgelist(\"../data/cache/answersG.edgelist\")\n",
    "tags_graph = nx.read_edgelist(\"../data/cache/tagsG.edgelist\")"
   ]
  },
  {
   "cell_type": "code",
   "execution_count": 7,
   "metadata": {},
   "outputs": [
    {
     "name": "stdout",
     "output_type": "stream",
     "text": [
      "0.8974161150114902\n",
      "\n",
      " 31.673627614974976\n",
      "best modularity: 0.897416115011489\n"
     ]
    }
   ],
   "source": [
    "iG = ig.Graph.from_networkx(answers_graph)\n",
    "part = get_comm(iG)"
   ]
  },
  {
   "cell_type": "code",
   "execution_count": 8,
   "metadata": {},
   "outputs": [
    {
     "name": "stdout",
     "output_type": "stream",
     "text": [
      "0.9314926813062349\n",
      "\n",
      " 76.09563302993774\n",
      "best modularity: 0.9314926813062347\n"
     ]
    }
   ],
   "source": [
    "iG2 = ig.Graph.from_networkx(tags_graph)\n",
    "part2 = get_comm(iG2)"
   ]
  },
  {
   "cell_type": "code",
   "execution_count": 13,
   "metadata": {},
   "outputs": [],
   "source": [
    "def save_part(part, name):\n",
    "    with open(name, 'wb') as f:\n",
    "        # for cluster in part:\n",
    "        #     f.write(\" \".join(map(str, cluster)) + \"\\n\")\n",
    "        pickle.dump(part, f)"
   ]
  },
  {
   "cell_type": "code",
   "execution_count": 14,
   "metadata": {},
   "outputs": [],
   "source": [
    "save_part(part, \"../data/cache/user_communities_a.pickle\")\n",
    "save_part(part2, \"../data/cache/user_communities_t.pickle\")"
   ]
  },
  {
   "cell_type": "code",
   "execution_count": null,
   "metadata": {},
   "outputs": [],
   "source": []
  }
 ],
 "metadata": {
  "kernelspec": {
   "display_name": "Python 3",
   "language": "python",
   "name": "python3"
  },
  "language_info": {
   "codemirror_mode": {
    "name": "ipython",
    "version": 3
   },
   "file_extension": ".py",
   "mimetype": "text/x-python",
   "name": "python",
   "nbconvert_exporter": "python",
   "pygments_lexer": "ipython3",
   "version": "3.11.3"
  }
 },
 "nbformat": 4,
 "nbformat_minor": 2
}

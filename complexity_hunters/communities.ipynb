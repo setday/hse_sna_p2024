{
 "cells": [
  {
   "cell_type": "code",
   "execution_count": 1,
   "metadata": {},
   "outputs": [],
   "source": [
    "import networkx as nx\n",
    "import igraph as ig\n",
    "import time\n",
    "import pickle"
   ]
  },
  {
   "cell_type": "code",
   "execution_count": 2,
   "metadata": {},
   "outputs": [],
   "source": [
    "def get_comm(G, n=100, n_iterations=100):\n",
    "    start = time.time()\n",
    "    sum_modul = best_mod = 0\n",
    "    best_partition = None\n",
    "    for i in range(n):\n",
    "        leiden_partition = G.community_leiden(objective_function=\"modularity\", n_iterations=n_iterations)\n",
    "        mod = G.modularity(leiden_partition)\n",
    "        sum_modul += mod\n",
    "\n",
    "        if mod > best_mod:\n",
    "            best_mod = mod\n",
    "            best_partition = leiden_partition\n",
    "\n",
    "    print(sum_modul / n)\n",
    "    end = time.time()\n",
    "    print(\"\\n\", end - start)\n",
    "    print(\"best modularity:\", best_mod)\n",
    "    return best_partition"
   ]
  },
  {
   "cell_type": "code",
   "execution_count": 3,
   "metadata": {},
   "outputs": [],
   "source": [
    "answers_graph = nx.read_edgelist(\"../data/cache/answersG.edgelist\")\n",
    "tags_graph = nx.read_edgelist(\"../data/cache/tagsG.edgelist\")"
   ]
  },
  {
   "cell_type": "code",
   "execution_count": 4,
   "metadata": {},
   "outputs": [
    {
     "name": "stdout",
     "output_type": "stream",
     "text": [
      "0.9938883266806429\n",
      "\n",
      " 22.80457878112793\n",
      "best modularity: 0.9938883266806414\n"
     ]
    }
   ],
   "source": [
    "iG = ig.Graph.from_networkx(answers_graph)\n",
    "part = get_comm(iG)"
   ]
  },
  {
   "cell_type": "code",
   "execution_count": 5,
   "metadata": {},
   "outputs": [
    {
     "name": "stdout",
     "output_type": "stream",
     "text": [
      "0.9314926813062349\n",
      "\n",
      " 70.24240183830261\n",
      "best modularity: 0.9314926813062347\n"
     ]
    }
   ],
   "source": [
    "iG2 = ig.Graph.from_networkx(tags_graph)\n",
    "part2 = get_comm(iG2)"
   ]
  },
  {
   "cell_type": "code",
   "execution_count": 6,
   "metadata": {},
   "outputs": [],
   "source": [
    "def save_part(part, name):\n",
    "    with open(name, 'wb') as f:\n",
    "        pickle.dump(part, f)"
   ]
  },
  {
   "cell_type": "code",
   "execution_count": 7,
   "metadata": {},
   "outputs": [],
   "source": [
    "save_part(part, \"../data/cache/user_communities_a.pickle\")\n",
    "save_part(part2, \"../data/cache/user_communities_t.pickle\")"
   ]
  },
  {
   "cell_type": "code",
   "execution_count": null,
   "metadata": {},
   "outputs": [],
   "source": []
  }
 ],
 "metadata": {
  "kernelspec": {
   "display_name": ".venv",
   "language": "python",
   "name": "python3"
  },
  "language_info": {
   "codemirror_mode": {
    "name": "ipython",
    "version": 3
   },
   "file_extension": ".py",
   "mimetype": "text/x-python",
   "name": "python",
   "nbconvert_exporter": "python",
   "pygments_lexer": "ipython3",
   "version": "3.10.15"
  }
 },
 "nbformat": 4,
 "nbformat_minor": 2
}

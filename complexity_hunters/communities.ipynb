{
 "cells": [
  {
   "cell_type": "code",
   "execution_count": 6,
   "metadata": {},
   "outputs": [
    {
     "name": "stdout",
     "output_type": "stream",
     "text": [
      "Collecting igraph\n",
      "  Using cached igraph-0.11.8-cp39-abi3-macosx_11_0_arm64.whl.metadata (3.8 kB)\n",
      "Collecting texttable>=1.6.2 (from igraph)\n",
      "  Using cached texttable-1.7.0-py2.py3-none-any.whl.metadata (9.8 kB)\n",
      "Using cached igraph-0.11.8-cp39-abi3-macosx_11_0_arm64.whl (1.8 MB)\n",
      "Using cached texttable-1.7.0-py2.py3-none-any.whl (10 kB)\n",
      "Installing collected packages: texttable, igraph\n",
      "Successfully installed igraph-0.11.8 texttable-1.7.0\n"
     ]
    }
   ],
   "source": [
    "!pip install igraph"
   ]
  },
  {
   "cell_type": "code",
   "execution_count": 12,
   "metadata": {},
   "outputs": [],
   "source": [
    "import networkx as nx\n",
    "import igraph as ig\n",
    "import time"
   ]
  },
  {
   "cell_type": "code",
   "execution_count": 8,
   "metadata": {},
   "outputs": [],
   "source": [
    "def get_comm(G, n=100, n_iterations=100):\n",
    "    start = time.time()\n",
    "    sum_modul = best_mod = 0\n",
    "    best_partition = None\n",
    "    for i in range(n):\n",
    "        leiden_partition = G.community_leiden(objective_function=\"modularity\", n_iterations=n_iterations)\n",
    "        mod = G.modularity(leiden_partition)\n",
    "        sum_modul += mod\n",
    "\n",
    "        if mod > best_mod:\n",
    "            best_mod = mod\n",
    "            best_partition = leiden_partition\n",
    "\n",
    "    print(sum_modul / n)\n",
    "    end = time.time()\n",
    "    print(\"\\n\", end - start)\n",
    "    print(\"best modularity:\", best_mod)\n",
    "    return best_partition"
   ]
  },
  {
   "cell_type": "code",
   "execution_count": 10,
   "metadata": {},
   "outputs": [],
   "source": [
    "G = nx.read_edgelist(\"questionsG.edgelist\")\n",
    "G2 = nx.read_edgelist(\"tagsG.edgelist\")"
   ]
  },
  {
   "cell_type": "code",
   "execution_count": 15,
   "metadata": {},
   "outputs": [
    {
     "name": "stdout",
     "output_type": "stream",
     "text": [
      "0.4133485265426946\n",
      "\n",
      " 383.0190329551697\n",
      "best modularity: 0.41572494636517127\n"
     ]
    }
   ],
   "source": [
    "iG = ig.Graph.from_networkx(G)\n",
    "part = get_comm(iG)"
   ]
  },
  {
   "cell_type": "code",
   "execution_count": 16,
   "metadata": {},
   "outputs": [
    {
     "name": "stdout",
     "output_type": "stream",
     "text": [
      "0.9319874220393121\n",
      "\n",
      " 73.48157382011414\n",
      "best modularity: 0.9319874220393105\n"
     ]
    }
   ],
   "source": [
    "iG2 = ig.Graph.from_networkx(G2)\n",
    "part2 = get_comm(iG2)"
   ]
  },
  {
   "cell_type": "code",
   "execution_count": 17,
   "metadata": {},
   "outputs": [],
   "source": [
    "def save_part(part, name):\n",
    "    with open(name, 'w') as f:\n",
    "        for cluster in part:\n",
    "            f.write(\" \".join(map(str, cluster)) + \"\\n\")"
   ]
  },
  {
   "cell_type": "code",
   "execution_count": 18,
   "metadata": {},
   "outputs": [],
   "source": [
    "save_part(part, \"questions_part\")\n",
    "save_part(part2, \"tags_part\")"
   ]
  },
  {
   "cell_type": "code",
   "execution_count": null,
   "metadata": {},
   "outputs": [],
   "source": []
  }
 ],
 "metadata": {
  "kernelspec": {
   "display_name": ".venv",
   "language": "python",
   "name": "python3"
  },
  "language_info": {
   "codemirror_mode": {
    "name": "ipython",
    "version": 3
   },
   "file_extension": ".py",
   "mimetype": "text/x-python",
   "name": "python",
   "nbconvert_exporter": "python",
   "pygments_lexer": "ipython3",
   "version": "3.10.15"
  }
 },
 "nbformat": 4,
 "nbformat_minor": 2
}

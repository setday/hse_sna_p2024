{
 "cells": [
  {
   "cell_type": "code",
   "execution_count": 1,
   "metadata": {},
   "outputs": [],
   "source": [
    "import pandas as pd\n",
    "import networkx as nx\n",
    "import numpy as np\n",
    "\n",
    "from user_likelihood_metrics import sparse_user_tags_likelihood, _make_user_to_answers, sparse_user_answers_likelihood"
   ]
  },
  {
   "cell_type": "code",
   "execution_count": 2,
   "metadata": {},
   "outputs": [
    {
     "data": {
      "text/html": [
       "<div>\n",
       "<style scoped>\n",
       "    .dataframe tbody tr th:only-of-type {\n",
       "        vertical-align: middle;\n",
       "    }\n",
       "\n",
       "    .dataframe tbody tr th {\n",
       "        vertical-align: top;\n",
       "    }\n",
       "\n",
       "    .dataframe thead th {\n",
       "        text-align: right;\n",
       "    }\n",
       "</style>\n",
       "<table border=\"1\" class=\"dataframe\">\n",
       "  <thead>\n",
       "    <tr style=\"text-align: right;\">\n",
       "      <th></th>\n",
       "      <th>Id</th>\n",
       "      <th>PostTypeId</th>\n",
       "      <th>AcceptedAnswerId</th>\n",
       "      <th>CreationDate</th>\n",
       "      <th>Score</th>\n",
       "      <th>ViewCount</th>\n",
       "      <th>Body</th>\n",
       "      <th>OwnerUserId</th>\n",
       "      <th>LastEditorUserId</th>\n",
       "      <th>LastEditDate</th>\n",
       "      <th>...</th>\n",
       "      <th>ContentLicense</th>\n",
       "      <th>ParentId</th>\n",
       "      <th>OwnerDisplayName</th>\n",
       "      <th>LastEditorDisplayName</th>\n",
       "      <th>FavoriteCount</th>\n",
       "      <th>words_cnt</th>\n",
       "      <th>tech_words_cnt</th>\n",
       "      <th>negative_answers</th>\n",
       "      <th>is_dummy</th>\n",
       "      <th>is_complex</th>\n",
       "    </tr>\n",
       "  </thead>\n",
       "  <tbody>\n",
       "    <tr>\n",
       "      <th>44294</th>\n",
       "      <td>350784</td>\n",
       "      <td>1</td>\n",
       "      <td>NaN</td>\n",
       "      <td>2017-06-13T15:19:49.400</td>\n",
       "      <td>0</td>\n",
       "      <td>158.0</td>\n",
       "      <td>&lt;p&gt;I work for a small startup, &amp;lt; 10 employe...</td>\n",
       "      <td>134846.0</td>\n",
       "      <td>NaN</td>\n",
       "      <td>NaN</td>\n",
       "      <td>...</td>\n",
       "      <td>CC BY-SA 3.0</td>\n",
       "      <td>NaN</td>\n",
       "      <td>NaN</td>\n",
       "      <td>NaN</td>\n",
       "      <td>NaN</td>\n",
       "      <td>112</td>\n",
       "      <td>0</td>\n",
       "      <td>0</td>\n",
       "      <td>True</td>\n",
       "      <td>False</td>\n",
       "    </tr>\n",
       "    <tr>\n",
       "      <th>51046</th>\n",
       "      <td>384349</td>\n",
       "      <td>1</td>\n",
       "      <td>384408.0</td>\n",
       "      <td>2018-12-20T13:21:48.053</td>\n",
       "      <td>-1</td>\n",
       "      <td>185.0</td>\n",
       "      <td>&lt;p&gt;Im confuesd about the usage of &lt;code&gt;std::m...</td>\n",
       "      <td>300368.0</td>\n",
       "      <td>300368.0</td>\n",
       "      <td>2018-12-21T08:46:57.880</td>\n",
       "      <td>...</td>\n",
       "      <td>CC BY-SA 4.0</td>\n",
       "      <td>NaN</td>\n",
       "      <td>NaN</td>\n",
       "      <td>NaN</td>\n",
       "      <td>NaN</td>\n",
       "      <td>441</td>\n",
       "      <td>18</td>\n",
       "      <td>0</td>\n",
       "      <td>True</td>\n",
       "      <td>False</td>\n",
       "    </tr>\n",
       "    <tr>\n",
       "      <th>1489</th>\n",
       "      <td>28174</td>\n",
       "      <td>1</td>\n",
       "      <td>28175.0</td>\n",
       "      <td>2010-12-20T06:33:42.590</td>\n",
       "      <td>5</td>\n",
       "      <td>269.0</td>\n",
       "      <td>&lt;p&gt;I'm diving into web development after ten y...</td>\n",
       "      <td>7158.0</td>\n",
       "      <td>7158.0</td>\n",
       "      <td>2010-12-20T06:50:34.860</td>\n",
       "      <td>...</td>\n",
       "      <td>CC BY-SA 2.5</td>\n",
       "      <td>NaN</td>\n",
       "      <td>NaN</td>\n",
       "      <td>NaN</td>\n",
       "      <td>NaN</td>\n",
       "      <td>235</td>\n",
       "      <td>0</td>\n",
       "      <td>0</td>\n",
       "      <td>True</td>\n",
       "      <td>False</td>\n",
       "    </tr>\n",
       "  </tbody>\n",
       "</table>\n",
       "<p>3 rows × 27 columns</p>\n",
       "</div>"
      ],
      "text/plain": [
       "           Id  PostTypeId  AcceptedAnswerId             CreationDate  Score  \\\n",
       "44294  350784           1               NaN  2017-06-13T15:19:49.400      0   \n",
       "51046  384349           1          384408.0  2018-12-20T13:21:48.053     -1   \n",
       "1489    28174           1           28175.0  2010-12-20T06:33:42.590      5   \n",
       "\n",
       "       ViewCount                                               Body  \\\n",
       "44294      158.0  <p>I work for a small startup, &lt; 10 employe...   \n",
       "51046      185.0  <p>Im confuesd about the usage of <code>std::m...   \n",
       "1489       269.0  <p>I'm diving into web development after ten y...   \n",
       "\n",
       "       OwnerUserId  LastEditorUserId             LastEditDate  ...  \\\n",
       "44294     134846.0               NaN                      NaN  ...   \n",
       "51046     300368.0          300368.0  2018-12-21T08:46:57.880  ...   \n",
       "1489        7158.0            7158.0  2010-12-20T06:50:34.860  ...   \n",
       "\n",
       "      ContentLicense ParentId OwnerDisplayName  LastEditorDisplayName  \\\n",
       "44294   CC BY-SA 3.0      NaN              NaN                    NaN   \n",
       "51046   CC BY-SA 4.0      NaN              NaN                    NaN   \n",
       "1489    CC BY-SA 2.5      NaN              NaN                    NaN   \n",
       "\n",
       "       FavoriteCount words_cnt tech_words_cnt negative_answers  is_dummy  \\\n",
       "44294            NaN       112              0                0      True   \n",
       "51046            NaN       441             18                0      True   \n",
       "1489             NaN       235              0                0      True   \n",
       "\n",
       "      is_complex  \n",
       "44294      False  \n",
       "51046      False  \n",
       "1489       False  \n",
       "\n",
       "[3 rows x 27 columns]"
      ]
     },
     "execution_count": 2,
     "metadata": {},
     "output_type": "execute_result"
    }
   ],
   "source": [
    "df = pd.read_csv(\"../data/cache/prepared_questions_metrics.csv\")\n",
    "answers = pd.read_csv(\"../data/cache/prepared_answers_metrics.csv\", low_memory=False)\n",
    "df.sample(3)"
   ]
  },
  {
   "cell_type": "code",
   "execution_count": 3,
   "metadata": {},
   "outputs": [
    {
     "data": {
      "text/plain": [
       "(26935, 63423)"
      ]
     },
     "execution_count": 3,
     "metadata": {},
     "output_type": "execute_result"
    }
   ],
   "source": [
    "df.AcceptedAnswerId.isna().sum(), df.shape[0]"
   ]
  },
  {
   "cell_type": "code",
   "execution_count": 4,
   "metadata": {},
   "outputs": [
    {
     "data": {
      "text/plain": [
       "(-11, 2182)"
      ]
     },
     "execution_count": 4,
     "metadata": {},
     "output_type": "execute_result"
    }
   ],
   "source": [
    "min_ = df.Score.min()\n",
    "max_ = df.Score.max()\n",
    "min_, max_  # max is too high"
   ]
  },
  {
   "cell_type": "code",
   "execution_count": 5,
   "metadata": {},
   "outputs": [
    {
     "data": {
      "text/plain": [
       "(-11, 81)"
      ]
     },
     "execution_count": 5,
     "metadata": {},
     "output_type": "execute_result"
    }
   ],
   "source": [
    "mean = df[\"Score\"].mean()\n",
    "std = df[\"Score\"].std()\n",
    "\n",
    "df_filtered = df[(df[\"Score\"] >= mean - 3 * std) & (df[\"Score\"] <= mean + 3 * std)]\n",
    "\n",
    "min_f = df_filtered.Score.min()\n",
    "max_f = df_filtered.Score.max()\n",
    "min_f, max_f"
   ]
  },
  {
   "cell_type": "code",
   "execution_count": 6,
   "metadata": {},
   "outputs": [
    {
     "data": {
      "text/plain": [
       "((62665, 27), (161867, 22))"
      ]
     },
     "execution_count": 6,
     "metadata": {},
     "output_type": "execute_result"
    }
   ],
   "source": [
    "df = df_filtered\n",
    "answers = answers[answers[\"ParentId\"].isin(df.Id)]\n",
    "df.shape, answers.shape"
   ]
  },
  {
   "cell_type": "code",
   "execution_count": 7,
   "metadata": {},
   "outputs": [],
   "source": [
    "df = df.dropna(subset=[\"Tags\"])\n",
    "tag_series = df[\"Tags\"]\n",
    "tags = [str(tags).split(\"|\")[1:-1] for tags in tag_series]\n",
    "df[\"Tags\"] = tags"
   ]
  },
  {
   "cell_type": "code",
   "execution_count": 8,
   "metadata": {},
   "outputs": [],
   "source": [
    "question_to_tags = {\n",
    "    q.Id: set(q.Tags)\n",
    "    for _, q in df.iterrows()\n",
    "    if q.Tags and not np.isnan(q.Id)\n",
    "}\n",
    "\n",
    "users = df.OwnerUserId.dropna().unique()\n",
    "user_to_tags = {user: set() for user in users}\n",
    "for _, q in df.iterrows():\n",
    "    if not np.isnan(q.OwnerUserId) and q.Tags:\n",
    "        user_to_tags[q.OwnerUserId] |= set(q.Tags)"
   ]
  },
  {
   "cell_type": "code",
   "execution_count": 9,
   "metadata": {},
   "outputs": [
    {
     "data": {
      "text/plain": [
       "(62665, 32026)"
      ]
     },
     "execution_count": 9,
     "metadata": {},
     "output_type": "execute_result"
    }
   ],
   "source": [
    "len(question_to_tags), len(user_to_tags)"
   ]
  },
  {
   "cell_type": "code",
   "execution_count": 10,
   "metadata": {},
   "outputs": [],
   "source": [
    "tags_graph = nx.Graph()"
   ]
  },
  {
   "cell_type": "code",
   "execution_count": 11,
   "metadata": {},
   "outputs": [],
   "source": [
    "user_attributes = {}\n",
    "for user in users:\n",
    "    tags_graph.add_node('u' + str(user))\n",
    "    user_attributes[user] = {\"type\": \"user\", \"tags\": user_to_tags[user]}\n",
    "nx.set_node_attributes(tags_graph, user_attributes)"
   ]
  },
  {
   "cell_type": "code",
   "execution_count": 13,
   "metadata": {},
   "outputs": [
    {
     "name": "stderr",
     "output_type": "stream",
     "text": [
      "extracting user pairs based on tags: 100%|██████████| 32026/32026 [04:42<00:00, 113.21it/s] \n"
     ]
    }
   ],
   "source": [
    "likelihood_pairs = sparse_user_tags_likelihood(df.Tags, df.OwnerUserId, user_to_tags)\n",
    "\n",
    "for user1, user2, w in likelihood_pairs:\n",
    "    tags_graph.add_edge('u' + str(user1), 'u' + str(user2), weight=w)"
   ]
  },
  {
   "cell_type": "code",
   "execution_count": 14,
   "metadata": {},
   "outputs": [
    {
     "data": {
      "text/plain": [
       "74663"
      ]
     },
     "execution_count": 14,
     "metadata": {},
     "output_type": "execute_result"
    }
   ],
   "source": [
    "tags_graph.number_of_edges()"
   ]
  },
  {
   "cell_type": "code",
   "execution_count": 15,
   "metadata": {},
   "outputs": [],
   "source": [
    "answers_graph = nx.Graph()"
   ]
  },
  {
   "cell_type": "code",
   "execution_count": 16,
   "metadata": {},
   "outputs": [],
   "source": [
    "for user in users:\n",
    "    answers_graph.add_node('u' + str(user))"
   ]
  },
  {
   "cell_type": "code",
   "execution_count": 17,
   "metadata": {},
   "outputs": [
    {
     "data": {
      "text/plain": [
       "ParentId\n",
       "True    161867\n",
       "Name: count, dtype: int64"
      ]
     },
     "execution_count": 17,
     "metadata": {},
     "output_type": "execute_result"
    }
   ],
   "source": [
    "answers[\"ParentId\"].isin(df[\"Id\"]).value_counts()  # great"
   ]
  },
  {
   "cell_type": "code",
   "execution_count": 18,
   "metadata": {},
   "outputs": [
    {
     "data": {
      "text/plain": [
       "AcceptedAnswerId\n",
       "True     34532\n",
       "False    28133\n",
       "Name: count, dtype: int64"
      ]
     },
     "execution_count": 18,
     "metadata": {},
     "output_type": "execute_result"
    }
   ],
   "source": [
    "df[\"AcceptedAnswerId\"].isin(answers[\"Id\"]).value_counts()  # sus!"
   ]
  },
  {
   "cell_type": "code",
   "execution_count": 19,
   "metadata": {},
   "outputs": [],
   "source": [
    "users = answers.OwnerUserId.dropna().unique()\n",
    "user_to_questions = _make_user_to_answers(answers.ParentId, answers.OwnerUserId)"
   ]
  },
  {
   "cell_type": "code",
   "execution_count": 20,
   "metadata": {},
   "outputs": [
    {
     "name": "stderr",
     "output_type": "stream",
     "text": [
      "extracting user pairs based on answers: 100%|██████████| 24999/24999 [02:23<00:00, 174.19it/s] \n"
     ]
    }
   ],
   "source": [
    "likelihood_pairs = sparse_user_answers_likelihood(answers.ParentId, answers.OwnerUserId)\n",
    "\n",
    "for user1, user2, w in likelihood_pairs:\n",
    "    answers_graph.add_edge('u' + str(user1), 'u' + str(user2), weight=w)"
   ]
  },
  {
   "cell_type": "code",
   "execution_count": 21,
   "metadata": {},
   "outputs": [
    {
     "data": {
      "text/plain": [
       "5544"
      ]
     },
     "execution_count": 21,
     "metadata": {},
     "output_type": "execute_result"
    }
   ],
   "source": [
    "answers_graph.number_of_edges()"
   ]
  },
  {
   "cell_type": "code",
   "execution_count": 22,
   "metadata": {},
   "outputs": [],
   "source": [
    "nx.write_edgelist(tags_graph, \"../data/cache/tagsG.edgelist\")\n",
    "nx.write_edgelist(answers_graph, \"../data/cache/answersG.edgelist\")"
   ]
  },
  {
   "cell_type": "code",
   "execution_count": null,
   "metadata": {},
   "outputs": [],
   "source": []
  }
 ],
 "metadata": {
  "kernelspec": {
   "display_name": ".venv",
   "language": "python",
   "name": "python3"
  },
  "language_info": {
   "codemirror_mode": {
    "name": "ipython",
    "version": 3
   },
   "file_extension": ".py",
   "mimetype": "text/x-python",
   "name": "python",
   "nbconvert_exporter": "python",
   "pygments_lexer": "ipython3",
   "version": "3.10.15"
  }
 },
 "nbformat": 4,
 "nbformat_minor": 2
}

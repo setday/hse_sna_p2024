{
 "cells": [
  {
   "cell_type": "code",
   "execution_count": 1,
   "metadata": {},
   "outputs": [],
   "source": [
    "import pandas as pd\n",
    "import networkx as nx\n",
    "import numpy as np\n",
    "\n",
    "from user_likelihood_metrics import _make_user_to_tags, sparse_user_tags_likelihood, _make_user_to_answers, sparse_user_answers_likelihood"
   ]
  },
  {
   "cell_type": "code",
   "execution_count": 2,
   "metadata": {},
   "outputs": [
    {
     "data": {
      "text/html": [
       "<div>\n",
       "<style scoped>\n",
       "    .dataframe tbody tr th:only-of-type {\n",
       "        vertical-align: middle;\n",
       "    }\n",
       "\n",
       "    .dataframe tbody tr th {\n",
       "        vertical-align: top;\n",
       "    }\n",
       "\n",
       "    .dataframe thead th {\n",
       "        text-align: right;\n",
       "    }\n",
       "</style>\n",
       "<table border=\"1\" class=\"dataframe\">\n",
       "  <thead>\n",
       "    <tr style=\"text-align: right;\">\n",
       "      <th></th>\n",
       "      <th>Id</th>\n",
       "      <th>PostTypeId</th>\n",
       "      <th>AcceptedAnswerId</th>\n",
       "      <th>CreationDate</th>\n",
       "      <th>Score</th>\n",
       "      <th>ViewCount</th>\n",
       "      <th>Body</th>\n",
       "      <th>OwnerUserId</th>\n",
       "      <th>LastEditorUserId</th>\n",
       "      <th>LastEditDate</th>\n",
       "      <th>...</th>\n",
       "      <th>ContentLicense</th>\n",
       "      <th>ParentId</th>\n",
       "      <th>OwnerDisplayName</th>\n",
       "      <th>LastEditorDisplayName</th>\n",
       "      <th>FavoriteCount</th>\n",
       "      <th>words_cnt</th>\n",
       "      <th>tech_words_cnt</th>\n",
       "      <th>negative_answers</th>\n",
       "      <th>is_dummy</th>\n",
       "      <th>is_complex</th>\n",
       "    </tr>\n",
       "  </thead>\n",
       "  <tbody>\n",
       "    <tr>\n",
       "      <th>41089</th>\n",
       "      <td>334964</td>\n",
       "      <td>1</td>\n",
       "      <td>334966.0</td>\n",
       "      <td>2016-10-30T20:40:02.187</td>\n",
       "      <td>3</td>\n",
       "      <td>3189.0</td>\n",
       "      <td>I'm trying to figure out how to create abstrac...</td>\n",
       "      <td>247362.0</td>\n",
       "      <td>247362.0</td>\n",
       "      <td>2016-10-30T20:59:38.297</td>\n",
       "      <td>...</td>\n",
       "      <td>CC BY-SA 3.0</td>\n",
       "      <td>NaN</td>\n",
       "      <td>NaN</td>\n",
       "      <td>NaN</td>\n",
       "      <td>NaN</td>\n",
       "      <td>425</td>\n",
       "      <td>18</td>\n",
       "      <td>0</td>\n",
       "      <td>False</td>\n",
       "      <td>True</td>\n",
       "    </tr>\n",
       "    <tr>\n",
       "      <th>30659</th>\n",
       "      <td>273463</td>\n",
       "      <td>1</td>\n",
       "      <td>273488.0</td>\n",
       "      <td>2015-02-17T06:44:38.750</td>\n",
       "      <td>20</td>\n",
       "      <td>7123.0</td>\n",
       "      <td>I came across Event Sourcing design and I woul...</td>\n",
       "      <td>81940.0</td>\n",
       "      <td>6605.0</td>\n",
       "      <td>2015-02-17T07:06:02.323</td>\n",
       "      <td>...</td>\n",
       "      <td>CC BY-SA 3.0</td>\n",
       "      <td>NaN</td>\n",
       "      <td>NaN</td>\n",
       "      <td>NaN</td>\n",
       "      <td>NaN</td>\n",
       "      <td>297</td>\n",
       "      <td>2</td>\n",
       "      <td>0</td>\n",
       "      <td>True</td>\n",
       "      <td>False</td>\n",
       "    </tr>\n",
       "    <tr>\n",
       "      <th>20663</th>\n",
       "      <td>205936</td>\n",
       "      <td>1</td>\n",
       "      <td>NaN</td>\n",
       "      <td>2013-07-24T14:37:03.467</td>\n",
       "      <td>1</td>\n",
       "      <td>985.0</td>\n",
       "      <td>Normally TCP/IP Sequence and Acknowledge numbe...</td>\n",
       "      <td>NaN</td>\n",
       "      <td>NaN</td>\n",
       "      <td>NaN</td>\n",
       "      <td>...</td>\n",
       "      <td>CC BY-SA 3.0</td>\n",
       "      <td>NaN</td>\n",
       "      <td>user15279</td>\n",
       "      <td>NaN</td>\n",
       "      <td>NaN</td>\n",
       "      <td>71</td>\n",
       "      <td>0</td>\n",
       "      <td>0</td>\n",
       "      <td>True</td>\n",
       "      <td>False</td>\n",
       "    </tr>\n",
       "  </tbody>\n",
       "</table>\n",
       "<p>3 rows × 27 columns</p>\n",
       "</div>"
      ],
      "text/plain": [
       "           Id  PostTypeId  AcceptedAnswerId             CreationDate  Score  \\\n",
       "41089  334964           1          334966.0  2016-10-30T20:40:02.187      3   \n",
       "30659  273463           1          273488.0  2015-02-17T06:44:38.750     20   \n",
       "20663  205936           1               NaN  2013-07-24T14:37:03.467      1   \n",
       "\n",
       "       ViewCount                                               Body  \\\n",
       "41089     3189.0  I'm trying to figure out how to create abstrac...   \n",
       "30659     7123.0  I came across Event Sourcing design and I woul...   \n",
       "20663      985.0  Normally TCP/IP Sequence and Acknowledge numbe...   \n",
       "\n",
       "       OwnerUserId  LastEditorUserId             LastEditDate  ...  \\\n",
       "41089     247362.0          247362.0  2016-10-30T20:59:38.297  ...   \n",
       "30659      81940.0            6605.0  2015-02-17T07:06:02.323  ...   \n",
       "20663          NaN               NaN                      NaN  ...   \n",
       "\n",
       "      ContentLicense ParentId OwnerDisplayName  LastEditorDisplayName  \\\n",
       "41089   CC BY-SA 3.0      NaN              NaN                    NaN   \n",
       "30659   CC BY-SA 3.0      NaN              NaN                    NaN   \n",
       "20663   CC BY-SA 3.0      NaN        user15279                    NaN   \n",
       "\n",
       "       FavoriteCount words_cnt tech_words_cnt negative_answers  is_dummy  \\\n",
       "41089            NaN       425             18                0     False   \n",
       "30659            NaN       297              2                0      True   \n",
       "20663            NaN        71              0                0      True   \n",
       "\n",
       "      is_complex  \n",
       "41089       True  \n",
       "30659      False  \n",
       "20663      False  \n",
       "\n",
       "[3 rows x 27 columns]"
      ]
     },
     "execution_count": 2,
     "metadata": {},
     "output_type": "execute_result"
    }
   ],
   "source": [
    "df = pd.read_csv(\"../data/cache/prepared_questions_metrics.csv\")\n",
    "df.sample(3)"
   ]
  },
  {
   "cell_type": "code",
   "execution_count": 3,
   "metadata": {},
   "outputs": [
    {
     "data": {
      "text/plain": [
       "(26935, 63423)"
      ]
     },
     "execution_count": 3,
     "metadata": {},
     "output_type": "execute_result"
    }
   ],
   "source": [
    "df.AcceptedAnswerId.isna().sum(), df.shape[0]"
   ]
  },
  {
   "cell_type": "code",
   "execution_count": 4,
   "metadata": {},
   "outputs": [
    {
     "data": {
      "text/plain": [
       "(-11, 2182)"
      ]
     },
     "execution_count": 4,
     "metadata": {},
     "output_type": "execute_result"
    }
   ],
   "source": [
    "min_ = df.Score.min()\n",
    "max_ = df.Score.max()\n",
    "min_, max_ # max is too high"
   ]
  },
  {
   "cell_type": "code",
   "execution_count": 5,
   "metadata": {},
   "outputs": [],
   "source": [
    "mean = df[\"Score\"].mean()\n",
    "std = df[\"Score\"].std()\n",
    "\n",
    "df_filtered = df[(df[\"Score\"] >= mean - 3 * std) & (df[\"Score\"] <= mean + 3 * std)]\n",
    "min_f = df_filtered.Score.min()\n",
    "max_f = df_filtered.Score.max()\n",
    "min_f, max_f  # MAYBE USE FILTERED DF?\n",
    "\n",
    "df = df_filtered"
   ]
  },
  {
   "cell_type": "code",
   "execution_count": 6,
   "metadata": {},
   "outputs": [],
   "source": [
    "df = df.dropna(subset=[\"Tags\"])\n",
    "tag_series = df[\"Tags\"]\n",
    "tags = [str(tags).split(\"|\")[1:-1] for tags in tag_series]\n",
    "df[\"Tags\"] = tags"
   ]
  },
  {
   "cell_type": "code",
   "execution_count": 7,
   "metadata": {},
   "outputs": [],
   "source": [
    "question_to_tags = {\n",
    "    q.Id: set(q.Tags)\n",
    "    for _, q in df.iterrows()\n",
    "    if q.Tags and not np.isnan(q.Id)\n",
    "}\n",
    "\n",
    "users = df.OwnerUserId.dropna().unique()\n",
    "user_to_tags = _make_user_to_tags(df.Tags, df.OwnerUserId)"
   ]
  },
  {
   "cell_type": "code",
   "execution_count": 8,
   "metadata": {},
   "outputs": [
    {
     "data": {
      "text/plain": [
       "(62665, 33536)"
      ]
     },
     "execution_count": 8,
     "metadata": {},
     "output_type": "execute_result"
    }
   ],
   "source": [
    "len(question_to_tags), len(user_to_tags)"
   ]
  },
  {
   "cell_type": "code",
   "execution_count": 9,
   "metadata": {},
   "outputs": [],
   "source": [
    "tags_graph = nx.Graph()"
   ]
  },
  {
   "cell_type": "code",
   "execution_count": 10,
   "metadata": {},
   "outputs": [],
   "source": [
    "user_attributes = {}\n",
    "for user in users:\n",
    "    tags_graph.add_node('u' + str(user))\n",
    "    user_attributes[user] = {\"type\": \"user\", \"tags\": user_to_tags[user]}\n",
    "nx.set_node_attributes(tags_graph, user_attributes)"
   ]
  },
  {
   "cell_type": "code",
   "execution_count": 11,
   "metadata": {},
   "outputs": [
    {
     "name": "stderr",
     "output_type": "stream",
     "text": [
      "100%|██████████| 32026/32026 [05:16<00:00, 101.25it/s] \n"
     ]
    }
   ],
   "source": [
    "likelihood_pairs = sparse_user_tags_likelihood(df.Tags, df.OwnerUserId)\n",
    "\n",
    "for user1, user2, w in likelihood_pairs:\n",
    "    tags_graph.add_edge('u' + str(user1), 'u' + str(user2), weight=w)"
   ]
  },
  {
   "cell_type": "code",
   "execution_count": 12,
   "metadata": {},
   "outputs": [
    {
     "data": {
      "text/plain": [
       "74663"
      ]
     },
     "execution_count": 12,
     "metadata": {},
     "output_type": "execute_result"
    }
   ],
   "source": [
    "tags_graph.number_of_edges()"
   ]
  },
  {
   "cell_type": "code",
   "execution_count": 13,
   "metadata": {},
   "outputs": [],
   "source": [
    "answers_graph = nx.Graph()"
   ]
  },
  {
   "cell_type": "code",
   "execution_count": 14,
   "metadata": {},
   "outputs": [],
   "source": [
    "for user in users:\n",
    "    answers_graph.add_node('u' + str(user))"
   ]
  },
  {
   "cell_type": "code",
   "execution_count": 15,
   "metadata": {},
   "outputs": [],
   "source": [
    "answers = pd.read_csv(\"../data/cache/prepared_answers_metrics.csv\", low_memory=False)"
   ]
  },
  {
   "cell_type": "code",
   "execution_count": 16,
   "metadata": {},
   "outputs": [
    {
     "data": {
      "text/plain": [
       "ParentId\n",
       "True     161867\n",
       "False      9939\n",
       "Name: count, dtype: int64"
      ]
     },
     "execution_count": 16,
     "metadata": {},
     "output_type": "execute_result"
    }
   ],
   "source": [
    "answers[\"ParentId\"].isin(df[\"Id\"]).value_counts()  # great"
   ]
  },
  {
   "cell_type": "code",
   "execution_count": 17,
   "metadata": {},
   "outputs": [
    {
     "data": {
      "text/plain": [
       "AcceptedAnswerId\n",
       "True     34532\n",
       "False    28133\n",
       "Name: count, dtype: int64"
      ]
     },
     "execution_count": 17,
     "metadata": {},
     "output_type": "execute_result"
    }
   ],
   "source": [
    "df[\"AcceptedAnswerId\"].isin(answers[\"Id\"]).value_counts()  # sus!"
   ]
  },
  {
   "cell_type": "code",
   "execution_count": 18,
   "metadata": {},
   "outputs": [],
   "source": [
    "users = answers.OwnerUserId.dropna().unique()\n",
    "user_to_questions = _make_user_to_answers(answers.ParentId, answers.OwnerUserId)"
   ]
  },
  {
   "cell_type": "code",
   "execution_count": 19,
   "metadata": {},
   "outputs": [
    {
     "name": "stderr",
     "output_type": "stream",
     "text": [
      "100%|██████████| 26861/26861 [03:05<00:00, 144.83it/s] \n"
     ]
    }
   ],
   "source": [
    "likelihood_pairs = sparse_user_answers_likelihood(answers.ParentId, answers.OwnerUserId)\n",
    "\n",
    "for user1, user2, w in likelihood_pairs:\n",
    "    answers_graph.add_edge('u' + str(user1), 'u' + str(user2), weight=w)"
   ]
  },
  {
   "cell_type": "code",
   "execution_count": 20,
   "metadata": {},
   "outputs": [
    {
     "data": {
      "text/plain": [
       "15122"
      ]
     },
     "execution_count": 20,
     "metadata": {},
     "output_type": "execute_result"
    }
   ],
   "source": [
    "answers_graph.number_of_edges()"
   ]
  },
  {
   "cell_type": "code",
   "execution_count": 21,
   "metadata": {},
   "outputs": [],
   "source": [
    "nx.write_edgelist(tags_graph, \"../data/cache/tagsG.edgelist\")\n",
    "nx.write_edgelist(answers_graph, \"../data/cache/answersG.edgelist\")"
   ]
  },
  {
   "cell_type": "code",
   "execution_count": null,
   "metadata": {},
   "outputs": [],
   "source": []
  }
 ],
 "metadata": {
  "kernelspec": {
   "display_name": "Python 3",
   "language": "python",
   "name": "python3"
  },
  "language_info": {
   "codemirror_mode": {
    "name": "ipython",
    "version": 3
   },
   "file_extension": ".py",
   "mimetype": "text/x-python",
   "name": "python",
   "nbconvert_exporter": "python",
   "pygments_lexer": "ipython3",
   "version": "3.11.3"
  }
 },
 "nbformat": 4,
 "nbformat_minor": 2
}

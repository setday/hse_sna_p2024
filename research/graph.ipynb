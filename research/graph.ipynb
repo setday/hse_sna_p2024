{
 "cells": [
  {
   "cell_type": "code",
   "execution_count": 6,
   "metadata": {},
   "outputs": [],
   "source": [
    "import sys\n",
    "sys.path.append(\"..\")  # to make utils importable\n",
    "import utils.data_loader\n",
    "import numpy\n",
    "import bs4\n",
    "import utils.consts\n",
    "import networkx"
   ]
  },
  {
   "cell_type": "code",
   "execution_count": 7,
   "metadata": {},
   "outputs": [
    {
     "name": "stdout",
     "output_type": "stream",
     "text": [
      "Data loaded\n"
     ]
    }
   ],
   "source": [
    "dataset = utils.data_loader.load_dataset()\n",
    "\n",
    "\n",
    "def parse_html(html_row: str) -> str:\n",
    "    return bs4.BeautifulSoup(html_row, \"html.parser\").get_text(separator=\" \")\n",
    "\n",
    "\n",
    "dataset[\"Body\"] = dataset[\"Body\"].apply(parse_html)\n",
    "dataset = dataset[utils.consts.COLS_TO_KEEP + [\"ParentId\"]]"
   ]
  },
  {
   "cell_type": "code",
   "execution_count": 96,
   "metadata": {},
   "outputs": [],
   "source": [
    "graph = networkx.Graph()\n",
    "\n",
    "users = dataset.OwnerUserId.dropna().unique()\n",
    "questions = dataset[dataset.PostTypeId == 1]\n",
    "answers = dataset[dataset.PostTypeId == 2]\n",
    "\n",
    "# tags\n",
    "user_to_tags = {user : set() for user in users}\n",
    "question_to_tags = {}\n",
    "for i in range(len(questions)):\n",
    "    question = questions.iloc[i]\n",
    "    if question.Tags is not None:\n",
    "        question_to_tags[question.Id] = set(question.Tags)\n",
    "\n",
    "for i in range(len(answers)):\n",
    "    answer = answers.iloc[i]\n",
    "    if not numpy.isnan(answer.OwnerUserId) and answer.Tags is not None:\n",
    "        user_to_tags[answer.OwnerUserId] |= set(answer.Tags)\n",
    "\n",
    "# users\n",
    "user_attributes = {}\n",
    "for user in users:\n",
    "    graph.add_node('u' + str(user))\n",
    "    user_attributes[user] = {\"type\": \"user\", \"tags\": user_to_tags[user]}\n",
    "networkx.set_node_attributes(graph, user_attributes)\n",
    "\n",
    "# questions\n",
    "question_attributes = {}\n",
    "for i in range(len(questions)):\n",
    "    question = questions.iloc[i]\n",
    "    graph.add_node('q' + str(question.Id))\n",
    "    question_attributes[question.Id] = {\"type\": \"question\", \"tags\": question_to_tags[question.Id], \"score\": question.Score}\n",
    "networkx.set_node_attributes(graph, question_attributes)\n",
    "\n",
    "# min-max normalization\n",
    "min_ = answers.Score.min()\n",
    "max_ = answers.Score.max()\n",
    "\n",
    "# user-question\n",
    "for i in range(len(answers)):\n",
    "    answer = answers.iloc[i]\n",
    "    graph.add_edge('u' + str(answer.OwnerUserId), 'q' + str(answer.ParentId), weight=(answer.Score - min_) / (max_ - min_))\n",
    "\n",
    "# user-user\n",
    "for user1 in users:\n",
    "    for user2 in users:\n",
    "        if not numpy.isnan(user1) and not numpy.isnan(user2) and user1 < user2:\n",
    "            user1_tags = user_to_tags[user1]\n",
    "            user2_tags = user_to_tags[user2]\n",
    "            if len(user1_tags | user2_tags) * len(user1_tags & user2_tags) == 0:\n",
    "                continue\n",
    "            w = (len(user1_tags & user2_tags) / len(user1_tags | user2_tags))\n",
    "            if w >= 0.95:\n",
    "                graph.add_edge('u' + str(user1), 'u' + str(user2), weight=w)\n",
    "\n",
    "# question-question\n",
    "for i in range(len(questions)):\n",
    "    for j in range(len(questions)):\n",
    "        if i < j:\n",
    "            question1 = questions.iloc[i].Id\n",
    "            question2 = questions.iloc[j].Id\n",
    "            question1_tags = question_to_tags[question1]\n",
    "            question2_tags = question_to_tags[question2]\n",
    "            if len(question1_tags | question2_tags) * len(question1_tags & question2_tags) == 0:\n",
    "                continue\n",
    "            w = (len(question1_tags & question2_tags) / len(question1_tags | question2_tags))\n",
    "            if w >= 0.95:\n",
    "                graph.add_edge('q' + str(question1), 'q' + str(question2), weight=w)"
   ]
  },
  {
   "cell_type": "code",
   "execution_count": 110,
   "metadata": {},
   "outputs": [
    {
     "data": {
      "image/png": "[encoded data removed]",
      "text/plain": [
       "<Figure size 640x480 with 1 Axes>"
      ]
     },
     "metadata": {},
     "output_type": "display_data"
    }
   ],
   "source": [
    "# pos = networkx.spring_layout(graph, k=0.15, iterations=10)\n",
    "# print(pos)\n",
    "# graph.remove_node(\"unan\")\n",
    "\n",
    "pos = {}\n",
    "for i, user in enumerate(users):\n",
    "    pos['u' + str(user)] = (0.2, 0.8 * i / len(users) + 0.1)\n",
    "\n",
    "for i in range(len(dataset)):\n",
    "    question = dataset.iloc[i]\n",
    "    pos['q' + str(question.Id)] = (0.8, 0.4 * i / len(dataset) + 0.6)\n",
    "    pos['q' + str(question.ParentId)] = (0.8, 0.4 * i / len(dataset) + 0.1)\n",
    "\n",
    "pos[\"unan\"] = (0.4, 1.0)\n",
    "\n",
    "networkx.draw(graph, pos, node_size=10, width=1, alpha=1.0)"
   ]
  }
 ],
 "metadata": {
  "kernelspec": {
   "display_name": "Python 3 (ipykernel)",
   "language": "python",
   "name": "python3"
  },
  "language_info": {
   "codemirror_mode": {
    "name": "ipython",
    "version": 3
   },
   "file_extension": ".py",
   "mimetype": "text/x-python",
   "name": "python",
   "nbconvert_exporter": "python",
   "pygments_lexer": "ipython3",
   "version": "3.10.15"
  }
 },
 "nbformat": 4,
 "nbformat_minor": 4
}

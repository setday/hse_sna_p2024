{
 "cells": [
  {
   "cell_type": "code",
   "execution_count": 1,
   "metadata": {},
   "outputs": [],
   "source": [
    "import os\n",
    "import matplotlib.pyplot as plt\n",
    "import pandas as pd\n",
    "\n",
    "os.chdir(os.path.dirname(\"../\"))"
   ]
  },
  {
   "cell_type": "code",
   "execution_count": 2,
   "metadata": {},
   "outputs": [],
   "source": [
    "from utils.data_loader import load_dataset"
   ]
  },
  {
   "cell_type": "code",
   "execution_count": 3,
   "metadata": {},
   "outputs": [
    {
     "name": "stdout",
     "output_type": "stream",
     "text": [
      "Loaded Posts.xml\n"
     ]
    }
   ],
   "source": [
    "data = load_dataset()"
   ]
  },
  {
   "cell_type": "code",
   "execution_count": 4,
   "metadata": {},
   "outputs": [
    {
     "data": {
      "text/html": [
       "<div>\n",
       "<style scoped>\n",
       "    .dataframe tbody tr th:only-of-type {\n",
       "        vertical-align: middle;\n",
       "    }\n",
       "\n",
       "    .dataframe tbody tr th {\n",
       "        vertical-align: top;\n",
       "    }\n",
       "\n",
       "    .dataframe thead th {\n",
       "        text-align: right;\n",
       "    }\n",
       "</style>\n",
       "<table border=\"1\" class=\"dataframe\">\n",
       "  <thead>\n",
       "    <tr style=\"text-align: right;\">\n",
       "      <th></th>\n",
       "      <th>Id</th>\n",
       "      <th>PostTypeId</th>\n",
       "      <th>AcceptedAnswerId</th>\n",
       "      <th>CreationDate</th>\n",
       "      <th>Score</th>\n",
       "      <th>ViewCount</th>\n",
       "      <th>Body</th>\n",
       "      <th>OwnerUserId</th>\n",
       "      <th>LastEditorUserId</th>\n",
       "      <th>LastEditDate</th>\n",
       "      <th>...</th>\n",
       "      <th>Tags</th>\n",
       "      <th>AnswerCount</th>\n",
       "      <th>CommentCount</th>\n",
       "      <th>ClosedDate</th>\n",
       "      <th>CommunityOwnedDate</th>\n",
       "      <th>ContentLicense</th>\n",
       "      <th>ParentId</th>\n",
       "      <th>OwnerDisplayName</th>\n",
       "      <th>LastEditorDisplayName</th>\n",
       "      <th>FavoriteCount</th>\n",
       "    </tr>\n",
       "  </thead>\n",
       "  <tbody>\n",
       "    <tr>\n",
       "      <th>138957</th>\n",
       "      <td>269970</td>\n",
       "      <td>1</td>\n",
       "      <td>271665.0</td>\n",
       "      <td>2015-01-13T20:11:05.437</td>\n",
       "      <td>2</td>\n",
       "      <td>270.0</td>\n",
       "      <td>&lt;p&gt;I have a function to show or hide a certain...</td>\n",
       "      <td>148157.0</td>\n",
       "      <td>9113.0</td>\n",
       "      <td>2015-01-14T08:54:07.290</td>\n",
       "      <td>...</td>\n",
       "      <td>|algorithms|</td>\n",
       "      <td>3.0</td>\n",
       "      <td>9</td>\n",
       "      <td>None</td>\n",
       "      <td>None</td>\n",
       "      <td>CC BY-SA 3.0</td>\n",
       "      <td>NaN</td>\n",
       "      <td>None</td>\n",
       "      <td>None</td>\n",
       "      <td>NaN</td>\n",
       "    </tr>\n",
       "    <tr>\n",
       "      <th>20207</th>\n",
       "      <td>47778</td>\n",
       "      <td>1</td>\n",
       "      <td>47784.0</td>\n",
       "      <td>2011-02-14T20:11:58.357</td>\n",
       "      <td>42</td>\n",
       "      <td>20576.0</td>\n",
       "      <td>&lt;p&gt;First, some background on me. I have a PhD ...</td>\n",
       "      <td>8402.0</td>\n",
       "      <td>25936.0</td>\n",
       "      <td>2012-03-07T09:10:19.373</td>\n",
       "      <td>...</td>\n",
       "      <td>|interview|</td>\n",
       "      <td>9.0</td>\n",
       "      <td>13</td>\n",
       "      <td>2014-04-06T13:29:07.830</td>\n",
       "      <td>None</td>\n",
       "      <td>CC BY-SA 2.5</td>\n",
       "      <td>NaN</td>\n",
       "      <td>None</td>\n",
       "      <td>None</td>\n",
       "      <td>NaN</td>\n",
       "    </tr>\n",
       "    <tr>\n",
       "      <th>16114</th>\n",
       "      <td>39367</td>\n",
       "      <td>2</td>\n",
       "      <td>NaN</td>\n",
       "      <td>2011-01-24T12:03:33.137</td>\n",
       "      <td>2</td>\n",
       "      <td>NaN</td>\n",
       "      <td>&lt;p&gt;So there are a few things here:&lt;/p&gt;\\n\\n&lt;ul&gt;...</td>\n",
       "      <td>5095.0</td>\n",
       "      <td>NaN</td>\n",
       "      <td>None</td>\n",
       "      <td>...</td>\n",
       "      <td>None</td>\n",
       "      <td>NaN</td>\n",
       "      <td>0</td>\n",
       "      <td>None</td>\n",
       "      <td>None</td>\n",
       "      <td>CC BY-SA 2.5</td>\n",
       "      <td>39363.0</td>\n",
       "      <td>None</td>\n",
       "      <td>None</td>\n",
       "      <td>NaN</td>\n",
       "    </tr>\n",
       "    <tr>\n",
       "      <th>220659</th>\n",
       "      <td>410085</td>\n",
       "      <td>2</td>\n",
       "      <td>NaN</td>\n",
       "      <td>2020-05-13T16:16:57.310</td>\n",
       "      <td>0</td>\n",
       "      <td>NaN</td>\n",
       "      <td>&lt;p&gt;One reason might be that every SDK you can ...</td>\n",
       "      <td>97810.0</td>\n",
       "      <td>97810.0</td>\n",
       "      <td>2020-05-13T17:00:53.843</td>\n",
       "      <td>...</td>\n",
       "      <td>None</td>\n",
       "      <td>NaN</td>\n",
       "      <td>0</td>\n",
       "      <td>None</td>\n",
       "      <td>None</td>\n",
       "      <td>CC BY-SA 4.0</td>\n",
       "      <td>25267.0</td>\n",
       "      <td>None</td>\n",
       "      <td>None</td>\n",
       "      <td>NaN</td>\n",
       "    </tr>\n",
       "    <tr>\n",
       "      <th>242771</th>\n",
       "      <td>448970</td>\n",
       "      <td>1</td>\n",
       "      <td>448971.0</td>\n",
       "      <td>2023-12-05T20:18:08.907</td>\n",
       "      <td>-2</td>\n",
       "      <td>169.0</td>\n",
       "      <td>&lt;p&gt;I am currently writing an application that ...</td>\n",
       "      <td>437649.0</td>\n",
       "      <td>437649.0</td>\n",
       "      <td>2023-12-05T20:18:36.247</td>\n",
       "      <td>...</td>\n",
       "      <td>|design-patterns|architecture|aws|lambda|</td>\n",
       "      <td>2.0</td>\n",
       "      <td>2</td>\n",
       "      <td>None</td>\n",
       "      <td>None</td>\n",
       "      <td>CC BY-SA 4.0</td>\n",
       "      <td>NaN</td>\n",
       "      <td>None</td>\n",
       "      <td>None</td>\n",
       "      <td>NaN</td>\n",
       "    </tr>\n",
       "  </tbody>\n",
       "</table>\n",
       "<p>5 rows × 22 columns</p>\n",
       "</div>"
      ],
      "text/plain": [
       "            Id  PostTypeId  AcceptedAnswerId             CreationDate  Score  \\\n",
       "138957  269970           1          271665.0  2015-01-13T20:11:05.437      2   \n",
       "20207    47778           1           47784.0  2011-02-14T20:11:58.357     42   \n",
       "16114    39367           2               NaN  2011-01-24T12:03:33.137      2   \n",
       "220659  410085           2               NaN  2020-05-13T16:16:57.310      0   \n",
       "242771  448970           1          448971.0  2023-12-05T20:18:08.907     -2   \n",
       "\n",
       "        ViewCount                                               Body  \\\n",
       "138957      270.0  <p>I have a function to show or hide a certain...   \n",
       "20207     20576.0  <p>First, some background on me. I have a PhD ...   \n",
       "16114         NaN  <p>So there are a few things here:</p>\\n\\n<ul>...   \n",
       "220659        NaN  <p>One reason might be that every SDK you can ...   \n",
       "242771      169.0  <p>I am currently writing an application that ...   \n",
       "\n",
       "        OwnerUserId  LastEditorUserId             LastEditDate  ...  \\\n",
       "138957     148157.0            9113.0  2015-01-14T08:54:07.290  ...   \n",
       "20207        8402.0           25936.0  2012-03-07T09:10:19.373  ...   \n",
       "16114        5095.0               NaN                     None  ...   \n",
       "220659      97810.0           97810.0  2020-05-13T17:00:53.843  ...   \n",
       "242771     437649.0          437649.0  2023-12-05T20:18:36.247  ...   \n",
       "\n",
       "                                             Tags AnswerCount CommentCount  \\\n",
       "138957                               |algorithms|         3.0            9   \n",
       "20207                                 |interview|         9.0           13   \n",
       "16114                                        None         NaN            0   \n",
       "220659                                       None         NaN            0   \n",
       "242771  |design-patterns|architecture|aws|lambda|         2.0            2   \n",
       "\n",
       "                     ClosedDate  CommunityOwnedDate ContentLicense ParentId  \\\n",
       "138957                     None                None   CC BY-SA 3.0      NaN   \n",
       "20207   2014-04-06T13:29:07.830                None   CC BY-SA 2.5      NaN   \n",
       "16114                      None                None   CC BY-SA 2.5  39363.0   \n",
       "220659                     None                None   CC BY-SA 4.0  25267.0   \n",
       "242771                     None                None   CC BY-SA 4.0      NaN   \n",
       "\n",
       "       OwnerDisplayName  LastEditorDisplayName FavoriteCount  \n",
       "138957             None                   None           NaN  \n",
       "20207              None                   None           NaN  \n",
       "16114              None                   None           NaN  \n",
       "220659             None                   None           NaN  \n",
       "242771             None                   None           NaN  \n",
       "\n",
       "[5 rows x 22 columns]"
      ]
     },
     "execution_count": 4,
     "metadata": {},
     "output_type": "execute_result"
    }
   ],
   "source": [
    "df = data[\"Posts\"]\n",
    "df.sample(5)"
   ]
  },
  {
   "cell_type": "code",
   "execution_count": 5,
   "metadata": {},
   "outputs": [
    {
     "data": {
      "text/plain": [
       "Index(['Id', 'PostTypeId', 'AcceptedAnswerId', 'CreationDate', 'Score',\n",
       "       'ViewCount', 'Body', 'OwnerUserId', 'LastEditorUserId', 'LastEditDate',\n",
       "       'LastActivityDate', 'Title', 'Tags', 'AnswerCount', 'CommentCount',\n",
       "       'ClosedDate', 'CommunityOwnedDate', 'ContentLicense', 'ParentId',\n",
       "       'OwnerDisplayName', 'LastEditorDisplayName', 'FavoriteCount'],\n",
       "      dtype='object')"
      ]
     },
     "execution_count": 5,
     "metadata": {},
     "output_type": "execute_result"
    }
   ],
   "source": [
    "df.columns"
   ]
  },
  {
   "cell_type": "code",
   "execution_count": 6,
   "metadata": {},
   "outputs": [
    {
     "data": {
      "text/plain": [
       "PostTypeId\n",
       "2    178628\n",
       "1     63423\n",
       "5       984\n",
       "4       984\n",
       "6        31\n",
       "3        10\n",
       "7         6\n",
       "Name: count, dtype: int64"
      ]
     },
     "execution_count": 6,
     "metadata": {},
     "output_type": "execute_result"
    }
   ],
   "source": [
    "df.PostTypeId.value_counts()"
   ]
  },
  {
   "cell_type": "code",
   "execution_count": 7,
   "metadata": {},
   "outputs": [
    {
     "data": {
      "text/plain": [
       "1         <p>Ideally, code should be so well coded that ...\n",
       "3         <p>I think the answer is the usual \"It depends...\n",
       "5         <p>IMO, I've found that the transparency offer...\n",
       "6         <p>Only if the comment describes what the code...\n",
       "9         <p>Stress.  I give in to temptation and surf S...\n",
       "                                ...                        \n",
       "244058    <p>Fundamentally, you are trying to solve an i...\n",
       "244059    <p>The problem with an integration of things, ...\n",
       "244062    <p>The solution is to do the rendering on the ...\n",
       "244064    <p>The idea is to have multiple generic endpoi...\n",
       "244065    <p>Your assumption that you always need all th...\n",
       "Name: Body, Length: 178628, dtype: object"
      ]
     },
     "execution_count": 7,
     "metadata": {},
     "output_type": "execute_result"
    }
   ],
   "source": [
    "df[df.PostTypeId == 2].Body"
   ]
  },
  {
   "cell_type": "code",
   "execution_count": 8,
   "metadata": {},
   "outputs": [
    {
     "data": {
      "text/plain": [
       "'<p>So this is a very beginner question, so please do be patient with me: \\nBut I am building a little practice project and what I am struggling to understand is the overall structure of the solution, in terms of breaking projects up. I assume this is for easily readability and maintainability and as I have never worked like that before I have a few questions. </p>\\n\\n<p>So for example sake, I am building a payment app where people transfer money to eachother (\"pretend\" money) there will be a basic front end using razor pages and an api solution that captures all info from the database and exports as json. </p>\\n\\n<p>So far I\\'ve structured my project thusfar:</p>\\n\\n<p>project.Domain (this contains all the actual logic, such as the core models and controllers, and code to transfer money from one account to another etc ) </p>\\n\\n<p>project.Presentation(this will be where all the razor pages live, so in effect the data from Domain is passed into here and printed to the page)</p>\\n\\n<p>project.API(this gather app info from the database and export as json. This is restful and will allow for verbs like put, get post etc etc. </p>\\n\\n<p>Like i said i\\'ve never done this before so im trying to use common sense here. Typically what I normally would have done was create a single MVC project and put everythere in there! but I\\'ve been learning SOLID and that made me think the code should defo be structured, but also the solution itself too! </p>\\n\\n<p>would be very grateful for input on this! </p>\\n\\n<p>Andy </p>\\n'"
      ]
     },
     "execution_count": 8,
     "metadata": {},
     "output_type": "execute_result"
    }
   ],
   "source": [
    "df[df.PostTypeId == 1].Body.sample().iloc[0]"
   ]
  },
  {
   "cell_type": "code",
   "execution_count": 9,
   "metadata": {},
   "outputs": [
    {
     "data": {
      "text/plain": [
       "[<matplotlib.lines.Line2D at 0x25ab66ffad0>]"
      ]
     },
     "execution_count": 9,
     "metadata": {},
     "output_type": "execute_result"
    },
    {
     "data": {
      "image/png": "[encoded data removed]",
      "text/plain": [
       "<Figure size 640x480 with 1 Axes>"
      ]
     },
     "metadata": {},
     "output_type": "display_data"
    }
   ],
   "source": [
    "plt.plot(df.Score)"
   ]
  },
  {
   "cell_type": "code",
   "execution_count": 10,
   "metadata": {},
   "outputs": [
    {
     "data": {
      "text/plain": [
       "63423"
      ]
     },
     "execution_count": 10,
     "metadata": {},
     "output_type": "execute_result"
    }
   ],
   "source": [
    "df.count().ViewCount"
   ]
  },
  {
   "cell_type": "code",
   "execution_count": 11,
   "metadata": {},
   "outputs": [
    {
     "data": {
      "text/plain": [
       "244066"
      ]
     },
     "execution_count": 11,
     "metadata": {},
     "output_type": "execute_result"
    }
   ],
   "source": [
    "df.count().Score"
   ]
  },
  {
   "cell_type": "code",
   "execution_count": 12,
   "metadata": {},
   "outputs": [
    {
     "data": {
      "text/plain": [
       "243622"
      ]
     },
     "execution_count": 12,
     "metadata": {},
     "output_type": "execute_result"
    }
   ],
   "source": [
    "df.count().Body"
   ]
  },
  {
   "cell_type": "code",
   "execution_count": 13,
   "metadata": {},
   "outputs": [
    {
     "data": {
      "text/plain": [
       "444"
      ]
     },
     "execution_count": 13,
     "metadata": {},
     "output_type": "execute_result"
    }
   ],
   "source": [
    "df[df.Body.isna()].shape[0]"
   ]
  },
  {
   "cell_type": "code",
   "execution_count": 14,
   "metadata": {},
   "outputs": [],
   "source": [
    "df = df[~df.Body.isna()]"
   ]
  },
  {
   "cell_type": "code",
   "execution_count": 15,
   "metadata": {},
   "outputs": [
    {
     "data": {
      "text/plain": [
       "Index(['Id', 'PostTypeId', 'AcceptedAnswerId', 'CreationDate', 'Score',\n",
       "       'ViewCount', 'Body', 'OwnerUserId', 'LastEditorUserId', 'LastEditDate',\n",
       "       'LastActivityDate', 'Title', 'Tags', 'AnswerCount', 'CommentCount',\n",
       "       'ClosedDate', 'CommunityOwnedDate', 'ContentLicense', 'ParentId',\n",
       "       'OwnerDisplayName', 'LastEditorDisplayName', 'FavoriteCount'],\n",
       "      dtype='object')"
      ]
     },
     "execution_count": 15,
     "metadata": {},
     "output_type": "execute_result"
    }
   ],
   "source": [
    "df.columns"
   ]
  },
  {
   "cell_type": "code",
   "execution_count": 16,
   "metadata": {},
   "outputs": [],
   "source": [
    "df = df[[\"Id\", \"PostTypeId\", \"AcceptedAnswerId\", \"CreationDate\", \"Score\", \"ViewCount\", \"Body\", \"OwnerUserId\", \n",
    "         \"LastEditorUserId\", \"Tags\", \"CommentCount\", \"ClosedDate\", \"FavoriteCount\"]]"
   ]
  },
  {
   "cell_type": "code",
   "execution_count": 17,
   "metadata": {},
   "outputs": [],
   "source": [
    "questions = df[df.PostTypeId == 1]\n",
    "answers = df[df.PostTypeId == 2]"
   ]
  },
  {
   "cell_type": "code",
   "execution_count": null,
   "metadata": {},
   "outputs": [],
   "source": []
  }
 ],
 "metadata": {
  "kernelspec": {
   "display_name": "Python 3",
   "language": "python",
   "name": "python3"
  },
  "language_info": {
   "codemirror_mode": {
    "name": "ipython",
    "version": 3
   },
   "file_extension": ".py",
   "mimetype": "text/x-python",
   "name": "python",
   "nbconvert_exporter": "python",
   "pygments_lexer": "ipython3",
   "version": "3.11.7"
  }
 },
 "nbformat": 4,
 "nbformat_minor": 2
}

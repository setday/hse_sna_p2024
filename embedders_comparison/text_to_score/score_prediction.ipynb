{
 "cells": [
  {
   "cell_type": "code",
   "execution_count": 1,
   "metadata": {},
   "outputs": [],
   "source": [
    "import sys\n",
    "\n",
    "sys.path.append(\"../..\")  # to make utils importable"
   ]
  },
  {
   "cell_type": "code",
   "execution_count": 2,
   "metadata": {},
   "outputs": [],
   "source": [
    "import pandas as pd\n",
    "import warnings\n",
    "from utils.data_loader import load_dataset\n",
    "from bs4 import BeautifulSoup\n",
    "from utils.consts import EMBEDDERS\n",
    "\n",
    "warnings.filterwarnings(\"ignore\")"
   ]
  },
  {
   "cell_type": "code",
   "execution_count": 3,
   "metadata": {},
   "outputs": [
    {
     "name": "stdout",
     "output_type": "stream",
     "text": [
      "Data loaded\n"
     ]
    },
    {
     "data": {
      "text/plain": [
       "(10000, 22)"
      ]
     },
     "execution_count": 3,
     "metadata": {},
     "output_type": "execute_result"
    }
   ],
   "source": [
    "posts = load_dataset(filepath=\"../../data/Posts.xml\")\n",
    "posts.shape"
   ]
  },
  {
   "cell_type": "code",
   "execution_count": 4,
   "metadata": {},
   "outputs": [
    {
     "data": {
      "text/html": [
       "<div>\n",
       "<style scoped>\n",
       "    .dataframe tbody tr th:only-of-type {\n",
       "        vertical-align: middle;\n",
       "    }\n",
       "\n",
       "    .dataframe tbody tr th {\n",
       "        vertical-align: top;\n",
       "    }\n",
       "\n",
       "    .dataframe thead th {\n",
       "        text-align: right;\n",
       "    }\n",
       "</style>\n",
       "<table border=\"1\" class=\"dataframe\">\n",
       "  <thead>\n",
       "    <tr style=\"text-align: right;\">\n",
       "      <th></th>\n",
       "      <th>Id</th>\n",
       "      <th>PostTypeId</th>\n",
       "      <th>AcceptedAnswerId</th>\n",
       "      <th>CreationDate</th>\n",
       "      <th>Score</th>\n",
       "      <th>ViewCount</th>\n",
       "      <th>Body</th>\n",
       "      <th>OwnerUserId</th>\n",
       "      <th>LastEditorUserId</th>\n",
       "      <th>LastEditDate</th>\n",
       "      <th>...</th>\n",
       "      <th>Tags</th>\n",
       "      <th>AnswerCount</th>\n",
       "      <th>CommentCount</th>\n",
       "      <th>ClosedDate</th>\n",
       "      <th>CommunityOwnedDate</th>\n",
       "      <th>ContentLicense</th>\n",
       "      <th>ParentId</th>\n",
       "      <th>OwnerDisplayName</th>\n",
       "      <th>LastEditorDisplayName</th>\n",
       "      <th>FavoriteCount</th>\n",
       "    </tr>\n",
       "  </thead>\n",
       "  <tbody>\n",
       "    <tr>\n",
       "      <th>2871</th>\n",
       "      <td>8631</td>\n",
       "      <td>1</td>\n",
       "      <td>8650.0</td>\n",
       "      <td>2010-09-30T20:00:41.227</td>\n",
       "      <td>14</td>\n",
       "      <td>13771.0</td>\n",
       "      <td>&lt;p&gt;When you are defining a function/variable/e...</td>\n",
       "      <td>1785.0</td>\n",
       "      <td>-1.0</td>\n",
       "      <td>2020-06-16T10:01:49.770</td>\n",
       "      <td>...</td>\n",
       "      <td>|naming|variables|functions|</td>\n",
       "      <td>18.0</td>\n",
       "      <td>11</td>\n",
       "      <td>2015-04-05T15:17:02.313</td>\n",
       "      <td>2012-02-10T16:03:21.110</td>\n",
       "      <td>CC BY-SA 3.0</td>\n",
       "      <td>NaN</td>\n",
       "      <td>None</td>\n",
       "      <td>None</td>\n",
       "      <td>NaN</td>\n",
       "    </tr>\n",
       "  </tbody>\n",
       "</table>\n",
       "<p>1 rows × 22 columns</p>\n",
       "</div>"
      ],
      "text/plain": [
       "        Id  PostTypeId  AcceptedAnswerId             CreationDate  Score  \\\n",
       "2871  8631           1            8650.0  2010-09-30T20:00:41.227     14   \n",
       "\n",
       "      ViewCount                                               Body  \\\n",
       "2871    13771.0  <p>When you are defining a function/variable/e...   \n",
       "\n",
       "      OwnerUserId  LastEditorUserId             LastEditDate  ...  \\\n",
       "2871       1785.0              -1.0  2020-06-16T10:01:49.770  ...   \n",
       "\n",
       "                              Tags AnswerCount CommentCount  \\\n",
       "2871  |naming|variables|functions|        18.0           11   \n",
       "\n",
       "                   ClosedDate       CommunityOwnedDate ContentLicense  \\\n",
       "2871  2015-04-05T15:17:02.313  2012-02-10T16:03:21.110   CC BY-SA 3.0   \n",
       "\n",
       "     ParentId OwnerDisplayName  LastEditorDisplayName FavoriteCount  \n",
       "2871      NaN             None                   None           NaN  \n",
       "\n",
       "[1 rows x 22 columns]"
      ]
     },
     "execution_count": 4,
     "metadata": {},
     "output_type": "execute_result"
    }
   ],
   "source": [
    "posts.sample(1)"
   ]
  },
  {
   "cell_type": "code",
   "execution_count": 5,
   "metadata": {},
   "outputs": [
    {
     "data": {
      "text/plain": [
       "Index(['Id', 'PostTypeId', 'AcceptedAnswerId', 'CreationDate', 'Score',\n",
       "       'ViewCount', 'Body', 'OwnerUserId', 'LastEditorUserId', 'LastEditDate',\n",
       "       'LastActivityDate', 'Title', 'Tags', 'AnswerCount', 'CommentCount',\n",
       "       'ClosedDate', 'CommunityOwnedDate', 'ContentLicense', 'ParentId',\n",
       "       'OwnerDisplayName', 'LastEditorDisplayName', 'FavoriteCount'],\n",
       "      dtype='object')"
      ]
     },
     "execution_count": 5,
     "metadata": {},
     "output_type": "execute_result"
    }
   ],
   "source": [
    "posts.columns"
   ]
  },
  {
   "cell_type": "markdown",
   "metadata": {},
   "source": [
    "The column ```Body``` is a raw HTML code. Before applying any model, we need to clean it from redundant tags.\n",
    "\n",
    "For this, we will use a library ```BeautifulSoup```"
   ]
  },
  {
   "cell_type": "code",
   "execution_count": 6,
   "metadata": {},
   "outputs": [],
   "source": [
    "posts = posts.dropna(subset=[\"Body\"], axis=0)  # next cell won't work otherwise"
   ]
  },
  {
   "cell_type": "code",
   "execution_count": 7,
   "metadata": {},
   "outputs": [],
   "source": [
    "posts.dropna(subset=[\"Body\"], axis=0) \n",
    "def html_to_str(row_html: str) -> str:\n",
    "    soup = BeautifulSoup(row_html, \"html.parser\")\n",
    "    return soup.get_text(separator=\" \")\n",
    "\n",
    "\n",
    "posts[\"Body\"] = posts[\"Body\"].apply(html_to_str)"
   ]
  },
  {
   "cell_type": "markdown",
   "metadata": {},
   "source": [
    "Most columns are of no value. We will keep only those that are potentilly useful."
   ]
  },
  {
   "cell_type": "code",
   "execution_count": 8,
   "metadata": {},
   "outputs": [],
   "source": [
    "columns_to_keep = [\n",
    "    \"Body\",\n",
    "    \"ViewCount\",\n",
    "    \"CreationDate\",\n",
    "    \"PostTypeId\",\n",
    "    \"Score\",\n",
    "    \"Tags\",\n",
    "    \"Title\",\n",
    "]\n",
    "posts = posts[columns_to_keep]"
   ]
  },
  {
   "cell_type": "code",
   "execution_count": 9,
   "metadata": {},
   "outputs": [],
   "source": [
    "# posts = posts[posts.CreationDate >= ...] # may be useful\n",
    "questions = posts[posts.PostTypeId == 1]\n",
    "answers = posts[posts.PostTypeId == 2]"
   ]
  },
  {
   "cell_type": "markdown",
   "metadata": {},
   "source": [
    "### Predict question ```Score``` based on the ```Body```'s embedding"
   ]
  },
  {
   "cell_type": "code",
   "execution_count": 10,
   "metadata": {},
   "outputs": [],
   "source": [
    "from train import estimate_embedder"
   ]
  },
  {
   "cell_type": "code",
   "execution_count": 11,
   "metadata": {},
   "outputs": [
    {
     "name": "stderr",
     "output_type": "stream",
     "text": [
      "Encoding train data with Albert: 100%|██████████| 800/800 [00:58<00:00, 13.77it/s]\n",
      "Encoding test data with Albert: 100%|██████████| 200/200 [00:14<00:00, 13.74it/s]\n"
     ]
    },
    {
     "name": "stdout",
     "output_type": "stream",
     "text": [
      "model='Albert' mae=184.9331\n"
     ]
    },
    {
     "name": "stderr",
     "output_type": "stream",
     "text": [
      "Encoding train data with Roberta: 100%|██████████| 800/800 [01:33<00:00,  8.57it/s]\n",
      "Encoding test data with Roberta: 100%|██████████| 200/200 [00:23<00:00,  8.63it/s]\n"
     ]
    },
    {
     "name": "stdout",
     "output_type": "stream",
     "text": [
      "model='Roberta' mae=140.1873\n"
     ]
    },
    {
     "name": "stderr",
     "output_type": "stream",
     "text": [
      "Encoding train data with DistilBert: 100%|██████████| 800/800 [01:24<00:00,  9.47it/s]\n",
      "Encoding test data with DistilBert: 100%|██████████| 200/200 [00:22<00:00,  8.84it/s]\n"
     ]
    },
    {
     "name": "stdout",
     "output_type": "stream",
     "text": [
      "model='DistilBert' mae=161.0058\n"
     ]
    },
    {
     "name": "stderr",
     "output_type": "stream",
     "text": [
      "Encoding train data with MiniLM1: 100%|██████████| 800/800 [00:25<00:00, 31.27it/s]\n",
      "Encoding test data with MiniLM1: 100%|██████████| 200/200 [00:08<00:00, 24.71it/s]\n"
     ]
    },
    {
     "name": "stdout",
     "output_type": "stream",
     "text": [
      "model='MiniLM1' mae=38.5727\n"
     ]
    },
    {
     "name": "stderr",
     "output_type": "stream",
     "text": [
      "Encoding train data with MiniLM2: 100%|██████████| 800/800 [00:39<00:00, 20.27it/s]\n",
      "Encoding test data with MiniLM2: 100%|██████████| 200/200 [00:10<00:00, 18.55it/s]\n"
     ]
    },
    {
     "name": "stdout",
     "output_type": "stream",
     "text": [
      "model='MiniLM2' mae=35.6215\n"
     ]
    },
    {
     "name": "stderr",
     "output_type": "stream",
     "text": [
      "Encoding train data with MiniLM3: 100%|██████████| 800/800 [00:10<00:00, 74.29it/s]\n",
      "Encoding test data with MiniLM3: 100%|██████████| 200/200 [00:02<00:00, 72.78it/s]"
     ]
    },
    {
     "name": "stdout",
     "output_type": "stream",
     "text": [
      "model='MiniLM3' mae=37.9715\n"
     ]
    },
    {
     "name": "stderr",
     "output_type": "stream",
     "text": [
      "\n"
     ]
    }
   ],
   "source": [
    "questions_subset = questions.copy()[:1_000]\n",
    "models_mae = []\n",
    "for model in EMBEDDERS:\n",
    "    mae = estimate_embedder(data=questions_subset, model_name=model)\n",
    "    models_mae.append({\"model\": model, \"mae\": mae})\n",
    "    print(f\"{model=} {mae=}\")"
   ]
  },
  {
   "cell_type": "code",
   "execution_count": 12,
   "metadata": {},
   "outputs": [
    {
     "name": "stderr",
     "output_type": "stream",
     "text": [
      "Encoding train data with Albert: 100%|██████████| 800/800 [00:47<00:00, 16.99it/s]\n",
      "Encoding test data with Albert: 100%|██████████| 200/200 [00:11<00:00, 17.89it/s]\n"
     ]
    },
    {
     "name": "stdout",
     "output_type": "stream",
     "text": [
      "model='Albert' mae=182.9839\n"
     ]
    },
    {
     "name": "stderr",
     "output_type": "stream",
     "text": [
      "Encoding train data with Roberta: 100%|██████████| 800/800 [01:08<00:00, 11.67it/s]\n",
      "Encoding test data with Roberta: 100%|██████████| 200/200 [00:16<00:00, 12.23it/s]\n"
     ]
    },
    {
     "name": "stdout",
     "output_type": "stream",
     "text": [
      "model='Roberta' mae=156.9618\n"
     ]
    },
    {
     "name": "stderr",
     "output_type": "stream",
     "text": [
      "Encoding train data with DistilBert: 100%|██████████| 800/800 [01:06<00:00, 11.98it/s]\n",
      "Encoding test data with DistilBert: 100%|██████████| 200/200 [00:15<00:00, 13.17it/s]\n"
     ]
    },
    {
     "name": "stdout",
     "output_type": "stream",
     "text": [
      "model='DistilBert' mae=154.2511\n"
     ]
    },
    {
     "name": "stderr",
     "output_type": "stream",
     "text": [
      "Encoding train data with MiniLM1: 100%|██████████| 800/800 [00:21<00:00, 37.30it/s]\n",
      "Encoding test data with MiniLM1: 100%|██████████| 200/200 [00:05<00:00, 38.48it/s]\n"
     ]
    },
    {
     "name": "stdout",
     "output_type": "stream",
     "text": [
      "model='MiniLM1' mae=36.2843\n"
     ]
    },
    {
     "name": "stderr",
     "output_type": "stream",
     "text": [
      "Encoding train data with MiniLM2: 100%|██████████| 800/800 [00:33<00:00, 23.76it/s]\n",
      "Encoding test data with MiniLM2: 100%|██████████| 200/200 [00:08<00:00, 24.37it/s]\n"
     ]
    },
    {
     "name": "stdout",
     "output_type": "stream",
     "text": [
      "model='MiniLM2' mae=39.3906\n"
     ]
    },
    {
     "name": "stderr",
     "output_type": "stream",
     "text": [
      "Encoding train data with MiniLM3: 100%|██████████| 800/800 [00:09<00:00, 81.57it/s]\n",
      "Encoding test data with MiniLM3: 100%|██████████| 200/200 [00:02<00:00, 80.26it/s]"
     ]
    },
    {
     "name": "stdout",
     "output_type": "stream",
     "text": [
      "model='MiniLM3' mae=35.9594\n"
     ]
    },
    {
     "name": "stderr",
     "output_type": "stream",
     "text": [
      "\n"
     ]
    }
   ],
   "source": [
    "answers_subset = answers.copy()[:1_000]\n",
    "models_mae = []\n",
    "for model in EMBEDDERS:\n",
    "    mae = estimate_embedder(data=answers_subset, model_name=model)\n",
    "    models_mae.append({\"model\": model, \"mae\": mae})\n",
    "    print(f\"{model=} {mae=}\")"
   ]
  },
  {
   "cell_type": "code",
   "execution_count": null,
   "metadata": {},
   "outputs": [],
   "source": []
  }
 ],
 "metadata": {
  "kernelspec": {
   "display_name": "Python 3",
   "language": "python",
   "name": "python3"
  },
  "language_info": {
   "codemirror_mode": {
    "name": "ipython",
    "version": 3
   },
   "file_extension": ".py",
   "mimetype": "text/x-python",
   "name": "python",
   "nbconvert_exporter": "python",
   "pygments_lexer": "ipython3",
   "version": "3.11.7"
  }
 },
 "nbformat": 4,
 "nbformat_minor": 2
}

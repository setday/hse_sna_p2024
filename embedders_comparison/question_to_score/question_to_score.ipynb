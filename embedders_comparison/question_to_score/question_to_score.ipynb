{
 "cells": [
  {
   "cell_type": "code",
   "execution_count": 1,
   "metadata": {},
   "outputs": [],
   "source": [
    "import pandas as pd\n",
    "import warnings\n",
    "warnings.filterwarnings(\"ignore\")"
   ]
  },
  {
   "cell_type": "code",
   "execution_count": 2,
   "metadata": {},
   "outputs": [],
   "source": [
    "path = \"../data/Posts.xml\"\n",
    "posts = pd.read_xml(path, parser=\"etree\")"
   ]
  },
  {
   "cell_type": "code",
   "execution_count": 3,
   "metadata": {},
   "outputs": [
    {
     "data": {
      "text/plain": [
       "(244066, 22)"
      ]
     },
     "execution_count": 3,
     "metadata": {},
     "output_type": "execute_result"
    }
   ],
   "source": [
    "posts.shape"
   ]
  },
  {
   "cell_type": "code",
   "execution_count": 4,
   "metadata": {},
   "outputs": [
    {
     "data": {
      "text/html": [
       "<div>\n",
       "<style scoped>\n",
       "    .dataframe tbody tr th:only-of-type {\n",
       "        vertical-align: middle;\n",
       "    }\n",
       "\n",
       "    .dataframe tbody tr th {\n",
       "        vertical-align: top;\n",
       "    }\n",
       "\n",
       "    .dataframe thead th {\n",
       "        text-align: right;\n",
       "    }\n",
       "</style>\n",
       "<table border=\"1\" class=\"dataframe\">\n",
       "  <thead>\n",
       "    <tr style=\"text-align: right;\">\n",
       "      <th></th>\n",
       "      <th>Id</th>\n",
       "      <th>PostTypeId</th>\n",
       "      <th>AcceptedAnswerId</th>\n",
       "      <th>CreationDate</th>\n",
       "      <th>Score</th>\n",
       "      <th>ViewCount</th>\n",
       "      <th>Body</th>\n",
       "      <th>OwnerUserId</th>\n",
       "      <th>LastEditorUserId</th>\n",
       "      <th>LastEditDate</th>\n",
       "      <th>...</th>\n",
       "      <th>Tags</th>\n",
       "      <th>AnswerCount</th>\n",
       "      <th>CommentCount</th>\n",
       "      <th>ClosedDate</th>\n",
       "      <th>CommunityOwnedDate</th>\n",
       "      <th>ContentLicense</th>\n",
       "      <th>ParentId</th>\n",
       "      <th>OwnerDisplayName</th>\n",
       "      <th>LastEditorDisplayName</th>\n",
       "      <th>FavoriteCount</th>\n",
       "    </tr>\n",
       "  </thead>\n",
       "  <tbody>\n",
       "    <tr>\n",
       "      <th>110476</th>\n",
       "      <td>210377</td>\n",
       "      <td>2</td>\n",
       "      <td>NaN</td>\n",
       "      <td>2013-09-04T03:10:49.250</td>\n",
       "      <td>1</td>\n",
       "      <td>NaN</td>\n",
       "      <td>&lt;p&gt;It is easier to bust things out and re-use ...</td>\n",
       "      <td>27161.0</td>\n",
       "      <td>NaN</td>\n",
       "      <td>None</td>\n",
       "      <td>...</td>\n",
       "      <td>None</td>\n",
       "      <td>NaN</td>\n",
       "      <td>0</td>\n",
       "      <td>None</td>\n",
       "      <td>None</td>\n",
       "      <td>CC BY-SA 3.0</td>\n",
       "      <td>210372.0</td>\n",
       "      <td>None</td>\n",
       "      <td>None</td>\n",
       "      <td>NaN</td>\n",
       "    </tr>\n",
       "  </tbody>\n",
       "</table>\n",
       "<p>1 rows × 22 columns</p>\n",
       "</div>"
      ],
      "text/plain": [
       "            Id  PostTypeId  AcceptedAnswerId             CreationDate  Score  \\\n",
       "110476  210377           2               NaN  2013-09-04T03:10:49.250      1   \n",
       "\n",
       "        ViewCount                                               Body  \\\n",
       "110476        NaN  <p>It is easier to bust things out and re-use ...   \n",
       "\n",
       "        OwnerUserId  LastEditorUserId LastEditDate  ...  Tags AnswerCount  \\\n",
       "110476      27161.0               NaN         None  ...  None         NaN   \n",
       "\n",
       "       CommentCount  ClosedDate  CommunityOwnedDate ContentLicense  ParentId  \\\n",
       "110476            0        None                None   CC BY-SA 3.0  210372.0   \n",
       "\n",
       "       OwnerDisplayName  LastEditorDisplayName FavoriteCount  \n",
       "110476             None                   None           NaN  \n",
       "\n",
       "[1 rows x 22 columns]"
      ]
     },
     "execution_count": 4,
     "metadata": {},
     "output_type": "execute_result"
    }
   ],
   "source": [
    "posts.sample(1)"
   ]
  },
  {
   "cell_type": "code",
   "execution_count": 5,
   "metadata": {},
   "outputs": [
    {
     "data": {
      "text/plain": [
       "Index(['Id', 'PostTypeId', 'AcceptedAnswerId', 'CreationDate', 'Score',\n",
       "       'ViewCount', 'Body', 'OwnerUserId', 'LastEditorUserId', 'LastEditDate',\n",
       "       'LastActivityDate', 'Title', 'Tags', 'AnswerCount', 'CommentCount',\n",
       "       'ClosedDate', 'CommunityOwnedDate', 'ContentLicense', 'ParentId',\n",
       "       'OwnerDisplayName', 'LastEditorDisplayName', 'FavoriteCount'],\n",
       "      dtype='object')"
      ]
     },
     "execution_count": 5,
     "metadata": {},
     "output_type": "execute_result"
    }
   ],
   "source": [
    "posts.columns"
   ]
  },
  {
   "cell_type": "markdown",
   "metadata": {},
   "source": [
    "The column ```Body``` is a raw HTML code. Before applying any model, we need to clean it from redundant tags.\n",
    "\n",
    "For this, we will use a library ```BeautifulSoup```"
   ]
  },
  {
   "cell_type": "code",
   "execution_count": 6,
   "metadata": {},
   "outputs": [],
   "source": [
    "posts = posts.dropna(subset=[\"Body\"], axis=0) # next cell won't work otherwise"
   ]
  },
  {
   "cell_type": "code",
   "execution_count": 7,
   "metadata": {},
   "outputs": [],
   "source": [
    "from bs4 import BeautifulSoup\n",
    "\n",
    "def html_to_str(row_html: str) -> str:\n",
    "    soup = BeautifulSoup(row_html, \"html.parser\")\n",
    "    return soup.get_text(separator=' ')\n",
    "\n",
    "posts[\"Body\"] = posts[\"Body\"].apply(html_to_str)"
   ]
  },
  {
   "cell_type": "markdown",
   "metadata": {},
   "source": [
    "Most columns are of no value. We will keep only those that are potentilly useful."
   ]
  },
  {
   "cell_type": "code",
   "execution_count": 8,
   "metadata": {},
   "outputs": [],
   "source": [
    "columns_to_keep = [\"Body\", \"ViewCount\", \"CreationDate\", \"PostTypeId\", \"Score\", \"Tags\", \"Title\"]\n",
    "posts = posts[columns_to_keep]"
   ]
  },
  {
   "cell_type": "code",
   "execution_count": 9,
   "metadata": {},
   "outputs": [],
   "source": [
    "# posts = posts[posts.CreationDate >= ...] # may be useful\n",
    "questions = posts[posts.PostTypeId == 1]\n",
    "answers = posts[posts.PostTypeId == 2]"
   ]
  },
  {
   "cell_type": "markdown",
   "metadata": {},
   "source": [
    "### Predict question ```Score``` based on the ```Body```'s embedding"
   ]
  },
  {
   "cell_type": "code",
   "execution_count": 10,
   "metadata": {},
   "outputs": [],
   "source": [
    "questions_subset = questions.copy()[:10_000]"
   ]
  },
  {
   "cell_type": "code",
   "execution_count": 11,
   "metadata": {},
   "outputs": [],
   "source": [
    "from sklearn.linear_model import LinearRegression\n",
    "from sklearn.model_selection import train_test_split\n",
    "from sklearn.metrics import mean_absolute_error\n",
    "\n",
    "from sentence_transformers import SentenceTransformer\n",
    "\n",
    "import numpy as np\n",
    "\n",
    "from tqdm import tqdm\n",
    "tqdm.pandas()"
   ]
  },
  {
   "cell_type": "code",
   "execution_count": 12,
   "metadata": {},
   "outputs": [],
   "source": [
    "# Embedder models\n",
    "models = {\n",
    "    'Albert': 'paraphrase-albert-small-v2',\n",
    "    'Roberta': 'all-distilroberta-v1',\n",
    "    'DistilBert': 'multi-qa-distilbert-cos-v1',\n",
    "    'MiniLM1': 'all-MiniLM-L6-v2',\n",
    "    'MiniLM2': 'all-MiniLM-L12-v2',\n",
    "    'MiniLM3': 'paraphrase-MiniLM-L3-v2'\n",
    "}"
   ]
  },
  {
   "cell_type": "code",
   "execution_count": 13,
   "metadata": {},
   "outputs": [],
   "source": [
    "bodies = questions_subset[\"Body\"].tolist()\n",
    "y = questions_subset[\"Score\"].values\n",
    "train_bodies, test_bodies, y_train, y_test = train_test_split(bodies, y, test_size=0.2, random_state=1200)"
   ]
  },
  {
   "cell_type": "code",
   "execution_count": 14,
   "metadata": {},
   "outputs": [],
   "source": [
    "def estimate_embedder(model_name: str, batch_size: int = 32) -> float:\n",
    "    \"\"\"\n",
    "    Estimates the performance of a linear regression model using embeddings\n",
    "    generated by a specified SentenceTransformer model from Hugging Face.\n",
    "\n",
    "    Args:\n",
    "        model_name (str): The name of the model to be used for generating embeddings.\n",
    "        batch_size (int): Batch size.\n",
    "\n",
    "    Returns:\n",
    "        float: The Mean Absolute Error (MAE) of the linear regression model\n",
    "               on the test set.\n",
    "    \"\"\"\n",
    "    # Download a model from Hugging Face using its name\n",
    "    selected_model = models[model_name]\n",
    "    embedder = SentenceTransformer(selected_model)                \n",
    "\n",
    "    X_train = [embedder.encode(body) for body in tqdm(train_bodies, desc=f\"Encoding posts with {model_name}\")]\n",
    "    X_train = np.array(X_train)\n",
    "\n",
    "    # Create and fit a simple linear regression model\n",
    "    regressor = LinearRegression()\n",
    "    regressor.fit(X_train, y_train)\n",
    "\n",
    "    X_test = [embedder.encode(body) for body in tqdm(test_bodies, desc=f\"Encoding posts with {model_name}\")]\n",
    "    X_test = np.array(X_test)\n",
    "\n",
    "    y_pred = regressor.predict(X_test)\n",
    "    return mean_absolute_error(y_test, y_pred)"
   ]
  },
  {
   "cell_type": "code",
   "execution_count": 15,
   "metadata": {},
   "outputs": [
    {
     "name": "stderr",
     "output_type": "stream",
     "text": [
      "Encoding posts with Albert: 100%|██████████| 8000/8000 [10:28<00:00, 12.72it/s]\n",
      "Encoding posts with Albert: 100%|██████████| 2000/2000 [02:23<00:00, 13.98it/s]\n",
      "Encoding posts with Roberta: 100%|██████████| 8000/8000 [21:58<00:00,  6.07it/s]  \n",
      "Encoding posts with Roberta: 100%|██████████| 2000/2000 [05:28<00:00,  6.09it/s]\n",
      "Encoding posts with DistilBert: 100%|██████████| 8000/8000 [22:08<00:00,  6.02it/s]\n",
      "Encoding posts with DistilBert: 100%|██████████| 2000/2000 [05:18<00:00,  6.29it/s]\n",
      "Encoding posts with MiniLM1: 100%|██████████| 8000/8000 [06:08<00:00, 21.69it/s]\n",
      "Encoding posts with MiniLM1: 100%|██████████| 2000/2000 [01:33<00:00, 21.46it/s]\n",
      "Encoding posts with MiniLM2: 100%|██████████| 8000/8000 [09:44<00:00, 13.68it/s]\n",
      "Encoding posts with MiniLM2: 100%|██████████| 2000/2000 [02:07<00:00, 15.65it/s]\n",
      "Encoding posts with MiniLM3: 100%|██████████| 8000/8000 [02:59<00:00, 44.44it/s]\n",
      "Encoding posts with MiniLM3: 100%|██████████| 2000/2000 [00:34<00:00, 58.01it/s]\n"
     ]
    }
   ],
   "source": [
    "models_mae = []\n",
    "for model in models:\n",
    "    mae = round(estimate_embedder(model_name=model), 3)\n",
    "    models_mae.append({\"model\": model, \"mae\": mae})"
   ]
  },
  {
   "cell_type": "code",
   "execution_count": 16,
   "metadata": {},
   "outputs": [
    {
     "name": "stdout",
     "output_type": "stream",
     "text": [
      "MODEL=Albert, MAE=21.198\n",
      "MODEL=Roberta, MAE=20.627\n",
      "MODEL=DistilBert, MAE=20.812\n",
      "MODEL=MiniLM1, MAE=19.32\n",
      "MODEL=MiniLM2, MAE=18.792\n",
      "MODEL=MiniLM3, MAE=19.112\n"
     ]
    }
   ],
   "source": [
    "for model_mae in models_mae:\n",
    "    print(f\"MODEL={model_mae['model']}, MAE={model_mae['mae']}\")"
   ]
  },
  {
   "cell_type": "code",
   "execution_count": null,
   "metadata": {},
   "outputs": [],
   "source": []
  }
 ],
 "metadata": {
  "kernelspec": {
   "display_name": ".venv",
   "language": "python",
   "name": "python3"
  },
  "language_info": {
   "codemirror_mode": {
    "name": "ipython",
    "version": 3
   },
   "file_extension": ".py",
   "mimetype": "text/x-python",
   "name": "python",
   "nbconvert_exporter": "python",
   "pygments_lexer": "ipython3",
   "version": "3.11.7"
  }
 },
 "nbformat": 4,
 "nbformat_minor": 2
}

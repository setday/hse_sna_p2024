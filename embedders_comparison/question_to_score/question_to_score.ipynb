{
 "cells": [
  {
   "cell_type": "code",
   "execution_count": 1,
   "metadata": {},
   "outputs": [],
   "source": [
    "import sys\n",
    "sys.path.append(\"../..\") # to make utils importable"
   ]
  },
  {
   "cell_type": "code",
   "execution_count": 2,
   "metadata": {},
   "outputs": [],
   "source": [
    "import pandas as pd\n",
    "import warnings\n",
    "from utils.data_loader import load_dataset\n",
    "from bs4 import BeautifulSoup\n",
    "warnings.filterwarnings(\"ignore\")"
   ]
  },
  {
   "cell_type": "code",
   "execution_count": 3,
   "metadata": {},
   "outputs": [
    {
     "name": "stdout",
     "output_type": "stream",
     "text": [
      "Data loaded\n"
     ]
    },
    {
     "data": {
      "text/plain": [
       "(244066, 22)"
      ]
     },
     "execution_count": 3,
     "metadata": {},
     "output_type": "execute_result"
    }
   ],
   "source": [
    "posts = load_dataset(filepath=\"../../data/Posts.xml\")\n",
    "posts.shape"
   ]
  },
  {
   "cell_type": "code",
   "execution_count": 4,
   "metadata": {},
   "outputs": [
    {
     "data": {
      "text/html": [
       "<div>\n",
       "<style scoped>\n",
       "    .dataframe tbody tr th:only-of-type {\n",
       "        vertical-align: middle;\n",
       "    }\n",
       "\n",
       "    .dataframe tbody tr th {\n",
       "        vertical-align: top;\n",
       "    }\n",
       "\n",
       "    .dataframe thead th {\n",
       "        text-align: right;\n",
       "    }\n",
       "</style>\n",
       "<table border=\"1\" class=\"dataframe\">\n",
       "  <thead>\n",
       "    <tr style=\"text-align: right;\">\n",
       "      <th></th>\n",
       "      <th>Id</th>\n",
       "      <th>PostTypeId</th>\n",
       "      <th>AcceptedAnswerId</th>\n",
       "      <th>CreationDate</th>\n",
       "      <th>Score</th>\n",
       "      <th>ViewCount</th>\n",
       "      <th>Body</th>\n",
       "      <th>OwnerUserId</th>\n",
       "      <th>LastEditorUserId</th>\n",
       "      <th>LastEditDate</th>\n",
       "      <th>...</th>\n",
       "      <th>Tags</th>\n",
       "      <th>AnswerCount</th>\n",
       "      <th>CommentCount</th>\n",
       "      <th>ClosedDate</th>\n",
       "      <th>CommunityOwnedDate</th>\n",
       "      <th>ContentLicense</th>\n",
       "      <th>ParentId</th>\n",
       "      <th>OwnerDisplayName</th>\n",
       "      <th>LastEditorDisplayName</th>\n",
       "      <th>FavoriteCount</th>\n",
       "    </tr>\n",
       "  </thead>\n",
       "  <tbody>\n",
       "    <tr>\n",
       "      <th>19024</th>\n",
       "      <td>45370</td>\n",
       "      <td>2</td>\n",
       "      <td>NaN</td>\n",
       "      <td>2011-02-08T08:50:26.887</td>\n",
       "      <td>1</td>\n",
       "      <td>NaN</td>\n",
       "      <td>&lt;p&gt;I don't take your arguments: &lt;/p&gt;\\n\\n&lt;block...</td>\n",
       "      <td>16349.0</td>\n",
       "      <td>NaN</td>\n",
       "      <td>None</td>\n",
       "      <td>...</td>\n",
       "      <td>None</td>\n",
       "      <td>NaN</td>\n",
       "      <td>2</td>\n",
       "      <td>None</td>\n",
       "      <td>None</td>\n",
       "      <td>CC BY-SA 2.5</td>\n",
       "      <td>45150.0</td>\n",
       "      <td>None</td>\n",
       "      <td>None</td>\n",
       "      <td>NaN</td>\n",
       "    </tr>\n",
       "  </tbody>\n",
       "</table>\n",
       "<p>1 rows × 22 columns</p>\n",
       "</div>"
      ],
      "text/plain": [
       "          Id  PostTypeId  AcceptedAnswerId             CreationDate  Score  \\\n",
       "19024  45370           2               NaN  2011-02-08T08:50:26.887      1   \n",
       "\n",
       "       ViewCount                                               Body  \\\n",
       "19024        NaN  <p>I don't take your arguments: </p>\\n\\n<block...   \n",
       "\n",
       "       OwnerUserId  LastEditorUserId LastEditDate  ...  Tags AnswerCount  \\\n",
       "19024      16349.0               NaN         None  ...  None         NaN   \n",
       "\n",
       "      CommentCount  ClosedDate  CommunityOwnedDate ContentLicense ParentId  \\\n",
       "19024            2        None                None   CC BY-SA 2.5  45150.0   \n",
       "\n",
       "      OwnerDisplayName  LastEditorDisplayName FavoriteCount  \n",
       "19024             None                   None           NaN  \n",
       "\n",
       "[1 rows x 22 columns]"
      ]
     },
     "execution_count": 4,
     "metadata": {},
     "output_type": "execute_result"
    }
   ],
   "source": [
    "posts.sample(1)"
   ]
  },
  {
   "cell_type": "code",
   "execution_count": 5,
   "metadata": {},
   "outputs": [
    {
     "data": {
      "text/plain": [
       "Index(['Id', 'PostTypeId', 'AcceptedAnswerId', 'CreationDate', 'Score',\n",
       "       'ViewCount', 'Body', 'OwnerUserId', 'LastEditorUserId', 'LastEditDate',\n",
       "       'LastActivityDate', 'Title', 'Tags', 'AnswerCount', 'CommentCount',\n",
       "       'ClosedDate', 'CommunityOwnedDate', 'ContentLicense', 'ParentId',\n",
       "       'OwnerDisplayName', 'LastEditorDisplayName', 'FavoriteCount'],\n",
       "      dtype='object')"
      ]
     },
     "execution_count": 5,
     "metadata": {},
     "output_type": "execute_result"
    }
   ],
   "source": [
    "posts.columns"
   ]
  },
  {
   "cell_type": "markdown",
   "metadata": {},
   "source": [
    "The column ```Body``` is a raw HTML code. Before applying any model, we need to clean it from redundant tags.\n",
    "\n",
    "For this, we will use a library ```BeautifulSoup```"
   ]
  },
  {
   "cell_type": "code",
   "execution_count": 6,
   "metadata": {},
   "outputs": [],
   "source": [
    "posts = posts.dropna(subset=[\"Body\"], axis=0) # next cell won't work otherwise"
   ]
  },
  {
   "cell_type": "code",
   "execution_count": 7,
   "metadata": {},
   "outputs": [],
   "source": [
    "def html_to_str(row_html: str) -> str:\n",
    "    soup = BeautifulSoup(row_html, \"html.parser\")\n",
    "    return soup.get_text(separator=' ')\n",
    "\n",
    "posts[\"Body\"] = posts[\"Body\"].apply(html_to_str)"
   ]
  },
  {
   "cell_type": "markdown",
   "metadata": {},
   "source": [
    "Most columns are of no value. We will keep only those that are potentilly useful."
   ]
  },
  {
   "cell_type": "code",
   "execution_count": 8,
   "metadata": {},
   "outputs": [],
   "source": [
    "columns_to_keep = [\"Body\", \"ViewCount\", \"CreationDate\", \"PostTypeId\", \"Score\", \"Tags\", \"Title\"]\n",
    "posts = posts[columns_to_keep]"
   ]
  },
  {
   "cell_type": "code",
   "execution_count": 9,
   "metadata": {},
   "outputs": [],
   "source": [
    "# posts = posts[posts.CreationDate >= ...] # may be useful\n",
    "questions = posts[posts.PostTypeId == 1]\n",
    "answers = posts[posts.PostTypeId == 2]"
   ]
  },
  {
   "cell_type": "markdown",
   "metadata": {},
   "source": [
    "### Predict question ```Score``` based on the ```Body```'s embedding"
   ]
  },
  {
   "cell_type": "code",
   "execution_count": 10,
   "metadata": {},
   "outputs": [],
   "source": [
    "questions_subset = questions.copy()[:10_000]"
   ]
  },
  {
   "cell_type": "code",
   "execution_count": 11,
   "metadata": {},
   "outputs": [],
   "source": [
    "from sklearn.linear_model import LinearRegression\n",
    "from sklearn.model_selection import train_test_split\n",
    "from sklearn.metrics import mean_absolute_error\n",
    "\n",
    "from sentence_transformers import SentenceTransformer\n",
    "\n",
    "import numpy as np\n",
    "\n",
    "from utils.consts import EMBEDDERS\n",
    "\n",
    "from tqdm import tqdm\n",
    "tqdm.pandas()"
   ]
  },
  {
   "cell_type": "code",
   "execution_count": 12,
   "metadata": {},
   "outputs": [],
   "source": [
    "bodies = questions_subset[\"Body\"].tolist()\n",
    "y = questions_subset[\"Score\"].values\n",
    "train_bodies, test_bodies, y_train, y_test = train_test_split(bodies, y, test_size=0.2, random_state=1200)"
   ]
  },
  {
   "cell_type": "code",
   "execution_count": 13,
   "metadata": {},
   "outputs": [],
   "source": [
    "def estimate_embedder(model_name: str) -> float:\n",
    "    \"\"\"\n",
    "    Estimates the performance of a linear regression model using embeddings\n",
    "    generated by a specified SentenceTransformer model from Hugging Face.\n",
    "\n",
    "    Args:\n",
    "        model_name (str): The name of the model to be used for generating embeddings.\n",
    "\n",
    "    Returns:\n",
    "        float: The Mean Absolute Error (MAE) of the linear regression model\n",
    "               on the test set.\n",
    "    \"\"\"\n",
    "    # Download a model from Hugging Face using its name\n",
    "    selected_model = EMBEDDERS[model_name]\n",
    "    embedder = SentenceTransformer(selected_model)                \n",
    "\n",
    "    X_train = [embedder.encode(body) for body in tqdm(train_bodies, desc=f\"Encoding posts with {model_name}\")]\n",
    "    X_train = np.array(X_train)\n",
    "\n",
    "    # Create and fit a simple linear regression model\n",
    "    regressor = LinearRegression()\n",
    "    regressor.fit(X_train, y_train)\n",
    "\n",
    "    X_test = [embedder.encode(body) for body in tqdm(test_bodies, desc=f\"Encoding posts with {model_name}\")]\n",
    "    X_test = np.array(X_test)\n",
    "\n",
    "    y_pred = regressor.predict(X_test)\n",
    "    return mean_absolute_error(y_test, y_pred)"
   ]
  },
  {
   "cell_type": "code",
   "execution_count": 14,
   "metadata": {},
   "outputs": [
    {
     "name": "stderr",
     "output_type": "stream",
     "text": [
      "Encoding posts with Albert: 100%|██████████| 8000/8000 [09:59<00:00, 13.34it/s]\n",
      "Encoding posts with Albert: 100%|██████████| 2000/2000 [02:12<00:00, 15.10it/s]\n"
     ]
    },
    {
     "name": "stdout",
     "output_type": "stream",
     "text": [
      "model='Albert' mae=np.float64(21.198)\n"
     ]
    },
    {
     "name": "stderr",
     "output_type": "stream",
     "text": [
      "Encoding posts with Roberta: 100%|██████████| 8000/8000 [17:07<00:00,  7.79it/s]\n",
      "Encoding posts with Roberta: 100%|██████████| 2000/2000 [03:46<00:00,  8.82it/s]\n"
     ]
    },
    {
     "name": "stdout",
     "output_type": "stream",
     "text": [
      "model='Roberta' mae=np.float64(20.627)\n"
     ]
    },
    {
     "name": "stderr",
     "output_type": "stream",
     "text": [
      "Encoding posts with DistilBert: 100%|██████████| 8000/8000 [16:16<00:00,  8.19it/s]\n",
      "Encoding posts with DistilBert: 100%|██████████| 2000/2000 [04:23<00:00,  7.58it/s]\n"
     ]
    },
    {
     "name": "stdout",
     "output_type": "stream",
     "text": [
      "model='DistilBert' mae=np.float64(20.812)\n"
     ]
    },
    {
     "name": "stderr",
     "output_type": "stream",
     "text": [
      "Encoding posts with MiniLM1: 100%|██████████| 8000/8000 [05:11<00:00, 25.68it/s]\n",
      "Encoding posts with MiniLM1: 100%|██████████| 2000/2000 [01:08<00:00, 29.26it/s]\n"
     ]
    },
    {
     "name": "stdout",
     "output_type": "stream",
     "text": [
      "model='MiniLM1' mae=np.float64(19.32)\n"
     ]
    },
    {
     "name": "stderr",
     "output_type": "stream",
     "text": [
      "Encoding posts with MiniLM2: 100%|██████████| 8000/8000 [07:39<00:00, 17.40it/s]\n",
      "Encoding posts with MiniLM2: 100%|██████████| 2000/2000 [01:53<00:00, 17.63it/s]\n"
     ]
    },
    {
     "name": "stdout",
     "output_type": "stream",
     "text": [
      "model='MiniLM2' mae=np.float64(18.792)\n"
     ]
    },
    {
     "name": "stderr",
     "output_type": "stream",
     "text": [
      "Encoding posts with MiniLM3: 100%|██████████| 8000/8000 [02:13<00:00, 60.10it/s]\n",
      "Encoding posts with MiniLM3: 100%|██████████| 2000/2000 [00:34<00:00, 58.14it/s]"
     ]
    },
    {
     "name": "stdout",
     "output_type": "stream",
     "text": [
      "model='MiniLM3' mae=np.float64(19.112)\n"
     ]
    },
    {
     "name": "stderr",
     "output_type": "stream",
     "text": [
      "\n"
     ]
    }
   ],
   "source": [
    "models_mae = []\n",
    "for model in EMBEDDERS:\n",
    "    mae = round(estimate_embedder(model_name=model), 3)\n",
    "    models_mae.append({\"model\": model, \"mae\": mae})\n",
    "    print(f\"{model=} {mae=}\")"
   ]
  },
  {
   "cell_type": "code",
   "execution_count": null,
   "metadata": {},
   "outputs": [],
   "source": []
  }
 ],
 "metadata": {
  "kernelspec": {
   "display_name": ".venv",
   "language": "python",
   "name": "python3"
  },
  "language_info": {
   "codemirror_mode": {
    "name": "ipython",
    "version": 3
   },
   "file_extension": ".py",
   "mimetype": "text/x-python",
   "name": "python",
   "nbconvert_exporter": "python",
   "pygments_lexer": "ipython3",
   "version": "3.11.7"
  }
 },
 "nbformat": 4,
 "nbformat_minor": 2
}

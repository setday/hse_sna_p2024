{
 "cells": [
  {
   "cell_type": "code",
   "execution_count": 1,
   "metadata": {},
   "outputs": [],
   "source": [
    "import pandas as pd\n",
    "from lxml.etree import XMLParser, parse\n",
    "import warnings\n",
    "warnings.filterwarnings(\"ignore\")"
   ]
  },
  {
   "cell_type": "code",
   "execution_count": 2,
   "metadata": {},
   "outputs": [],
   "source": [
    "# Parse the XML file\n",
    "p = XMLParser(huge_tree=True)\n",
    "tree = parse('../data/Posts.xml', parser=p)"
   ]
  },
  {
   "cell_type": "code",
   "execution_count": 3,
   "metadata": {},
   "outputs": [],
   "source": [
    "# Extract elements from the XML tree\n",
    "root = tree.getroot()\n",
    "data = []\n",
    "\n",
    "for post in root.findall('row'):\n",
    "    data.append(post.attrib)\n",
    "\n",
    "# Conver to a pandas DataFrame\n",
    "posts = pd.DataFrame(data)"
   ]
  },
  {
   "cell_type": "code",
   "execution_count": 4,
   "metadata": {},
   "outputs": [
    {
     "data": {
      "text/plain": [
       "(112485, 22)"
      ]
     },
     "execution_count": 4,
     "metadata": {},
     "output_type": "execute_result"
    }
   ],
   "source": [
    "posts.shape"
   ]
  },
  {
   "cell_type": "code",
   "execution_count": 5,
   "metadata": {},
   "outputs": [
    {
     "data": {
      "text/html": [
       "<div>\n",
       "<style scoped>\n",
       "    .dataframe tbody tr th:only-of-type {\n",
       "        vertical-align: middle;\n",
       "    }\n",
       "\n",
       "    .dataframe tbody tr th {\n",
       "        vertical-align: top;\n",
       "    }\n",
       "\n",
       "    .dataframe thead th {\n",
       "        text-align: right;\n",
       "    }\n",
       "</style>\n",
       "<table border=\"1\" class=\"dataframe\">\n",
       "  <thead>\n",
       "    <tr style=\"text-align: right;\">\n",
       "      <th></th>\n",
       "      <th>AcceptedAnswerId</th>\n",
       "      <th>AnswerCount</th>\n",
       "      <th>Body</th>\n",
       "      <th>ClosedDate</th>\n",
       "      <th>CommentCount</th>\n",
       "      <th>CommunityOwnedDate</th>\n",
       "      <th>ContentLicense</th>\n",
       "      <th>CreationDate</th>\n",
       "      <th>FavoriteCount</th>\n",
       "      <th>Id</th>\n",
       "      <th>...</th>\n",
       "      <th>LastEditorDisplayName</th>\n",
       "      <th>LastEditorUserId</th>\n",
       "      <th>OwnerDisplayName</th>\n",
       "      <th>OwnerUserId</th>\n",
       "      <th>ParentId</th>\n",
       "      <th>PostTypeId</th>\n",
       "      <th>Score</th>\n",
       "      <th>Tags</th>\n",
       "      <th>Title</th>\n",
       "      <th>ViewCount</th>\n",
       "    </tr>\n",
       "  </thead>\n",
       "  <tbody>\n",
       "    <tr>\n",
       "      <th>0</th>\n",
       "      <td>57</td>\n",
       "      <td>2</td>\n",
       "      <td>&lt;p&gt;I've heard that I can get a lower interest ...</td>\n",
       "      <td>NaN</td>\n",
       "      <td>0</td>\n",
       "      <td>NaN</td>\n",
       "      <td>CC BY-SA 2.5</td>\n",
       "      <td>2009-10-06T03:02:46.713</td>\n",
       "      <td>0</td>\n",
       "      <td>2</td>\n",
       "      <td>...</td>\n",
       "      <td>admin</td>\n",
       "      <td>NaN</td>\n",
       "      <td>bms1</td>\n",
       "      <td>NaN</td>\n",
       "      <td>NaN</td>\n",
       "      <td>1</td>\n",
       "      <td>13</td>\n",
       "      <td>|line-of-credit|</td>\n",
       "      <td>What's better: An unsecured line of credit, or...</td>\n",
       "      <td>837</td>\n",
       "    </tr>\n",
       "  </tbody>\n",
       "</table>\n",
       "<p>1 rows × 22 columns</p>\n",
       "</div>"
      ],
      "text/plain": [
       "  AcceptedAnswerId AnswerCount  \\\n",
       "0               57           2   \n",
       "\n",
       "                                                Body ClosedDate CommentCount  \\\n",
       "0  <p>I've heard that I can get a lower interest ...        NaN            0   \n",
       "\n",
       "  CommunityOwnedDate ContentLicense             CreationDate FavoriteCount Id  \\\n",
       "0                NaN   CC BY-SA 2.5  2009-10-06T03:02:46.713             0  2   \n",
       "\n",
       "   ... LastEditorDisplayName LastEditorUserId OwnerDisplayName OwnerUserId  \\\n",
       "0  ...                 admin              NaN             bms1         NaN   \n",
       "\n",
       "  ParentId PostTypeId Score              Tags  \\\n",
       "0      NaN          1    13  |line-of-credit|   \n",
       "\n",
       "                                               Title ViewCount  \n",
       "0  What's better: An unsecured line of credit, or...       837  \n",
       "\n",
       "[1 rows x 22 columns]"
      ]
     },
     "execution_count": 5,
     "metadata": {},
     "output_type": "execute_result"
    }
   ],
   "source": [
    "posts.head(1)"
   ]
  },
  {
   "cell_type": "code",
   "execution_count": 6,
   "metadata": {},
   "outputs": [
    {
     "data": {
      "text/plain": [
       "Index(['AcceptedAnswerId', 'AnswerCount', 'Body', 'ClosedDate', 'CommentCount',\n",
       "       'CommunityOwnedDate', 'ContentLicense', 'CreationDate', 'FavoriteCount',\n",
       "       'Id', 'LastActivityDate', 'LastEditDate', 'LastEditorDisplayName',\n",
       "       'LastEditorUserId', 'OwnerDisplayName', 'OwnerUserId', 'ParentId',\n",
       "       'PostTypeId', 'Score', 'Tags', 'Title', 'ViewCount'],\n",
       "      dtype='object')"
      ]
     },
     "execution_count": 6,
     "metadata": {},
     "output_type": "execute_result"
    }
   ],
   "source": [
    "posts.columns"
   ]
  },
  {
   "cell_type": "markdown",
   "metadata": {},
   "source": [
    "The column ```Body``` is a raw HTML code. Before applying any model, we need to clean it from redundant tags.\n",
    "\n",
    "For this, we will use a library ```BeautifulSoup```"
   ]
  },
  {
   "cell_type": "code",
   "execution_count": 7,
   "metadata": {},
   "outputs": [],
   "source": [
    "from bs4 import BeautifulSoup\n",
    "\n",
    "def html_to_str(row_html: str) -> str:\n",
    "    soup = BeautifulSoup(row_html, 'html.parser')\n",
    "    return soup.get_text(separator=' ')\n",
    "\n",
    "posts[\"Body\"] = posts[\"Body\"].apply(html_to_str)"
   ]
  },
  {
   "cell_type": "markdown",
   "metadata": {},
   "source": [
    "Most columns are of no value. We will keep only those that are potentilly useful."
   ]
  },
  {
   "cell_type": "code",
   "execution_count": 8,
   "metadata": {},
   "outputs": [],
   "source": [
    "columns_to_keep = ['Body', 'ViewCount', 'Score', 'Tags', 'Title']\n",
    "posts = posts[columns_to_keep]"
   ]
  },
  {
   "cell_type": "markdown",
   "metadata": {},
   "source": [
    "### Predict ```Score``` based on the ```Body```'s embedding"
   ]
  },
  {
   "cell_type": "code",
   "execution_count": 9,
   "metadata": {},
   "outputs": [],
   "source": [
    "posts_subset = posts.copy()\n",
    "posts_subset = posts_subset[0:10_000]"
   ]
  },
  {
   "cell_type": "code",
   "execution_count": 10,
   "metadata": {},
   "outputs": [],
   "source": [
    "from sklearn.linear_model import LinearRegression\n",
    "from sklearn.model_selection import train_test_split\n",
    "from sklearn.metrics import mean_absolute_error\n",
    "\n",
    "from sentence_transformers import SentenceTransformer\n",
    "\n",
    "import numpy as np"
   ]
  },
  {
   "cell_type": "code",
   "execution_count": 11,
   "metadata": {},
   "outputs": [],
   "source": [
    "from tqdm import tqdm\n",
    "tqdm.pandas()"
   ]
  },
  {
   "cell_type": "code",
   "execution_count": 12,
   "metadata": {},
   "outputs": [],
   "source": [
    "# Embedder models\n",
    "models = {\n",
    "    'Albert': 'paraphrase-albert-small-v2',\n",
    "    'Roberta': 'all-distilroberta-v1',\n",
    "    'DistilBert': 'multi-qa-distilbert-cos-v1',\n",
    "    'MiniLM1': 'all-MiniLM-L6-v2',\n",
    "    'MiniLM3': 'all-MiniLM-L12-v2',\n",
    "    'MiniLM4': 'paraphrase-MiniLM-L3-v2'\n",
    "}"
   ]
  },
  {
   "cell_type": "code",
   "execution_count": 13,
   "metadata": {},
   "outputs": [],
   "source": [
    "def estimate_embedder(model_name: str) -> float:\n",
    "    \"\"\"\n",
    "    Estimates the performance of a linear regression model using embeddings\n",
    "    generated by a specified SentenceTransformer model from Hugging Face.\n",
    "\n",
    "    Args:\n",
    "        model_name (str): The name of the model to be used for generating embeddings.\n",
    "\n",
    "    Returns:\n",
    "        float: The Mean Absolute Error (MAE) of the linear regression model\n",
    "               on the test set.\n",
    "    \"\"\"\n",
    "    # Download a model from Hugging Face using its name\n",
    "    selected_model = models[model_name]\n",
    "    embedder = SentenceTransformer(selected_model)\n",
    "\n",
    "    bodies = posts_subset['Body'].tolist()\n",
    "\n",
    "    X = []\n",
    "    for body in tqdm(bodies, desc=\"Encoding posts\"):\n",
    "        # Encode each 'body' and append it to X\n",
    "        encoded_body = embedder.encode(body)\n",
    "        X.append(encoded_body)\n",
    "\n",
    "    X = np.array(X)\n",
    "    y = posts_subset['Score'].values\n",
    "    X_train, X_test, y_train, y_test = train_test_split(X, y, test_size=0.2, random_state=1200)\n",
    "\n",
    "    # Create and fit a simple linear regression model\n",
    "    regressor = LinearRegression()\n",
    "    regressor.fit(X_train, y_train)\n",
    "    y_pred = regressor.predict(X_test)\n",
    "\n",
    "    # Evaluate model performance\n",
    "    MAE = mean_absolute_error(y_test, y_pred)\n",
    "    return MAE"
   ]
  },
  {
   "cell_type": "code",
   "execution_count": 14,
   "metadata": {},
   "outputs": [
    {
     "name": "stderr",
     "output_type": "stream",
     "text": [
      "Encoding posts: 100%|██████████| 10000/10000 [06:01<00:00, 27.69it/s]\n",
      "Encoding posts: 100%|██████████| 10000/10000 [09:25<00:00, 17.70it/s]\n",
      "Encoding posts: 100%|██████████| 10000/10000 [09:02<00:00, 18.43it/s]\n",
      "Encoding posts: 100%|██████████| 10000/10000 [02:45<00:00, 60.30it/s]\n",
      "Encoding posts: 100%|██████████| 10000/10000 [04:06<00:00, 40.54it/s]\n",
      "Encoding posts: 100%|██████████| 10000/10000 [01:13<00:00, 136.95it/s]\n"
     ]
    }
   ],
   "source": [
    "models_mae = []\n",
    "for model in models.keys():\n",
    "    mae = round(estimate_embedder(model_name=model), 3)\n",
    "    models_mae.append({\"model\": model, \"mae\": mae})"
   ]
  },
  {
   "cell_type": "code",
   "execution_count": 15,
   "metadata": {},
   "outputs": [
    {
     "name": "stdout",
     "output_type": "stream",
     "text": [
      "MODEL=Albert, MAE=5.392\n",
      "MODEL=Roberta, MAE=5.219\n",
      "MODEL=DistilBert, MAE=5.2\n",
      "MODEL=MiniLM1, MAE=5.229\n",
      "MODEL=MiniLM3, MAE=4.857\n",
      "MODEL=MiniLM4, MAE=5.053\n"
     ]
    }
   ],
   "source": [
    "for model_mae in models_mae:\n",
    "    print(f\"MODEL={model_mae[\"model\"]}, MAE={model_mae[\"mae\"]}\")"
   ]
  }
 ],
 "metadata": {
  "kernelspec": {
   "display_name": ".venv",
   "language": "python",
   "name": "python3"
  },
  "language_info": {
   "codemirror_mode": {
    "name": "ipython",
    "version": 3
   },
   "file_extension": ".py",
   "mimetype": "text/x-python",
   "name": "python",
   "nbconvert_exporter": "python",
   "pygments_lexer": "ipython3",
   "version": "3.12.3"
  }
 },
 "nbformat": 4,
 "nbformat_minor": 2
}
